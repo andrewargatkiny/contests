{
  "nbformat": 4,
  "nbformat_minor": 0,
  "metadata": {
    "colab": {
      "name": "ConvolutionalNN_taskMIPT.ipynb",
      "provenance": [],
      "collapsed_sections": [],
      "mount_file_id": "10mlQ9KuZ2mEw_FypK_CGobO5CHykMK2-",
      "authorship_tag": "ABX9TyNyNEEvmIekmt06Qyu8oanP",
      "include_colab_link": true
    },
    "kernelspec": {
      "name": "python3",
      "display_name": "Python 3"
    },
    "language_info": {
      "name": "python"
    },
    "accelerator": "GPU"
  },
  "cells": [
    {
      "cell_type": "markdown",
      "metadata": {
        "id": "view-in-github",
        "colab_type": "text"
      },
      "source": [
        "<a href=\"https://colab.research.google.com/github/andrewargatkiny/contests/blob/main/MIPT%20%26%20Rucode.net%20AI%20Festival%20entry%20challenge/ConvolutionalNN_taskMIPT.ipynb\" target=\"_parent\"><img src=\"https://colab.research.google.com/assets/colab-badge.svg\" alt=\"Open In Colab\"/></a>"
      ]
    },
    {
      "cell_type": "code",
      "metadata": {
        "id": "3MLLOlym9P_Q"
      },
      "source": [
        "from tensorflow.keras.models import Sequential\n",
        "from tensorflow.keras.layers import Dense, Activation, Conv2D, Flatten, Dropout, MaxPooling2D, BatchNormalization\n",
        "from tensorflow.keras.preprocessing.image import ImageDataGenerator\n",
        "from keras import regularizers, optimizers\n",
        "import os\n",
        "import numpy as np\n",
        "import matplotlib.pyplot as plt\n",
        "import pandas as pd"
      ],
      "execution_count": null,
      "outputs": []
    },
    {
      "cell_type": "code",
      "metadata": {
        "id": "NAvxUsO49hlX"
      },
      "source": [
        "! cp -r /content/drive/MyDrive/image_classification /content"
      ],
      "execution_count": null,
      "outputs": []
    },
    {
      "cell_type": "code",
      "metadata": {
        "id": "ypXrk--3HWBa"
      },
      "source": [
        "! unzip /content/image_classification/data.zip"
      ],
      "execution_count": null,
      "outputs": []
    },
    {
      "cell_type": "code",
      "metadata": {
        "colab": {
          "base_uri": "https://localhost:8080/"
        },
        "id": "CR4CnLxLC-2i",
        "outputId": "75dfc9d2-54cd-4881-ef5b-a757d9900051"
      },
      "source": [
        "!pwd"
      ],
      "execution_count": null,
      "outputs": [
        {
          "output_type": "stream",
          "name": "stdout",
          "text": [
            "/content\n"
          ]
        }
      ]
    },
    {
      "cell_type": "code",
      "metadata": {
        "colab": {
          "base_uri": "https://localhost:8080/"
        },
        "id": "g-Z9cGGDQI1h",
        "outputId": "9be2ceed-98fc-42b6-eae6-561d7cdb60d4"
      },
      "source": [
        "! ls /content/data/train/| wc -l"
      ],
      "execution_count": null,
      "outputs": [
        {
          "output_type": "stream",
          "name": "stdout",
          "text": [
            "2366\n"
          ]
        }
      ]
    },
    {
      "cell_type": "code",
      "metadata": {
        "colab": {
          "base_uri": "https://localhost:8080/"
        },
        "id": "viDO59sYFUyD",
        "outputId": "7da90d24-9188-4cf5-ebcc-85fa04770708"
      },
      "source": [
        "df_train = pd.read_csv('/content/image_classification/train.csv', dtype='string')\n",
        "datagen=ImageDataGenerator(rescale=1./255.,validation_split=0.1, rotation_range=15,\n",
        "        shear_range=0.2,\n",
        "        zoom_range=0.2,\n",
        "        horizontal_flip=True)\n",
        "train_generator=datagen.flow_from_dataframe(\n",
        "  dataframe=df_train,\n",
        "  directory=\"/content/data/train/\",\n",
        "  x_col=\"file_nm\",\n",
        "  y_col=\"label\",\n",
        "  subset=\"training\",\n",
        "  batch_size=32,\n",
        "  seed=45,\n",
        "  shuffle=True,\n",
        "  class_mode=\"categorical\",\n",
        "  target_size=(300,300))"
      ],
      "execution_count": null,
      "outputs": [
        {
          "output_type": "stream",
          "name": "stdout",
          "text": [
            "Found 2130 validated image filenames belonging to 4 classes.\n"
          ]
        }
      ]
    },
    {
      "cell_type": "code",
      "metadata": {
        "colab": {
          "base_uri": "https://localhost:8080/"
        },
        "id": "JMvbVqfC_itb",
        "outputId": "0797f6a9-e96a-482f-f6bd-277d5b8520d7"
      },
      "source": [
        "df_train.label.value_counts()"
      ],
      "execution_count": null,
      "outputs": [
        {
          "output_type": "execute_result",
          "data": {
            "text/plain": [
              "2    903\n",
              "1    538\n",
              "0    478\n",
              "3    447\n",
              "Name: label, dtype: Int64"
            ]
          },
          "metadata": {},
          "execution_count": 104
        }
      ]
    },
    {
      "cell_type": "code",
      "metadata": {
        "id": "uYucmhX1s_Ca"
      },
      "source": [
        ""
      ],
      "execution_count": null,
      "outputs": []
    },
    {
      "cell_type": "code",
      "metadata": {
        "colab": {
          "base_uri": "https://localhost:8080/"
        },
        "id": "TQFxz-H1KDUz",
        "outputId": "635ef29f-b0bc-42c8-a5e9-78d51a99ca98"
      },
      "source": [
        "validation_generator=datagen.flow_from_dataframe(\n",
        "  dataframe=df_train,\n",
        "  directory=\"/content/data/train/\",\n",
        "  x_col=\"file_nm\",\n",
        "  y_col=\"label\",\n",
        "  subset=\"validation\",\n",
        "  batch_size=32,\n",
        "  seed=42,\n",
        "  shuffle=True,\n",
        "  class_mode=\"categorical\",\n",
        "  target_size=(300,300))"
      ],
      "execution_count": null,
      "outputs": [
        {
          "output_type": "stream",
          "name": "stdout",
          "text": [
            "Found 236 validated image filenames belonging to 4 classes.\n"
          ]
        }
      ]
    },
    {
      "cell_type": "markdown",
      "metadata": {
        "id": "fx8-6QQfJCd5"
      },
      "source": [
        "## Pretrained EfficientNet instantiation (not very good results)\n",
        "Maybe due to dropout layer"
      ]
    },
    {
      "cell_type": "code",
      "metadata": {
        "id": "zNgYFabLQaCQ"
      },
      "source": [
        "from tensorflow.keras.models import Sequential\n",
        "from tensorflow.keras import layers\n",
        "from tensorflow.keras.applications import EfficientNetB3\n",
        "IMG_SIZE = 300\n",
        "NUM_CLASSES = 4\n",
        "def build_model(num_classes):\n",
        "    inputs = layers.Input(shape=(IMG_SIZE, IMG_SIZE, 3))\n",
        "    #x = img_augmentation(inputs)\n",
        "    model = EfficientNetB3(include_top=False, input_tensor=inputs, weights=\"imagenet\")\n",
        "\n",
        "    # Freeze the pretrained weights\n",
        "    model.trainable = False\n",
        "\n",
        "    # Rebuild top\n",
        "    x = layers.GlobalAveragePooling2D(name=\"avg_pool\")(model.output)\n",
        "    x = layers.BatchNormalization()(x)\n",
        "\n",
        "    top_dropout_rate = 0.2\n",
        "    x = layers.Dropout(top_dropout_rate, name=\"top_dropout\")(x)\n",
        "    outputs = layers.Dense(NUM_CLASSES, activation=\"softmax\", name=\"pred\")(x)\n",
        "\n",
        "    # Compile\n",
        "    model = tf.keras.Model(inputs, outputs, name=\"EfficientNet\")\n",
        "    optimizer = tf.keras.optimizers.Adam(learning_rate=1e-3)\n",
        "    model.compile(\n",
        "        optimizer=optimizer, loss=\"categorical_crossentropy\", metrics=[\"accuracy\"]\n",
        "    )\n",
        "    return model"
      ],
      "execution_count": null,
      "outputs": []
    },
    {
      "cell_type": "markdown",
      "metadata": {
        "id": "OraIKTAVJT1v"
      },
      "source": [
        "## Transfer learning with MobileNetV2 (95% accuracy on test set without tweaking)"
      ]
    },
    {
      "cell_type": "code",
      "metadata": {
        "id": "uovxdyG4ZhTo"
      },
      "source": [
        "from tensorflow.keras.models import Sequential\n",
        "from tensorflow.keras import layers\n",
        "from tensorflow.keras.applications import MobileNetV2\n",
        "IMG_SIZE = 300\n",
        "NUM_CLASSES = 4\n",
        "def build_model(num_classes):\n",
        "    inputs = layers.Input(shape=(None, None, 3))\n",
        "    #x = img_augmentation(inputs)\n",
        "    model = MobileNetV2(include_top=False, input_tensor=inputs, weights=\"imagenet\", \n",
        "                           alpha=0.35, classes=NUM_CLASSES)\n",
        "\n",
        "    # Freeze the pretrained weights\n",
        "    model.trainable = False\n",
        "\n",
        "    # Rebuild top\n",
        "    x = layers.GlobalAveragePooling2D(name=\"avg_pool\")(model.output)\n",
        "    x = layers.BatchNormalization()(x)\n",
        "\n",
        "    top_dropout_rate = 0.2\n",
        "    #x = layers.Dropout(top_dropout_rate, name=\"top_dropout\")(x)\n",
        "    outputs = layers.Dense(NUM_CLASSES, activation=\"softmax\", name=\"pred\")(x)\n",
        "\n",
        "    # Compile\n",
        "    model = tf.keras.Model(inputs, outputs, name=\"MobileNetV2\")\n",
        "    optimizer = tf.keras.optimizers.Adam(learning_rate=1e-3)\n",
        "    model.compile(\n",
        "        optimizer=optimizer, loss=\"categorical_crossentropy\", metrics=[\"accuracy\"]\n",
        "    )\n",
        "    return model"
      ],
      "execution_count": null,
      "outputs": []
    },
    {
      "cell_type": "code",
      "metadata": {
        "colab": {
          "base_uri": "https://localhost:8080/"
        },
        "id": "1RU6XzpkrzNv",
        "outputId": "11396447-ac5d-406b-af6e-92ea7d6a0f6b"
      },
      "source": [
        "with tf.device('/device:GPU:0'):\n",
        "  model3 = build_model(num_classes=NUM_CLASSES)\n",
        "\n",
        "  epochs = 10 \n",
        "  hist = model3.fit(train_generator, epochs=epochs, \n",
        "                  validation_data=validation_generator, \n",
        "                  verbose=2)"
      ],
      "execution_count": null,
      "outputs": [
        {
          "output_type": "stream",
          "name": "stdout",
          "text": [
            "WARNING:tensorflow:`input_shape` is undefined or non-square, or `rows` is not in [96, 128, 160, 192, 224]. Weights for input shape (224, 224) will be loaded as the default.\n",
            "Epoch 1/10\n",
            "67/67 - 85s - loss: 0.5752 - accuracy: 0.7817 - val_loss: 0.4320 - val_accuracy: 0.8517\n",
            "Epoch 2/10\n",
            "67/67 - 80s - loss: 0.2405 - accuracy: 0.9127 - val_loss: 0.3004 - val_accuracy: 0.9153\n",
            "Epoch 3/10\n",
            "67/67 - 80s - loss: 0.1957 - accuracy: 0.9286 - val_loss: 0.2637 - val_accuracy: 0.9153\n",
            "Epoch 4/10\n",
            "67/67 - 80s - loss: 0.1761 - accuracy: 0.9423 - val_loss: 0.2135 - val_accuracy: 0.9322\n",
            "Epoch 5/10\n",
            "67/67 - 80s - loss: 0.1550 - accuracy: 0.9423 - val_loss: 0.1858 - val_accuracy: 0.9449\n",
            "Epoch 6/10\n",
            "67/67 - 80s - loss: 0.1380 - accuracy: 0.9549 - val_loss: 0.2142 - val_accuracy: 0.9364\n",
            "Epoch 7/10\n",
            "67/67 - 81s - loss: 0.1384 - accuracy: 0.9521 - val_loss: 0.2158 - val_accuracy: 0.9449\n",
            "Epoch 8/10\n",
            "67/67 - 82s - loss: 0.1145 - accuracy: 0.9601 - val_loss: 0.1927 - val_accuracy: 0.9492\n",
            "Epoch 9/10\n",
            "67/67 - 81s - loss: 0.1195 - accuracy: 0.9582 - val_loss: 0.1662 - val_accuracy: 0.9407\n",
            "Epoch 10/10\n",
            "67/67 - 81s - loss: 0.1000 - accuracy: 0.9643 - val_loss: 0.1857 - val_accuracy: 0.9407\n"
          ]
        }
      ]
    },
    {
      "cell_type": "code",
      "metadata": {
        "colab": {
          "base_uri": "https://localhost:8080/"
        },
        "id": "y824em5KZi30",
        "outputId": "64347712-f9df-4504-d25d-8f50997711d6"
      },
      "source": [
        "from tensorflow.keras.models import save_model, load_model\n",
        "filepath = './saved_model2'\n",
        "save_model(model3, filepath)"
      ],
      "execution_count": null,
      "outputs": [
        {
          "output_type": "stream",
          "name": "stdout",
          "text": [
            "INFO:tensorflow:Assets written to: ./saved_model2/assets\n"
          ]
        },
        {
          "output_type": "stream",
          "name": "stderr",
          "text": [
            "/usr/local/lib/python3.7/dist-packages/keras/utils/generic_utils.py:497: CustomMaskWarning: Custom mask layers require a config and must override get_config. When loading, the custom mask layer must be passed to the custom_objects argument.\n",
            "  category=CustomMaskWarning)\n"
          ]
        }
      ]
    },
    {
      "cell_type": "code",
      "metadata": {
        "colab": {
          "base_uri": "https://localhost:8080/"
        },
        "id": "c4nX_0K_a4O5",
        "outputId": "c80b8051-d422-43d7-f977-23a9ed6be21f"
      },
      "source": [
        " !zip -r saved_model2.zip saved_model2/ \n"
      ],
      "execution_count": null,
      "outputs": [
        {
          "output_type": "stream",
          "name": "stdout",
          "text": [
            "  adding: saved_model2/ (stored 0%)\n",
            "  adding: saved_model2/variables/ (stored 0%)\n",
            "  adding: saved_model2/variables/variables.data-00000-of-00001 (deflated 11%)\n",
            "  adding: saved_model2/variables/variables.index (deflated 77%)\n",
            "  adding: saved_model2/saved_model.pb (deflated 92%)\n",
            "  adding: saved_model2/keras_metadata.pb (deflated 95%)\n",
            "  adding: saved_model2/assets/ (stored 0%)\n"
          ]
        }
      ]
    },
    {
      "cell_type": "code",
      "metadata": {
        "colab": {
          "base_uri": "https://localhost:8080/"
        },
        "id": "_eigOY0gdnTM",
        "outputId": "c9fd0fc3-3b18-44a3-df04-3941f9db49f9"
      },
      "source": [
        "from tensorflow.keras.preprocessing import image_dataset_from_directory\n",
        "test_ds= image_dataset_from_directory('/content/data/test/',\n",
        "                                              labels=None,\n",
        "                                              label_mode=None,\n",
        "                                             shuffle=False,\n",
        "                                            #rescale=1./255,\n",
        "                                             batch_size=32,\n",
        "                                             image_size=(300, 300))\n",
        "file_paths = test_ds.file_paths"
      ],
      "execution_count": null,
      "outputs": [
        {
          "output_type": "stream",
          "name": "stdout",
          "text": [
            "Found 2367 files belonging to 1 classes.\n"
          ]
        }
      ]
    },
    {
      "cell_type": "markdown",
      "metadata": {
        "id": "qtIN9im2KDiF"
      },
      "source": [
        "At first I made a mistake and didn't normalize the test images"
      ]
    },
    {
      "cell_type": "code",
      "metadata": {
        "id": "2p8GS-yAJVE0"
      },
      "source": [
        "list(test_ds.as_numpy_iterator())"
      ],
      "execution_count": null,
      "outputs": []
    },
    {
      "cell_type": "code",
      "metadata": {
        "colab": {
          "base_uri": "https://localhost:8080/"
        },
        "id": "bflrUNucKkhQ",
        "outputId": "bb82ae5d-cfd0-4991-9cdb-9ed1c43d1eb3"
      },
      "source": [
        "normalization_layer = tf.keras.layers.Rescaling(1./255)\n",
        "normalized_ds = test_ds.map(lambda x: normalization_layer(x))\n",
        "image_batch= next(iter(normalized_ds))\n",
        "first_image = image_batch[0]\n",
        "# Notice the pixel values are now in `[0,1]`.\n",
        "print(np.min(first_image), np.max(first_image))"
      ],
      "execution_count": null,
      "outputs": [
        {
          "output_type": "stream",
          "name": "stdout",
          "text": [
            "0.0027692826 1.0\n"
          ]
        }
      ]
    },
    {
      "cell_type": "code",
      "metadata": {
        "colab": {
          "base_uri": "https://localhost:8080/"
        },
        "id": "obdAOBbn1lcP",
        "outputId": "e69cada6-c677-4df2-acb3-9c602f8d66f0"
      },
      "source": [
        "datagen2=ImageDataGenerator(rescale=1./255.)\n",
        "test_generator=datagen2.flow_from_directory(\n",
        "  directory=\"/content/data/test/\",\n",
        "  class_mode=None,\n",
        "  batch_size=32,\n",
        "  shuffle=False,\n",
        "  target_size=(300,300))"
      ],
      "execution_count": null,
      "outputs": [
        {
          "output_type": "stream",
          "name": "stdout",
          "text": [
            "Found 0 images belonging to 0 classes.\n"
          ]
        }
      ]
    },
    {
      "cell_type": "code",
      "metadata": {
        "id": "Y_yAv9GxflZm"
      },
      "source": [
        "predictions = model3.predict(normalized_ds)"
      ],
      "execution_count": null,
      "outputs": []
    },
    {
      "cell_type": "code",
      "metadata": {
        "id": "gG4pjR50iSvK"
      },
      "source": [
        "preds_pd = pd.Series(np.argmax(predictions, axis=1), name='preds')\n",
        "preds_pd.to_csv('predictions4.csv', index=False, header=False)"
      ],
      "execution_count": null,
      "outputs": []
    },
    {
      "cell_type": "code",
      "metadata": {
        "colab": {
          "base_uri": "https://localhost:8080/"
        },
        "id": "t9QfIWbU--hd",
        "outputId": "9e49a807-4e08-4d61-fb10-ea2b46234116"
      },
      "source": [
        "predictions[:10]"
      ],
      "execution_count": null,
      "outputs": [
        {
          "output_type": "execute_result",
          "data": {
            "text/plain": [
              "array([[9.9753439e-01, 1.9057741e-03, 1.4211087e-05, 5.4569141e-04],\n",
              "       [9.9999750e-01, 4.0101224e-08, 7.2242322e-08, 2.3997270e-06],\n",
              "       [9.9953794e-01, 8.3297637e-06, 7.4252816e-06, 4.4633792e-04],\n",
              "       [9.8144698e-01, 4.9148733e-04, 4.6363762e-03, 1.3425182e-02],\n",
              "       [9.9720061e-01, 9.4031952e-07, 8.4367719e-05, 2.7140616e-03],\n",
              "       [9.9976498e-01, 9.5686701e-05, 8.2493816e-06, 1.3109753e-04],\n",
              "       [9.7165978e-01, 7.2329181e-07, 5.0299695e-05, 2.8289182e-02],\n",
              "       [5.9333670e-01, 1.4630714e-01, 1.8627925e-01, 7.4076906e-02],\n",
              "       [9.8673820e-01, 1.2157277e-06, 6.3197472e-06, 1.3254242e-02],\n",
              "       [9.9905819e-01, 3.1157239e-07, 3.6208805e-06, 9.3781116e-04]],\n",
              "      dtype=float32)"
            ]
          },
          "metadata": {},
          "execution_count": 140
        }
      ]
    },
    {
      "cell_type": "code",
      "metadata": {
        "colab": {
          "base_uri": "https://localhost:8080/"
        },
        "id": "EwP6Fky2zzKG",
        "outputId": "0f2c9b65-7ffe-4be9-d40b-cde8d982ee73"
      },
      "source": [
        "preds_pd.head(60)"
      ],
      "execution_count": null,
      "outputs": [
        {
          "output_type": "execute_result",
          "data": {
            "text/plain": [
              "0     0\n",
              "1     0\n",
              "2     0\n",
              "3     0\n",
              "4     0\n",
              "5     0\n",
              "6     0\n",
              "7     0\n",
              "8     0\n",
              "9     0\n",
              "10    0\n",
              "11    2\n",
              "12    0\n",
              "13    0\n",
              "14    3\n",
              "15    0\n",
              "16    0\n",
              "17    0\n",
              "18    0\n",
              "19    0\n",
              "20    0\n",
              "21    0\n",
              "22    1\n",
              "23    0\n",
              "24    1\n",
              "25    0\n",
              "26    1\n",
              "27    3\n",
              "28    0\n",
              "29    1\n",
              "30    1\n",
              "31    1\n",
              "32    0\n",
              "33    3\n",
              "34    3\n",
              "35    1\n",
              "36    3\n",
              "37    1\n",
              "38    0\n",
              "39    3\n",
              "40    0\n",
              "41    3\n",
              "42    3\n",
              "43    0\n",
              "44    3\n",
              "45    0\n",
              "46    3\n",
              "47    0\n",
              "48    0\n",
              "49    1\n",
              "50    0\n",
              "51    3\n",
              "52    0\n",
              "53    0\n",
              "54    0\n",
              "55    3\n",
              "56    0\n",
              "57    0\n",
              "58    0\n",
              "59    0\n",
              "Name: preds, dtype: int64"
            ]
          },
          "metadata": {},
          "execution_count": 100
        }
      ]
    },
    {
      "cell_type": "code",
      "metadata": {
        "colab": {
          "base_uri": "https://localhost:8080/"
        },
        "id": "ZFD-haHHgFL7",
        "outputId": "6a0c51bf-64bd-43c8-f1c4-577c143408d8"
      },
      "source": [
        "train_generator.class_indices"
      ],
      "execution_count": null,
      "outputs": [
        {
          "output_type": "execute_result",
          "data": {
            "text/plain": [
              "{'0': 0, '1': 1, '2': 2, '3': 3}"
            ]
          },
          "metadata": {},
          "execution_count": 83
        }
      ]
    },
    {
      "cell_type": "code",
      "metadata": {
        "colab": {
          "base_uri": "https://localhost:8080/",
          "height": 35
        },
        "id": "IJ4NYvQPRj1H",
        "outputId": "094d8219-42e4-4437-bb97-3b0206a11c57"
      },
      "source": [
        "tf.test.gpu_device_name()"
      ],
      "execution_count": null,
      "outputs": [
        {
          "output_type": "execute_result",
          "data": {
            "application/vnd.google.colaboratory.intrinsic+json": {
              "type": "string"
            },
            "text/plain": [
              "'/device:GPU:0'"
            ]
          },
          "metadata": {},
          "execution_count": 13
        }
      ]
    },
    {
      "cell_type": "markdown",
      "metadata": {
        "id": "Irkm7XEdkzTW"
      },
      "source": [
        "# Failed attempt to train CNN from scratch"
      ]
    },
    {
      "cell_type": "code",
      "metadata": {
        "colab": {
          "base_uri": "https://localhost:8080/"
        },
        "id": "uw3HdDdSR6J6",
        "outputId": "ad284b1e-8ee6-45ef-f473-7a4e16338013"
      },
      "source": [
        "import tensorflow as tf\n",
        "\n",
        "try:\n",
        "    tpu = tf.distribute.cluster_resolver.TPUClusterResolver.connect()\n",
        "    print(\"Device:\", tpu.master())\n",
        "    strategy = tf.distribute.TPUStrategy(tpu)\n",
        "except ValueError:\n",
        "    print(\"Not connected to a TPU runtime. Using CPU/GPU strategy\")\n",
        "    strategy = tf.distribute.MirroredStrategy()"
      ],
      "execution_count": null,
      "outputs": [
        {
          "output_type": "stream",
          "name": "stdout",
          "text": [
            "Not connected to a TPU runtime. Using CPU/GPU strategy\n",
            "INFO:tensorflow:Using MirroredStrategy with devices ('/job:localhost/replica:0/task:0/device:GPU:0',)\n"
          ]
        }
      ]
    },
    {
      "cell_type": "code",
      "metadata": {
        "id": "a0E5jKr4RvcA"
      },
      "source": [
        "from cloud_tpu_client import Client\n",
        "c = Client()\n",
        "c.configure_tpu_version(tf.__version__, restart_type=\"always\")"
      ],
      "execution_count": null,
      "outputs": []
    },
    {
      "cell_type": "code",
      "metadata": {
        "id": "yccRrAyco4uR"
      },
      "source": [
        "model2 = Sequential([\n",
        "  layers.Rescaling(1./255, input_shape=(300, 300, 3)),\n",
        "  layers.Conv2D(16, 3, padding='same', activation='relu'),\n",
        "  layers.MaxPooling2D(),\n",
        "  layers.Conv2D(32, 3, padding='same', activation='relu'),\n",
        "  layers.MaxPooling2D(),\n",
        "  layers.Conv2D(64, 3, padding='same', activation='relu'),\n",
        "  layers.MaxPooling2D(),\n",
        "  layers.Flatten(),\n",
        "  layers.Dense(128, activation='relu'),\n",
        "  layers.Dense(4)\n",
        "])\n",
        "with tf.device('/device:GPU:0'):\n",
        "  model2.compile(optimizer='adam',\n",
        "                loss=\"categorical_crossentropy\",\n",
        "                metrics=['accuracy'])\n",
        "  epochs = 25 \n",
        "  hist = model2.fit(train_generator, epochs=epochs, \n",
        "                  validation_data=validation_generator, \n",
        "                  verbose=2)"
      ],
      "execution_count": null,
      "outputs": []
    },
    {
      "cell_type": "code",
      "metadata": {
        "id": "g3R6GMURpaPt"
      },
      "source": [
        ""
      ],
      "execution_count": null,
      "outputs": []
    }
  ]
}