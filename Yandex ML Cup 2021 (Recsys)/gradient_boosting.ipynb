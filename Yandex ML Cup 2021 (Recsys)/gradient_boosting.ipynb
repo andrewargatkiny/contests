{
 "cells": [
  {
   "cell_type": "code",
   "execution_count": 1,
   "id": "c5e8e001",
   "metadata": {},
   "outputs": [],
   "source": [
    "import numpy as np\n",
    "import pandas as pd\n",
    "\n",
    "import matplotlib.pyplot as plt\n",
    "import seaborn as sns\n",
    "import lightgbm as lgb\n",
    "from scipy import sparse\n",
    "from tqdm.notebook import tqdm\n",
    "from metrics import MNAP_N, get_recall, print_score\n",
    "from utils import process_reviews\n",
    "\n",
    "%matplotlib inline"
   ]
  },
  {
   "cell_type": "markdown",
   "id": "440a6b1e",
   "metadata": {},
   "source": [
    "# Data preparation and augmentation"
   ]
  },
  {
   "cell_type": "markdown",
   "id": "9735fba5",
   "metadata": {},
   "source": [
    "## Считываем данные из .csv"
   ]
  },
  {
   "cell_type": "markdown",
   "id": "971fd078",
   "metadata": {},
   "source": [
    "Некоторые данные (такие как рубрики и признаки), представлены строками значений. Преобразуем их в списки чисел. "
   ]
  },
  {
   "cell_type": "code",
   "execution_count": 2,
   "id": "31c74a98",
   "metadata": {},
   "outputs": [],
   "source": [
    "to_list = lambda rubrics: [int(rubric) for rubric in str(rubrics).split(' ')]\n",
    "def apply_to_columns(df, columns, func=to_list):\n",
    "    for column in columns:\n",
    "        df.loc[~df[column].isnull(), column] = df.loc[~df[column].isnull(), column].apply(func)"
   ]
  },
  {
   "cell_type": "markdown",
   "id": "d9530423",
   "metadata": {},
   "source": [
    "В первую очередь нам понадобятся данные по __пользователям__, __организациям__ и сами __отзывы__. "
   ]
  },
  {
   "cell_type": "code",
   "execution_count": 3,
   "id": "b9065246",
   "metadata": {},
   "outputs": [
    {
     "data": {
      "text/html": [
       "<div>\n",
       "<style scoped>\n",
       "    .dataframe tbody tr th:only-of-type {\n",
       "        vertical-align: middle;\n",
       "    }\n",
       "\n",
       "    .dataframe tbody tr th {\n",
       "        vertical-align: top;\n",
       "    }\n",
       "\n",
       "    .dataframe thead th {\n",
       "        text-align: right;\n",
       "    }\n",
       "</style>\n",
       "<table border=\"1\" class=\"dataframe\">\n",
       "  <thead>\n",
       "    <tr style=\"text-align: right;\">\n",
       "      <th></th>\n",
       "      <th>user_id</th>\n",
       "      <th>city</th>\n",
       "      <th>new_user_id</th>\n",
       "    </tr>\n",
       "  </thead>\n",
       "  <tbody>\n",
       "    <tr>\n",
       "      <th>0</th>\n",
       "      <td>523295021912509756</td>\n",
       "      <td>msk</td>\n",
       "      <td>0</td>\n",
       "    </tr>\n",
       "    <tr>\n",
       "      <th>1</th>\n",
       "      <td>11952159487361099606</td>\n",
       "      <td>msk</td>\n",
       "      <td>1</td>\n",
       "    </tr>\n",
       "    <tr>\n",
       "      <th>2</th>\n",
       "      <td>16879036589969590999</td>\n",
       "      <td>msk</td>\n",
       "      <td>2</td>\n",
       "    </tr>\n",
       "    <tr>\n",
       "      <th>3</th>\n",
       "      <td>12791716990148606332</td>\n",
       "      <td>msk</td>\n",
       "      <td>3</td>\n",
       "    </tr>\n",
       "    <tr>\n",
       "      <th>4</th>\n",
       "      <td>11642393216024958726</td>\n",
       "      <td>msk</td>\n",
       "      <td>4</td>\n",
       "    </tr>\n",
       "  </tbody>\n",
       "</table>\n",
       "</div>"
      ],
      "text/plain": [
       "                user_id city  new_user_id\n",
       "0    523295021912509756  msk            0\n",
       "1  11952159487361099606  msk            1\n",
       "2  16879036589969590999  msk            2\n",
       "3  12791716990148606332  msk            3\n",
       "4  11642393216024958726  msk            4"
      ]
     },
     "execution_count": 3,
     "metadata": {},
     "output_type": "execute_result"
    }
   ],
   "source": [
    "users = pd.read_csv('data/users.csv')\n",
    "users['new_user_id'] = users.index\n",
    "users.head()\n"
   ]
  },
  {
   "cell_type": "code",
   "execution_count": 4,
   "metadata": {},
   "outputs": [
    {
     "data": {
      "text/plain": [
       "True"
      ]
     },
     "execution_count": 4,
     "metadata": {},
     "output_type": "execute_result"
    }
   ],
   "source": [
    "test_users = pd.read_csv('data/test_users.csv')\n",
    "test_users['user_id'].isin(users.user_id).all()"
   ]
  },
  {
   "cell_type": "code",
   "execution_count": 5,
   "id": "7206202b",
   "metadata": {},
   "outputs": [
    {
     "data": {
      "text/html": [
       "<div>\n",
       "<style scoped>\n",
       "    .dataframe tbody tr th:only-of-type {\n",
       "        vertical-align: middle;\n",
       "    }\n",
       "\n",
       "    .dataframe tbody tr th {\n",
       "        vertical-align: top;\n",
       "    }\n",
       "\n",
       "    .dataframe thead th {\n",
       "        text-align: right;\n",
       "    }\n",
       "</style>\n",
       "<table border=\"1\" class=\"dataframe\">\n",
       "  <thead>\n",
       "    <tr style=\"text-align: right;\">\n",
       "      <th></th>\n",
       "      <th>org_id</th>\n",
       "      <th>city</th>\n",
       "      <th>average_bill</th>\n",
       "      <th>rating</th>\n",
       "      <th>rubrics_id</th>\n",
       "      <th>features_id</th>\n",
       "      <th>new_org_id</th>\n",
       "    </tr>\n",
       "  </thead>\n",
       "  <tbody>\n",
       "    <tr>\n",
       "      <th>0</th>\n",
       "      <td>16848414477362211020</td>\n",
       "      <td>spb</td>\n",
       "      <td>1000.0</td>\n",
       "      <td>4.479702</td>\n",
       "      <td>[30776, 31375]</td>\n",
       "      <td>[1018, 1509, 11177, 11617, 11629, 11704, 11867...</td>\n",
       "      <td>0</td>\n",
       "    </tr>\n",
       "    <tr>\n",
       "      <th>1</th>\n",
       "      <td>1430604733320164116</td>\n",
       "      <td>spb</td>\n",
       "      <td>1000.0</td>\n",
       "      <td>4.514509</td>\n",
       "      <td>[30776, 30770]</td>\n",
       "      <td>[246, 1018, 11617, 11629, 11704, 11867, 20422,...</td>\n",
       "      <td>1</td>\n",
       "    </tr>\n",
       "    <tr>\n",
       "      <th>2</th>\n",
       "      <td>9880309324224147401</td>\n",
       "      <td>spb</td>\n",
       "      <td>1000.0</td>\n",
       "      <td>3.884615</td>\n",
       "      <td>[30770, 30774]</td>\n",
       "      <td>[1018, 11177, 11617, 11629, 11704, 11867, 2042...</td>\n",
       "      <td>2</td>\n",
       "    </tr>\n",
       "    <tr>\n",
       "      <th>3</th>\n",
       "      <td>5617879987171966456</td>\n",
       "      <td>spb</td>\n",
       "      <td>1000.0</td>\n",
       "      <td>NaN</td>\n",
       "      <td>[30774, 30775]</td>\n",
       "      <td>[1018, 1509, 10596, 11177, 11629, 11634, 11704...</td>\n",
       "      <td>3</td>\n",
       "    </tr>\n",
       "    <tr>\n",
       "      <th>4</th>\n",
       "      <td>5241461680470612149</td>\n",
       "      <td>spb</td>\n",
       "      <td>1000.0</td>\n",
       "      <td>4.532468</td>\n",
       "      <td>[30776]</td>\n",
       "      <td>[1018, 11177, 11617, 11629, 11704, 11867, 2042...</td>\n",
       "      <td>4</td>\n",
       "    </tr>\n",
       "  </tbody>\n",
       "</table>\n",
       "</div>"
      ],
      "text/plain": [
       "                 org_id city  average_bill    rating      rubrics_id  \\\n",
       "0  16848414477362211020  spb        1000.0  4.479702  [30776, 31375]   \n",
       "1   1430604733320164116  spb        1000.0  4.514509  [30776, 30770]   \n",
       "2   9880309324224147401  spb        1000.0  3.884615  [30770, 30774]   \n",
       "3   5617879987171966456  spb        1000.0       NaN  [30774, 30775]   \n",
       "4   5241461680470612149  spb        1000.0  4.532468         [30776]   \n",
       "\n",
       "                                         features_id  new_org_id  \n",
       "0  [1018, 1509, 11177, 11617, 11629, 11704, 11867...           0  \n",
       "1  [246, 1018, 11617, 11629, 11704, 11867, 20422,...           1  \n",
       "2  [1018, 11177, 11617, 11629, 11704, 11867, 2042...           2  \n",
       "3  [1018, 1509, 10596, 11177, 11629, 11634, 11704...           3  \n",
       "4  [1018, 11177, 11617, 11629, 11704, 11867, 2042...           4  "
      ]
     },
     "execution_count": 5,
     "metadata": {},
     "output_type": "execute_result"
    }
   ],
   "source": [
    "orgs = pd.read_csv('data/organisations.csv')\n",
    "orgs['new_org_id'] = orgs.index\n",
    "\n",
    "# create lists\n",
    "columns = ['rubrics_id', 'features_id']\n",
    "apply_to_columns(orgs, columns)\n",
    "\n",
    "orgs.head()"
   ]
  },
  {
   "cell_type": "code",
   "execution_count": 6,
   "metadata": {},
   "outputs": [],
   "source": [
    "# Create mappings\n",
    "temp = users.drop('city', axis=1).to_numpy('uint64')\n",
    "uid_to_new = dict(zip(temp[:, 0], temp[:, 1]))\n",
    "new_to_uid = dict(zip(temp[:, 1], temp[:, 0]))\n",
    "\n",
    "temp = orgs[['org_id', 'new_org_id']].to_numpy('uint64')\n",
    "oid_to_new = dict(zip(temp[:, 0], temp[:, 1]))\n",
    "new_to_oid = dict(zip(temp[:, 1], temp[:, 0]))"
   ]
  },
  {
   "cell_type": "code",
   "execution_count": 7,
   "metadata": {},
   "outputs": [
    {
     "data": {
      "text/plain": [
       "83192250405"
      ]
     },
     "execution_count": 7,
     "metadata": {},
     "output_type": "execute_result"
    }
   ],
   "source": [
    "len(users) *len(orgs)"
   ]
  },
  {
   "cell_type": "markdown",
   "id": "986f5217",
   "metadata": {},
   "source": [
    "Чтобы не делать __join__ каждый раз, когда нам потребуется узнать, из какого города организация или пользователь, сразу добавим эту информацию в отзывы."
   ]
  },
  {
   "cell_type": "code",
   "execution_count": 8,
   "id": "02da292f",
   "metadata": {},
   "outputs": [
    {
     "data": {
      "text/html": [
       "<div>\n",
       "<style scoped>\n",
       "    .dataframe tbody tr th:only-of-type {\n",
       "        vertical-align: middle;\n",
       "    }\n",
       "\n",
       "    .dataframe tbody tr th {\n",
       "        vertical-align: top;\n",
       "    }\n",
       "\n",
       "    .dataframe thead th {\n",
       "        text-align: right;\n",
       "    }\n",
       "</style>\n",
       "<table border=\"1\" class=\"dataframe\">\n",
       "  <thead>\n",
       "    <tr style=\"text-align: right;\">\n",
       "      <th></th>\n",
       "      <th>user_id</th>\n",
       "      <th>org_id</th>\n",
       "      <th>rating</th>\n",
       "      <th>ts</th>\n",
       "      <th>aspects</th>\n",
       "      <th>user_city</th>\n",
       "      <th>new_user_id</th>\n",
       "      <th>org_city</th>\n",
       "      <th>new_org_id</th>\n",
       "      <th>is_tourist</th>\n",
       "    </tr>\n",
       "  </thead>\n",
       "  <tbody>\n",
       "    <tr>\n",
       "      <th>0</th>\n",
       "      <td>16998268288908323644</td>\n",
       "      <td>7184895086928047809</td>\n",
       "      <td>2.0</td>\n",
       "      <td>105</td>\n",
       "      <td>NaN</td>\n",
       "      <td>msk</td>\n",
       "      <td>212571</td>\n",
       "      <td>msk</td>\n",
       "      <td>49084</td>\n",
       "      <td>False</td>\n",
       "    </tr>\n",
       "    <tr>\n",
       "      <th>1</th>\n",
       "      <td>3121447338909258868</td>\n",
       "      <td>7184895086928047809</td>\n",
       "      <td>5.0</td>\n",
       "      <td>464</td>\n",
       "      <td>NaN</td>\n",
       "      <td>msk</td>\n",
       "      <td>49392</td>\n",
       "      <td>msk</td>\n",
       "      <td>49084</td>\n",
       "      <td>False</td>\n",
       "    </tr>\n",
       "    <tr>\n",
       "      <th>2</th>\n",
       "      <td>1970649778250883025</td>\n",
       "      <td>7184895086928047809</td>\n",
       "      <td>3.0</td>\n",
       "      <td>789</td>\n",
       "      <td>NaN</td>\n",
       "      <td>msk</td>\n",
       "      <td>122506</td>\n",
       "      <td>msk</td>\n",
       "      <td>49084</td>\n",
       "      <td>False</td>\n",
       "    </tr>\n",
       "    <tr>\n",
       "      <th>3</th>\n",
       "      <td>7554889464530643866</td>\n",
       "      <td>7184895086928047809</td>\n",
       "      <td>4.0</td>\n",
       "      <td>936</td>\n",
       "      <td>NaN</td>\n",
       "      <td>msk</td>\n",
       "      <td>257368</td>\n",
       "      <td>msk</td>\n",
       "      <td>49084</td>\n",
       "      <td>False</td>\n",
       "    </tr>\n",
       "    <tr>\n",
       "      <th>4</th>\n",
       "      <td>15907910894057053620</td>\n",
       "      <td>7184895086928047809</td>\n",
       "      <td>1.0</td>\n",
       "      <td>1143</td>\n",
       "      <td>NaN</td>\n",
       "      <td>msk</td>\n",
       "      <td>318294</td>\n",
       "      <td>msk</td>\n",
       "      <td>49084</td>\n",
       "      <td>False</td>\n",
       "    </tr>\n",
       "    <tr>\n",
       "      <th>...</th>\n",
       "      <td>...</td>\n",
       "      <td>...</td>\n",
       "      <td>...</td>\n",
       "      <td>...</td>\n",
       "      <td>...</td>\n",
       "      <td>...</td>\n",
       "      <td>...</td>\n",
       "      <td>...</td>\n",
       "      <td>...</td>\n",
       "      <td>...</td>\n",
       "    </tr>\n",
       "    <tr>\n",
       "      <th>3640830</th>\n",
       "      <td>16504916268155591133</td>\n",
       "      <td>11379950099553543298</td>\n",
       "      <td>1.0</td>\n",
       "      <td>1138</td>\n",
       "      <td>NaN</td>\n",
       "      <td>spb</td>\n",
       "      <td>972175</td>\n",
       "      <td>spb</td>\n",
       "      <td>48382</td>\n",
       "      <td>False</td>\n",
       "    </tr>\n",
       "    <tr>\n",
       "      <th>3640831</th>\n",
       "      <td>6729633349339708345</td>\n",
       "      <td>4127027708972853576</td>\n",
       "      <td>5.0</td>\n",
       "      <td>984</td>\n",
       "      <td>NaN</td>\n",
       "      <td>msk</td>\n",
       "      <td>718829</td>\n",
       "      <td>msk</td>\n",
       "      <td>46624</td>\n",
       "      <td>False</td>\n",
       "    </tr>\n",
       "    <tr>\n",
       "      <th>3640832</th>\n",
       "      <td>12811636719149152603</td>\n",
       "      <td>1870939193149876281</td>\n",
       "      <td>5.0</td>\n",
       "      <td>389</td>\n",
       "      <td>NaN</td>\n",
       "      <td>msk</td>\n",
       "      <td>178176</td>\n",
       "      <td>msk</td>\n",
       "      <td>21784</td>\n",
       "      <td>False</td>\n",
       "    </tr>\n",
       "    <tr>\n",
       "      <th>3640833</th>\n",
       "      <td>16479336894539955366</td>\n",
       "      <td>9457835296761142609</td>\n",
       "      <td>5.0</td>\n",
       "      <td>1068</td>\n",
       "      <td>NaN</td>\n",
       "      <td>msk</td>\n",
       "      <td>453691</td>\n",
       "      <td>msk</td>\n",
       "      <td>40099</td>\n",
       "      <td>False</td>\n",
       "    </tr>\n",
       "    <tr>\n",
       "      <th>3640834</th>\n",
       "      <td>13578749318486750048</td>\n",
       "      <td>8011474228777725415</td>\n",
       "      <td>4.0</td>\n",
       "      <td>825</td>\n",
       "      <td>NaN</td>\n",
       "      <td>spb</td>\n",
       "      <td>1037213</td>\n",
       "      <td>spb</td>\n",
       "      <td>25886</td>\n",
       "      <td>False</td>\n",
       "    </tr>\n",
       "  </tbody>\n",
       "</table>\n",
       "<p>3640835 rows × 10 columns</p>\n",
       "</div>"
      ],
      "text/plain": [
       "                      user_id                org_id  rating    ts aspects  \\\n",
       "0        16998268288908323644   7184895086928047809     2.0   105     NaN   \n",
       "1         3121447338909258868   7184895086928047809     5.0   464     NaN   \n",
       "2         1970649778250883025   7184895086928047809     3.0   789     NaN   \n",
       "3         7554889464530643866   7184895086928047809     4.0   936     NaN   \n",
       "4        15907910894057053620   7184895086928047809     1.0  1143     NaN   \n",
       "...                       ...                   ...     ...   ...     ...   \n",
       "3640830  16504916268155591133  11379950099553543298     1.0  1138     NaN   \n",
       "3640831   6729633349339708345   4127027708972853576     5.0   984     NaN   \n",
       "3640832  12811636719149152603   1870939193149876281     5.0   389     NaN   \n",
       "3640833  16479336894539955366   9457835296761142609     5.0  1068     NaN   \n",
       "3640834  13578749318486750048   8011474228777725415     4.0   825     NaN   \n",
       "\n",
       "        user_city  new_user_id org_city  new_org_id  is_tourist  \n",
       "0             msk       212571      msk       49084       False  \n",
       "1             msk        49392      msk       49084       False  \n",
       "2             msk       122506      msk       49084       False  \n",
       "3             msk       257368      msk       49084       False  \n",
       "4             msk       318294      msk       49084       False  \n",
       "...           ...          ...      ...         ...         ...  \n",
       "3640830       spb       972175      spb       48382       False  \n",
       "3640831       msk       718829      msk       46624       False  \n",
       "3640832       msk       178176      msk       21784       False  \n",
       "3640833       msk       453691      msk       40099       False  \n",
       "3640834       spb      1037213      spb       25886       False  \n",
       "\n",
       "[3640835 rows x 10 columns]"
      ]
     },
     "execution_count": 8,
     "metadata": {},
     "output_type": "execute_result"
    }
   ],
   "source": [
    "reviews = pd.read_csv('data/reviews.csv', low_memory=False)\n",
    "\n",
    "# encode users ids as numeric\n",
    "reviews = reviews.merge(users, on='user_id')\n",
    "reviews = reviews.rename({'city': 'user_city'}, axis=1)\n",
    "\n",
    "# # encode orgs ids as numeric\n",
    "reviews = reviews.merge(orgs[['org_id', 'city', 'new_org_id']], on='org_id')\n",
    "reviews = reviews.rename({'city': 'org_city'}, axis=1)\n",
    "\n",
    "# # create lists\n",
    "columns = ['aspects']\n",
    "apply_to_columns(reviews, columns)\n",
    "\n",
    "reviews['is_tourist'] = reviews['user_city'] != reviews['org_city']\n",
    "reviews"
   ]
  },
  {
   "cell_type": "markdown",
   "metadata": {},
   "source": [
    "# Augmentation: preparation of new features"
   ]
  },
  {
   "cell_type": "code",
   "execution_count": 9,
   "metadata": {},
   "outputs": [],
   "source": [
    "from itertools import chain\n",
    "from collections import Counter\n",
    "def get_feats_counts(reviews, id_col, feat_name):\n",
    "    \"\"\"Returns DataFrame with value counts of a features group with feat_name represented as a list in `reviews`\n",
    "    for each user or org. \"\"\"\n",
    "    \n",
    "    def tokenize(arr):\n",
    "        return Counter(list(chain(*arr)))\n",
    "    saved_idx = reviews.groupby(id_col)[feat_name].first().index\n",
    "    reviews = reviews[reviews[feat_name].notna()]    \n",
    "    result = reviews.groupby(id_col)[feat_name]\\\n",
    "        .apply(tokenize).unstack(level=1)\\\n",
    "        .reindex(saved_idx).fillna(0)\n",
    "    result.columns = [feat_name + str(col) for col in result.columns]\n",
    "    return result\n",
    "\n",
    "def get_stat_rating(reviews, func, id_col, feat_name='rating'):\n",
    "    \"\"\"Returns Series with stat function func applied to ratings either for users\n",
    "    (`id_col=='user_id'`) or for orgs (`id_col=='org_id'`)\"\"\"\n",
    "\n",
    "    return reviews.groupby(id_col)[feat_name].agg(func)#.replace(np.nan, 0)"
   ]
  },
  {
   "cell_type": "code",
   "execution_count": 10,
   "metadata": {},
   "outputs": [],
   "source": [
    "# Sort by two columns due to Pandas sorting differently every time\n",
    "reviews.sort_values(['ts', 'user_id'], inplace=True)"
   ]
  },
  {
   "cell_type": "code",
   "execution_count": 11,
   "metadata": {},
   "outputs": [],
   "source": [
    "orgs_rubrics = get_feats_counts(orgs, 'org_id', 'rubrics_id')\n",
    "orgs_features = get_feats_counts(orgs, 'org_id', 'features_id')\n",
    "\n",
    "# Preset for experiments\n",
    "#-----------------------\n",
    "threshold_day = 1147\n",
    "revs_for_FE = reviews[(reviews['ts'] < threshold_day)]\n",
    "# Preset for final submisstion\n",
    "#-----------------------\n",
    "#threshold_day = reviews.ts.max()\n",
    "#revs_for_FE = reviews.copy()\n",
    "#-----------------------\n",
    "\n",
    "revs_with_feats = revs_for_FE.merge(orgs[['org_id', 'rubrics_id', 'features_id', 'average_bill']], on='org_id')\n",
    "user_rubrics = get_feats_counts(revs_with_feats, 'user_id', 'rubrics_id')\n",
    "#user_features = get_feats_counts(revs_with_feats, 'user_id', 'features_id')"
   ]
  },
  {
   "cell_type": "code",
   "execution_count": 12,
   "metadata": {},
   "outputs": [],
   "source": [
    "org_mean_rating = get_stat_rating(revs_for_FE, 'mean', 'org_id').rename('org_mean_rating')\n",
    "org_median_rating = get_stat_rating(revs_for_FE, 'median', 'org_id').rename('org_median_rating')\n",
    "org_tourists_count = get_stat_rating(revs_for_FE.query(\"is_tourist == True\"),\n",
    "                             'size', 'org_id').rename('org_tourists_count')\n",
    "org_count_rating = get_stat_rating(revs_for_FE, 'size', 'org_id').rename('org_reviews_count')\n",
    "user_mean_rating = get_stat_rating(revs_for_FE, 'mean', 'user_id').rename('user_mean_rating')\n",
    "user_median_rating = get_stat_rating(revs_for_FE, 'median', 'user_id').rename('user_median_rating')\n",
    "user_count_rating = get_stat_rating(revs_for_FE, 'size', 'user_id').rename('user_reviews_count')\n",
    "\n",
    "user_mean_bill = get_stat_rating(\n",
    "    revs_with_feats, 'mean', 'user_id', feat_name='average_bill').rename('user_mean_bill')\n",
    "user_median_bill = get_stat_rating(\n",
    "    revs_with_feats, 'median', 'user_id', feat_name='average_bill').rename('user_median_bill')"
   ]
  },
  {
   "cell_type": "markdown",
   "metadata": {},
   "source": [
    "# LightGBM"
   ]
  },
  {
   "cell_type": "markdown",
   "metadata": {},
   "source": [
    "## Formation of the dataset with new features"
   ]
  },
  {
   "cell_type": "markdown",
   "metadata": {},
   "source": [
    "This snippet filters reviews that have rating less than 4 and makes an ordered set of most reviewed orgs for both cities during 500 days prior to the train set end."
   ]
  },
  {
   "cell_type": "code",
   "execution_count": 13,
   "metadata": {},
   "outputs": [],
   "source": [
    "N_BEST_IN_CITY = 4500\n",
    "\n",
    "reviews = reviews[reviews.rating >= 4]\n",
    "#threshold_day = reviews.loc[reviews['is_tourist']].iloc[-15000]['ts']\n",
    "#threshold_day = reviews['ts'].max()\n",
    "non_eq_cities = reviews[reviews.user_city != reviews.org_city]\n",
    "non_eq_cities = non_eq_cities.query('ts <= @threshold_day & ts >= @threshold_day - 500')\n",
    "msk_orgs = non_eq_cities[non_eq_cities['org_city'] == 'msk']['org_id']\n",
    "msk_orgs = msk_orgs.value_counts().index[:N_BEST_IN_CITY].to_list()\n",
    "msk_orgs = np.array(msk_orgs, dtype='uint64')\n",
    "\n",
    "\n",
    "spb_orgs = non_eq_cities[non_eq_cities['org_city'] == 'spb']['org_id']\n",
    "spb_orgs = spb_orgs.value_counts().index[:N_BEST_IN_CITY].to_list()\n",
    "spb_orgs = np.array(spb_orgs, dtype='uint64')\n",
    "best_orgs = msk_orgs + spb_orgs"
   ]
  },
  {
   "cell_type": "code",
   "execution_count": 14,
   "metadata": {},
   "outputs": [],
   "source": [
    "def supplement_sample(df, N_POOL = 100, N_NEGATIVE_SAMPLES = 100, \n",
    "   opposite_cities=True):\n",
    "   \"\"\"Supplements df with positive samples by N_NEGATIVE_SAMPLES drawn randomly from N_POOL \n",
    "   first best orgs of corresponding city\"\"\"\n",
    "   \n",
    "   if opposite_cities:\n",
    "      _for_msk_user = spb_orgs\n",
    "      _for_spb_user = msk_orgs\n",
    "   else:\n",
    "      _for_msk_user = msk_orgs\n",
    "      _for_spb_user = spb_orgs\n",
    "   def choose(row):\n",
    "      arr = _for_msk_user if row['user_city'] == 'msk' else _for_spb_user\n",
    "      chosen = np.random.choice(arr[:N_POOL], size=N_NEGATIVE_SAMPLES, replace=False)\n",
    "      return np.setdiff1d(chosen, row['target'])\n",
    "\n",
    "   if 'org_id' in df.columns and 'rating' in df.columns:\n",
    "      users = df.drop(columns=['org_id', 'rating'])\n",
    "   else: users = df.copy()\n",
    "   if users['target'].isna().any():\n",
    "      users['target'] = users['target'].apply(lambda x: tuple(x) if not np.isnan(x).all() else tuple())\n",
    "   else:\n",
    "      users['target'] = users['target'].apply(tuple)\n",
    "   users = users.drop_duplicates()\n",
    "   users['org_ids'] = users.apply(choose, axis=1)\n",
    "   users.drop(columns=['user_city', 'target'], inplace=True)\n",
    "   user_ids = []\n",
    "   org_ids = []\n",
    "   for _, i in users.iterrows():\n",
    "      user_ids.extend([i.user_id] * len(i.org_ids))\n",
    "      org_ids.extend(i.org_ids)\n",
    "   final = pd.DataFrame({'user_id': user_ids, 'org_id': org_ids})\n",
    "   #print(users['rating'].to_list())\n",
    "   final['rating'] = 0\n",
    "   if opposite_cities: final['is_tourist'] = 1\n",
    "   else: final['is_tourist'] = 0\n",
    "   return final\n",
    "#supplement_sample(rev_test)"
   ]
  },
  {
   "cell_type": "code",
   "execution_count": 2,
   "metadata": {},
   "outputs": [],
   "source": [
    "def get_dataset(reviews, n_pool=100, n_neg_samples=100, \n",
    "for_submission=False, opposite_cities=True):\n",
    "    \"\"\"Forms a dataset by combining positive user-org pairs and negative \n",
    "    and adding with user and org features\"\"\"\n",
    "\n",
    "    if for_submission: \n",
    "        X = supplement_sample(reviews, \n",
    "        N_POOL=n_pool, N_NEGATIVE_SAMPLES=n_neg_samples, opposite_cities=opposite_cities)\n",
    "    else:\n",
    "        X = pd.concat([\n",
    "            supplement_sample(reviews, N_POOL=n_pool, N_NEGATIVE_SAMPLES=n_neg_samples, \n",
    "                                                    opposite_cities=opposite_cities), \n",
    "            reviews[['user_id', 'org_id', 'rating', 'is_tourist']]\n",
    "        ],  ignore_index=True)\n",
    "    #.merge(org_tourists_count, on='org_id', how='left')\\\n",
    "    #.merge(org_count_rating, on='org_id', how='left')\\\n",
    "    #\n",
    "    #\n",
    "    X = X\\\n",
    "        .merge(user_count_rating, on='user_id', how='left')\\\n",
    "        .merge(user_rubrics, on='user_id', how='left')\\\n",
    "        .merge(orgs_rubrics, on='org_id', how='left')\\\n",
    "        .merge(user_mean_bill, on='user_id', how='left')\\\n",
    "        .merge(user_median_bill, on='user_id', how='left')\\\n",
    "        .merge(org_mean_rating, on='org_id', how='left')\\\n",
    "        .merge(org_median_rating, on='org_id', how='left')\\\n",
    "        .merge(orgs[['org_id', 'average_bill', 'rating']]\\\n",
    "        .rename({'rating': 'org_defautl_rating'}, axis=1), on='org_id', how='left')\\\n",
    "        .sort_values('user_id')\n",
    "    def reduce_rubrics(df):\n",
    "        temp = pd.DataFrame(index=df.index)\n",
    "        for rub in orgs_rubrics.columns:\n",
    "            temp[rub] = (df[rub + \"_x\"] > 0) * df[rub + \"_y\"]\n",
    "        return temp.sum(axis=1) \n",
    "\n",
    "    X['rubrics_coincidence'] = reduce_rubrics(X)\n",
    "    raw_sample = X[['user_id', 'org_id', 'rating']]\n",
    "    to_drop = [col for col in X.columns if \"_x\" in col]\n",
    "    X = X.drop(columns=to_drop)\n",
    "    y = X['rating']\n",
    "    ids = X.groupby('user_id')['user_id'].size()\n",
    "    X = X.drop(columns=['rating', 'user_id', 'org_id'])\n",
    "    return X, y, ids, raw_sample\n",
    "np.random.seed(42)"
   ]
  },
  {
   "cell_type": "markdown",
   "metadata": {},
   "source": [
    "# Modelling / Choosing most performant model"
   ]
  },
  {
   "cell_type": "code",
   "execution_count": 73,
   "metadata": {},
   "outputs": [],
   "source": [
    "rev_train = reviews.loc[reviews['is_tourist'], ['user_id', 'org_id', 'rating', 'user_city', 'is_tourist']]\n",
    "rev_test  = rev_train.iloc[-15000:]\n",
    "rev_test = rev_test[rev_test.user_id.isin(revs_for_FE.user_id)]\n",
    "rev_train  = rev_train.iloc[:-15000]\n",
    "\n",
    "# Explicitely list known positives from training period both for train and test\n",
    "# to exclude them later in supplement_sample\n",
    "_, train_positives = process_reviews(rev_train)\n",
    "_, test_positives = process_reviews(rev_test)\n",
    "all_positives = pd.merge(train_positives, test_positives, on='user_id', how='right')\n",
    "all_positives['target'] = all_positives.apply(\n",
    "    lambda row: row['target_y'] + row['target_x'] \n",
    "    if not np.isnan(row['target_x']).all() else row['target_y'],\n",
    "    axis=1)\n",
    "all_positives.drop(columns=['target_x', 'target_y'], inplace=True)\n",
    "rev_train = rev_train.merge(train_positives, on='user_id', how='left')\n",
    "rev_test = rev_test.merge(all_positives, on='user_id', how='left')"
   ]
  },
  {
   "cell_type": "code",
   "execution_count": 74,
   "metadata": {},
   "outputs": [
    {
     "data": {
      "text/plain": [
       "80915"
      ]
     },
     "execution_count": 74,
     "metadata": {},
     "output_type": "execute_result"
    }
   ],
   "source": [
    "N_NEGATIVE_SAMPLES = 100\n",
    "N_POOL = 1000\n",
    "N_TEST_POOL = 20\n",
    "def choose_popular_orgs(reviews, n_popular=N_TEST_POOL):\n",
    "    return reviews[reviews.org_id.isin(\n",
    "        np.hstack([spb_orgs[:n_popular] , msk_orgs[:n_popular]]\n",
    "    ))]\n",
    "X_test, y_test, ids_test, X_raw_test = get_dataset(choose_popular_orgs(rev_test), N_TEST_POOL, N_TEST_POOL)\n",
    "\n",
    "#X_train, y_train, ids_train, X_raw_train = get_dataset(choose_popular_orgs(rev_train), N_POOL, N_NEGATIVE_SAMPLES)\n",
    "X_train, y_train, ids_train, X_raw_train = get_dataset(rev_train, N_POOL, N_NEGATIVE_SAMPLES)\n",
    "X_raw_train.user_id.nunique()"
   ]
  },
  {
   "cell_type": "code",
   "execution_count": null,
   "metadata": {},
   "outputs": [],
   "source": [
    "\"\"\"\n",
    "rev_train_same = reviews.loc[(~reviews['is_tourist']) & (reviews.ts < threshold_day)]\\\n",
    "     [['user_id', 'org_id', 'rating', 'user_city', 'is_tourist']]\n",
    "_, train_positives2 = process_reviews(rev_train_same)\n",
    "rev_train_same = rev_train_same.merge(train_positives2, on='user_id', how='left')\n",
    "X_train_same, y_train_same, ids_train_same, X_raw_train_same\\\n",
    "     = get_dataset(\n",
    "        choose_popular_orgs(rev_train_same),\n",
    "        N_POOL, N_POOL, opposite_cities=False\n",
    "        )\n",
    "X_train = pd.concat([X_train, X_train_same])\n",
    "y_train = pd.concat([y_train, y_train_same])\n",
    "ids_train = pd.concat([ids_train, ids_train_same])\n",
    "X_raw_train = pd.concat([X_raw_train, X_raw_train_same])\n",
    "X_raw_train_same.user_id.nunique()\n",
    "weights = {1: 1., 0: 0.0}\n",
    "weights_train = X_train['is_tourist'].apply(lambda x: weights[x])\n",
    "\"\"\""
   ]
  },
  {
   "cell_type": "code",
   "execution_count": 76,
   "metadata": {},
   "outputs": [
    {
     "name": "stdout",
     "output_type": "stream",
     "text": [
      "[1]\tvalid_0's map@20: 0.253715\tvalid_0's map@100: 0.253715\tvalid_0's average_precision: 0.0782004\tvalid_0's ndcg@20: 0.416535\tvalid_0's ndcg@100: 0.416535\n",
      "Training until validation scores don't improve for 200 rounds\n",
      "[2]\tvalid_0's map@20: 0.248191\tvalid_0's map@100: 0.248191\tvalid_0's average_precision: 0.0765382\tvalid_0's ndcg@20: 0.411568\tvalid_0's ndcg@100: 0.411568\n",
      "[3]\tvalid_0's map@20: 0.252386\tvalid_0's map@100: 0.252386\tvalid_0's average_precision: 0.0787371\tvalid_0's ndcg@20: 0.415638\tvalid_0's ndcg@100: 0.415638\n",
      "[4]\tvalid_0's map@20: 0.251508\tvalid_0's map@100: 0.251508\tvalid_0's average_precision: 0.0780248\tvalid_0's ndcg@20: 0.414819\tvalid_0's ndcg@100: 0.414819\n",
      "[5]\tvalid_0's map@20: 0.25088\tvalid_0's map@100: 0.25088\tvalid_0's average_precision: 0.077943\tvalid_0's ndcg@20: 0.4142\tvalid_0's ndcg@100: 0.4142\n",
      "[6]\tvalid_0's map@20: 0.267777\tvalid_0's map@100: 0.267777\tvalid_0's average_precision: 0.0797052\tvalid_0's ndcg@20: 0.427591\tvalid_0's ndcg@100: 0.427591\n",
      "[7]\tvalid_0's map@20: 0.269525\tvalid_0's map@100: 0.269525\tvalid_0's average_precision: 0.0795031\tvalid_0's ndcg@20: 0.428819\tvalid_0's ndcg@100: 0.428819\n",
      "[8]\tvalid_0's map@20: 0.269749\tvalid_0's map@100: 0.269749\tvalid_0's average_precision: 0.0798205\tvalid_0's ndcg@20: 0.429165\tvalid_0's ndcg@100: 0.429165\n",
      "[9]\tvalid_0's map@20: 0.269009\tvalid_0's map@100: 0.269009\tvalid_0's average_precision: 0.0797208\tvalid_0's ndcg@20: 0.428494\tvalid_0's ndcg@100: 0.428494\n",
      "[10]\tvalid_0's map@20: 0.271258\tvalid_0's map@100: 0.271258\tvalid_0's average_precision: 0.0797209\tvalid_0's ndcg@20: 0.430077\tvalid_0's ndcg@100: 0.430077\n",
      "[11]\tvalid_0's map@20: 0.268645\tvalid_0's map@100: 0.268645\tvalid_0's average_precision: 0.0796698\tvalid_0's ndcg@20: 0.428205\tvalid_0's ndcg@100: 0.428205\n",
      "[12]\tvalid_0's map@20: 0.269135\tvalid_0's map@100: 0.269135\tvalid_0's average_precision: 0.0796699\tvalid_0's ndcg@20: 0.428547\tvalid_0's ndcg@100: 0.428547\n",
      "[13]\tvalid_0's map@20: 0.270889\tvalid_0's map@100: 0.270889\tvalid_0's average_precision: 0.0801364\tvalid_0's ndcg@20: 0.430144\tvalid_0's ndcg@100: 0.430144\n",
      "[14]\tvalid_0's map@20: 0.273841\tvalid_0's map@100: 0.273841\tvalid_0's average_precision: 0.0804097\tvalid_0's ndcg@20: 0.432265\tvalid_0's ndcg@100: 0.432265\n",
      "[15]\tvalid_0's map@20: 0.272999\tvalid_0's map@100: 0.272999\tvalid_0's average_precision: 0.0804578\tvalid_0's ndcg@20: 0.431443\tvalid_0's ndcg@100: 0.431443\n",
      "[16]\tvalid_0's map@20: 0.274334\tvalid_0's map@100: 0.274334\tvalid_0's average_precision: 0.0806288\tvalid_0's ndcg@20: 0.432526\tvalid_0's ndcg@100: 0.432526\n",
      "[17]\tvalid_0's map@20: 0.274182\tvalid_0's map@100: 0.274182\tvalid_0's average_precision: 0.0806078\tvalid_0's ndcg@20: 0.432528\tvalid_0's ndcg@100: 0.432528\n",
      "[18]\tvalid_0's map@20: 0.273557\tvalid_0's map@100: 0.273557\tvalid_0's average_precision: 0.080398\tvalid_0's ndcg@20: 0.431875\tvalid_0's ndcg@100: 0.431875\n",
      "[19]\tvalid_0's map@20: 0.27332\tvalid_0's map@100: 0.27332\tvalid_0's average_precision: 0.0805481\tvalid_0's ndcg@20: 0.43187\tvalid_0's ndcg@100: 0.43187\n",
      "[20]\tvalid_0's map@20: 0.27307\tvalid_0's map@100: 0.27307\tvalid_0's average_precision: 0.0803633\tvalid_0's ndcg@20: 0.431549\tvalid_0's ndcg@100: 0.431549\n",
      "[21]\tvalid_0's map@20: 0.273479\tvalid_0's map@100: 0.273479\tvalid_0's average_precision: 0.0806847\tvalid_0's ndcg@20: 0.431982\tvalid_0's ndcg@100: 0.431982\n",
      "[22]\tvalid_0's map@20: 0.273302\tvalid_0's map@100: 0.273302\tvalid_0's average_precision: 0.0805813\tvalid_0's ndcg@20: 0.431769\tvalid_0's ndcg@100: 0.431769\n",
      "[23]\tvalid_0's map@20: 0.273484\tvalid_0's map@100: 0.273484\tvalid_0's average_precision: 0.0809356\tvalid_0's ndcg@20: 0.431891\tvalid_0's ndcg@100: 0.431891\n",
      "[24]\tvalid_0's map@20: 0.273264\tvalid_0's map@100: 0.273264\tvalid_0's average_precision: 0.0807137\tvalid_0's ndcg@20: 0.431622\tvalid_0's ndcg@100: 0.431622\n",
      "[25]\tvalid_0's map@20: 0.273505\tvalid_0's map@100: 0.273505\tvalid_0's average_precision: 0.0807995\tvalid_0's ndcg@20: 0.431865\tvalid_0's ndcg@100: 0.431865\n",
      "[26]\tvalid_0's map@20: 0.273285\tvalid_0's map@100: 0.273285\tvalid_0's average_precision: 0.0809283\tvalid_0's ndcg@20: 0.431683\tvalid_0's ndcg@100: 0.431683\n",
      "[27]\tvalid_0's map@20: 0.273618\tvalid_0's map@100: 0.273618\tvalid_0's average_precision: 0.0808355\tvalid_0's ndcg@20: 0.431924\tvalid_0's ndcg@100: 0.431924\n",
      "[28]\tvalid_0's map@20: 0.27298\tvalid_0's map@100: 0.27298\tvalid_0's average_precision: 0.0808499\tvalid_0's ndcg@20: 0.43134\tvalid_0's ndcg@100: 0.43134\n",
      "[29]\tvalid_0's map@20: 0.273638\tvalid_0's map@100: 0.273638\tvalid_0's average_precision: 0.0810241\tvalid_0's ndcg@20: 0.431949\tvalid_0's ndcg@100: 0.431949\n",
      "[30]\tvalid_0's map@20: 0.273828\tvalid_0's map@100: 0.273828\tvalid_0's average_precision: 0.0810607\tvalid_0's ndcg@20: 0.432169\tvalid_0's ndcg@100: 0.432169\n",
      "[31]\tvalid_0's map@20: 0.27364\tvalid_0's map@100: 0.27364\tvalid_0's average_precision: 0.0808747\tvalid_0's ndcg@20: 0.43193\tvalid_0's ndcg@100: 0.43193\n",
      "[32]\tvalid_0's map@20: 0.2733\tvalid_0's map@100: 0.2733\tvalid_0's average_precision: 0.0808993\tvalid_0's ndcg@20: 0.431629\tvalid_0's ndcg@100: 0.431629\n",
      "[33]\tvalid_0's map@20: 0.273663\tvalid_0's map@100: 0.273663\tvalid_0's average_precision: 0.0810227\tvalid_0's ndcg@20: 0.432004\tvalid_0's ndcg@100: 0.432004\n",
      "[34]\tvalid_0's map@20: 0.273315\tvalid_0's map@100: 0.273315\tvalid_0's average_precision: 0.0811947\tvalid_0's ndcg@20: 0.431745\tvalid_0's ndcg@100: 0.431745\n",
      "[35]\tvalid_0's map@20: 0.273943\tvalid_0's map@100: 0.273943\tvalid_0's average_precision: 0.0811578\tvalid_0's ndcg@20: 0.432319\tvalid_0's ndcg@100: 0.432319\n",
      "[36]\tvalid_0's map@20: 0.274922\tvalid_0's map@100: 0.274922\tvalid_0's average_precision: 0.0812444\tvalid_0's ndcg@20: 0.433027\tvalid_0's ndcg@100: 0.433027\n",
      "[37]\tvalid_0's map@20: 0.275165\tvalid_0's map@100: 0.275165\tvalid_0's average_precision: 0.0813948\tvalid_0's ndcg@20: 0.433241\tvalid_0's ndcg@100: 0.433241\n",
      "[38]\tvalid_0's map@20: 0.27513\tvalid_0's map@100: 0.27513\tvalid_0's average_precision: 0.0814481\tvalid_0's ndcg@20: 0.43324\tvalid_0's ndcg@100: 0.43324\n",
      "[39]\tvalid_0's map@20: 0.274774\tvalid_0's map@100: 0.274774\tvalid_0's average_precision: 0.0814435\tvalid_0's ndcg@20: 0.432961\tvalid_0's ndcg@100: 0.432961\n",
      "[40]\tvalid_0's map@20: 0.274817\tvalid_0's map@100: 0.274817\tvalid_0's average_precision: 0.0811533\tvalid_0's ndcg@20: 0.432882\tvalid_0's ndcg@100: 0.432882\n",
      "[41]\tvalid_0's map@20: 0.275166\tvalid_0's map@100: 0.275166\tvalid_0's average_precision: 0.0813178\tvalid_0's ndcg@20: 0.43323\tvalid_0's ndcg@100: 0.43323\n",
      "[42]\tvalid_0's map@20: 0.275074\tvalid_0's map@100: 0.275074\tvalid_0's average_precision: 0.0813281\tvalid_0's ndcg@20: 0.433138\tvalid_0's ndcg@100: 0.433138\n",
      "[43]\tvalid_0's map@20: 0.274681\tvalid_0's map@100: 0.274681\tvalid_0's average_precision: 0.0812457\tvalid_0's ndcg@20: 0.43282\tvalid_0's ndcg@100: 0.43282\n",
      "[44]\tvalid_0's map@20: 0.275255\tvalid_0's map@100: 0.275255\tvalid_0's average_precision: 0.0814377\tvalid_0's ndcg@20: 0.433325\tvalid_0's ndcg@100: 0.433325\n",
      "[45]\tvalid_0's map@20: 0.277954\tvalid_0's map@100: 0.277954\tvalid_0's average_precision: 0.0818796\tvalid_0's ndcg@20: 0.435472\tvalid_0's ndcg@100: 0.435472\n",
      "[46]\tvalid_0's map@20: 0.277481\tvalid_0's map@100: 0.277481\tvalid_0's average_precision: 0.0815775\tvalid_0's ndcg@20: 0.435026\tvalid_0's ndcg@100: 0.435026\n",
      "[47]\tvalid_0's map@20: 0.277445\tvalid_0's map@100: 0.277445\tvalid_0's average_precision: 0.0812267\tvalid_0's ndcg@20: 0.435008\tvalid_0's ndcg@100: 0.435008\n",
      "[48]\tvalid_0's map@20: 0.278829\tvalid_0's map@100: 0.278829\tvalid_0's average_precision: 0.0821867\tvalid_0's ndcg@20: 0.436049\tvalid_0's ndcg@100: 0.436049\n",
      "[49]\tvalid_0's map@20: 0.279286\tvalid_0's map@100: 0.279286\tvalid_0's average_precision: 0.0823374\tvalid_0's ndcg@20: 0.436472\tvalid_0's ndcg@100: 0.436472\n",
      "[50]\tvalid_0's map@20: 0.279383\tvalid_0's map@100: 0.279383\tvalid_0's average_precision: 0.082327\tvalid_0's ndcg@20: 0.436566\tvalid_0's ndcg@100: 0.436566\n",
      "[51]\tvalid_0's map@20: 0.277874\tvalid_0's map@100: 0.277874\tvalid_0's average_precision: 0.0823352\tvalid_0's ndcg@20: 0.43543\tvalid_0's ndcg@100: 0.43543\n",
      "[52]\tvalid_0's map@20: 0.27342\tvalid_0's map@100: 0.27342\tvalid_0's average_precision: 0.0820612\tvalid_0's ndcg@20: 0.432025\tvalid_0's ndcg@100: 0.432025\n",
      "[53]\tvalid_0's map@20: 0.273189\tvalid_0's map@100: 0.273189\tvalid_0's average_precision: 0.0821915\tvalid_0's ndcg@20: 0.431826\tvalid_0's ndcg@100: 0.431826\n",
      "[54]\tvalid_0's map@20: 0.27322\tvalid_0's map@100: 0.27322\tvalid_0's average_precision: 0.0821792\tvalid_0's ndcg@20: 0.431845\tvalid_0's ndcg@100: 0.431845\n",
      "[55]\tvalid_0's map@20: 0.272787\tvalid_0's map@100: 0.272787\tvalid_0's average_precision: 0.0822264\tvalid_0's ndcg@20: 0.431583\tvalid_0's ndcg@100: 0.431583\n",
      "[56]\tvalid_0's map@20: 0.272784\tvalid_0's map@100: 0.272784\tvalid_0's average_precision: 0.0823662\tvalid_0's ndcg@20: 0.431602\tvalid_0's ndcg@100: 0.431602\n",
      "[57]\tvalid_0's map@20: 0.272768\tvalid_0's map@100: 0.272768\tvalid_0's average_precision: 0.0823187\tvalid_0's ndcg@20: 0.431559\tvalid_0's ndcg@100: 0.431559\n",
      "[58]\tvalid_0's map@20: 0.272724\tvalid_0's map@100: 0.272724\tvalid_0's average_precision: 0.0823218\tvalid_0's ndcg@20: 0.431525\tvalid_0's ndcg@100: 0.431525\n",
      "[59]\tvalid_0's map@20: 0.272875\tvalid_0's map@100: 0.272875\tvalid_0's average_precision: 0.0822958\tvalid_0's ndcg@20: 0.431679\tvalid_0's ndcg@100: 0.431679\n",
      "[60]\tvalid_0's map@20: 0.272735\tvalid_0's map@100: 0.272735\tvalid_0's average_precision: 0.0823088\tvalid_0's ndcg@20: 0.431558\tvalid_0's ndcg@100: 0.431558\n",
      "[61]\tvalid_0's map@20: 0.272746\tvalid_0's map@100: 0.272746\tvalid_0's average_precision: 0.0823067\tvalid_0's ndcg@20: 0.431628\tvalid_0's ndcg@100: 0.431628\n",
      "[62]\tvalid_0's map@20: 0.273704\tvalid_0's map@100: 0.273704\tvalid_0's average_precision: 0.0823205\tvalid_0's ndcg@20: 0.432516\tvalid_0's ndcg@100: 0.432516\n",
      "[63]\tvalid_0's map@20: 0.273608\tvalid_0's map@100: 0.273608\tvalid_0's average_precision: 0.0822881\tvalid_0's ndcg@20: 0.432424\tvalid_0's ndcg@100: 0.432424\n",
      "[64]\tvalid_0's map@20: 0.273352\tvalid_0's map@100: 0.273352\tvalid_0's average_precision: 0.0822649\tvalid_0's ndcg@20: 0.432199\tvalid_0's ndcg@100: 0.432199\n",
      "[65]\tvalid_0's map@20: 0.273642\tvalid_0's map@100: 0.273642\tvalid_0's average_precision: 0.0823466\tvalid_0's ndcg@20: 0.432368\tvalid_0's ndcg@100: 0.432368\n",
      "[66]\tvalid_0's map@20: 0.273792\tvalid_0's map@100: 0.273792\tvalid_0's average_precision: 0.0824719\tvalid_0's ndcg@20: 0.432478\tvalid_0's ndcg@100: 0.432478\n",
      "[67]\tvalid_0's map@20: 0.273792\tvalid_0's map@100: 0.273792\tvalid_0's average_precision: 0.0825008\tvalid_0's ndcg@20: 0.432541\tvalid_0's ndcg@100: 0.432541\n",
      "[68]\tvalid_0's map@20: 0.273613\tvalid_0's map@100: 0.273613\tvalid_0's average_precision: 0.0823695\tvalid_0's ndcg@20: 0.432329\tvalid_0's ndcg@100: 0.432329\n",
      "[69]\tvalid_0's map@20: 0.273625\tvalid_0's map@100: 0.273625\tvalid_0's average_precision: 0.0823806\tvalid_0's ndcg@20: 0.432368\tvalid_0's ndcg@100: 0.432368\n",
      "[70]\tvalid_0's map@20: 0.273715\tvalid_0's map@100: 0.273715\tvalid_0's average_precision: 0.082413\tvalid_0's ndcg@20: 0.432462\tvalid_0's ndcg@100: 0.432462\n",
      "[71]\tvalid_0's map@20: 0.273518\tvalid_0's map@100: 0.273518\tvalid_0's average_precision: 0.0824392\tvalid_0's ndcg@20: 0.432343\tvalid_0's ndcg@100: 0.432343\n",
      "[72]\tvalid_0's map@20: 0.27342\tvalid_0's map@100: 0.27342\tvalid_0's average_precision: 0.0823818\tvalid_0's ndcg@20: 0.432249\tvalid_0's ndcg@100: 0.432249\n",
      "[73]\tvalid_0's map@20: 0.273646\tvalid_0's map@100: 0.273646\tvalid_0's average_precision: 0.082431\tvalid_0's ndcg@20: 0.432459\tvalid_0's ndcg@100: 0.432459\n",
      "[74]\tvalid_0's map@20: 0.273526\tvalid_0's map@100: 0.273526\tvalid_0's average_precision: 0.0824576\tvalid_0's ndcg@20: 0.432374\tvalid_0's ndcg@100: 0.432374\n",
      "[75]\tvalid_0's map@20: 0.273611\tvalid_0's map@100: 0.273611\tvalid_0's average_precision: 0.0823889\tvalid_0's ndcg@20: 0.432337\tvalid_0's ndcg@100: 0.432337\n",
      "[76]\tvalid_0's map@20: 0.273666\tvalid_0's map@100: 0.273666\tvalid_0's average_precision: 0.0824247\tvalid_0's ndcg@20: 0.432406\tvalid_0's ndcg@100: 0.432406\n",
      "[77]\tvalid_0's map@20: 0.27383\tvalid_0's map@100: 0.27383\tvalid_0's average_precision: 0.0824423\tvalid_0's ndcg@20: 0.432607\tvalid_0's ndcg@100: 0.432607\n",
      "[78]\tvalid_0's map@20: 0.273883\tvalid_0's map@100: 0.273883\tvalid_0's average_precision: 0.0824667\tvalid_0's ndcg@20: 0.43267\tvalid_0's ndcg@100: 0.43267\n",
      "[79]\tvalid_0's map@20: 0.273952\tvalid_0's map@100: 0.273952\tvalid_0's average_precision: 0.0824869\tvalid_0's ndcg@20: 0.432738\tvalid_0's ndcg@100: 0.432738\n",
      "[80]\tvalid_0's map@20: 0.274348\tvalid_0's map@100: 0.274348\tvalid_0's average_precision: 0.082512\tvalid_0's ndcg@20: 0.433063\tvalid_0's ndcg@100: 0.433063\n",
      "[81]\tvalid_0's map@20: 0.274356\tvalid_0's map@100: 0.274356\tvalid_0's average_precision: 0.0825191\tvalid_0's ndcg@20: 0.433097\tvalid_0's ndcg@100: 0.433097\n",
      "[82]\tvalid_0's map@20: 0.274675\tvalid_0's map@100: 0.274675\tvalid_0's average_precision: 0.0825772\tvalid_0's ndcg@20: 0.433377\tvalid_0's ndcg@100: 0.433377\n",
      "[83]\tvalid_0's map@20: 0.274647\tvalid_0's map@100: 0.274647\tvalid_0's average_precision: 0.0825657\tvalid_0's ndcg@20: 0.433344\tvalid_0's ndcg@100: 0.433344\n",
      "[84]\tvalid_0's map@20: 0.274827\tvalid_0's map@100: 0.274827\tvalid_0's average_precision: 0.0826419\tvalid_0's ndcg@20: 0.433487\tvalid_0's ndcg@100: 0.433487\n",
      "[85]\tvalid_0's map@20: 0.274629\tvalid_0's map@100: 0.274629\tvalid_0's average_precision: 0.0826588\tvalid_0's ndcg@20: 0.433301\tvalid_0's ndcg@100: 0.433301\n",
      "[86]\tvalid_0's map@20: 0.273979\tvalid_0's map@100: 0.273979\tvalid_0's average_precision: 0.0826064\tvalid_0's ndcg@20: 0.432793\tvalid_0's ndcg@100: 0.432793\n",
      "[87]\tvalid_0's map@20: 0.274609\tvalid_0's map@100: 0.274609\tvalid_0's average_precision: 0.0823498\tvalid_0's ndcg@20: 0.43334\tvalid_0's ndcg@100: 0.43334\n",
      "[88]\tvalid_0's map@20: 0.273691\tvalid_0's map@100: 0.273691\tvalid_0's average_precision: 0.082465\tvalid_0's ndcg@20: 0.432519\tvalid_0's ndcg@100: 0.432519\n",
      "[89]\tvalid_0's map@20: 0.273732\tvalid_0's map@100: 0.273732\tvalid_0's average_precision: 0.0825503\tvalid_0's ndcg@20: 0.432555\tvalid_0's ndcg@100: 0.432555\n",
      "[90]\tvalid_0's map@20: 0.273852\tvalid_0's map@100: 0.273852\tvalid_0's average_precision: 0.0822792\tvalid_0's ndcg@20: 0.432676\tvalid_0's ndcg@100: 0.432676\n",
      "[91]\tvalid_0's map@20: 0.273908\tvalid_0's map@100: 0.273908\tvalid_0's average_precision: 0.0825138\tvalid_0's ndcg@20: 0.432615\tvalid_0's ndcg@100: 0.432615\n",
      "[92]\tvalid_0's map@20: 0.273921\tvalid_0's map@100: 0.273921\tvalid_0's average_precision: 0.0824737\tvalid_0's ndcg@20: 0.432639\tvalid_0's ndcg@100: 0.432639\n",
      "[93]\tvalid_0's map@20: 0.274062\tvalid_0's map@100: 0.274062\tvalid_0's average_precision: 0.082173\tvalid_0's ndcg@20: 0.432773\tvalid_0's ndcg@100: 0.432773\n",
      "[94]\tvalid_0's map@20: 0.274118\tvalid_0's map@100: 0.274118\tvalid_0's average_precision: 0.0821427\tvalid_0's ndcg@20: 0.432827\tvalid_0's ndcg@100: 0.432827\n",
      "[95]\tvalid_0's map@20: 0.2742\tvalid_0's map@100: 0.2742\tvalid_0's average_precision: 0.0821389\tvalid_0's ndcg@20: 0.432925\tvalid_0's ndcg@100: 0.432925\n",
      "[96]\tvalid_0's map@20: 0.274526\tvalid_0's map@100: 0.274526\tvalid_0's average_precision: 0.0822816\tvalid_0's ndcg@20: 0.433225\tvalid_0's ndcg@100: 0.433225\n",
      "[97]\tvalid_0's map@20: 0.274524\tvalid_0's map@100: 0.274524\tvalid_0's average_precision: 0.0821878\tvalid_0's ndcg@20: 0.433222\tvalid_0's ndcg@100: 0.433222\n",
      "[98]\tvalid_0's map@20: 0.274541\tvalid_0's map@100: 0.274541\tvalid_0's average_precision: 0.0821866\tvalid_0's ndcg@20: 0.433234\tvalid_0's ndcg@100: 0.433234\n",
      "[99]\tvalid_0's map@20: 0.273961\tvalid_0's map@100: 0.273961\tvalid_0's average_precision: 0.0820485\tvalid_0's ndcg@20: 0.432692\tvalid_0's ndcg@100: 0.432692\n",
      "[100]\tvalid_0's map@20: 0.274013\tvalid_0's map@100: 0.274013\tvalid_0's average_precision: 0.082033\tvalid_0's ndcg@20: 0.432728\tvalid_0's ndcg@100: 0.432728\n",
      "[101]\tvalid_0's map@20: 0.273379\tvalid_0's map@100: 0.273379\tvalid_0's average_precision: 0.0820073\tvalid_0's ndcg@20: 0.432088\tvalid_0's ndcg@100: 0.432088\n",
      "[102]\tvalid_0's map@20: 0.273546\tvalid_0's map@100: 0.273546\tvalid_0's average_precision: 0.0822062\tvalid_0's ndcg@20: 0.432221\tvalid_0's ndcg@100: 0.432221\n",
      "[103]\tvalid_0's map@20: 0.273512\tvalid_0's map@100: 0.273512\tvalid_0's average_precision: 0.0821324\tvalid_0's ndcg@20: 0.432189\tvalid_0's ndcg@100: 0.432189\n",
      "[104]\tvalid_0's map@20: 0.273384\tvalid_0's map@100: 0.273384\tvalid_0's average_precision: 0.0822101\tvalid_0's ndcg@20: 0.432071\tvalid_0's ndcg@100: 0.432071\n",
      "[105]\tvalid_0's map@20: 0.273218\tvalid_0's map@100: 0.273218\tvalid_0's average_precision: 0.082149\tvalid_0's ndcg@20: 0.431991\tvalid_0's ndcg@100: 0.431991\n",
      "[106]\tvalid_0's map@20: 0.269118\tvalid_0's map@100: 0.269118\tvalid_0's average_precision: 0.0819519\tvalid_0's ndcg@20: 0.428851\tvalid_0's ndcg@100: 0.428851\n",
      "[107]\tvalid_0's map@20: 0.269179\tvalid_0's map@100: 0.269179\tvalid_0's average_precision: 0.0818619\tvalid_0's ndcg@20: 0.428928\tvalid_0's ndcg@100: 0.428928\n",
      "[108]\tvalid_0's map@20: 0.269437\tvalid_0's map@100: 0.269437\tvalid_0's average_precision: 0.0817973\tvalid_0's ndcg@20: 0.429154\tvalid_0's ndcg@100: 0.429154\n",
      "[109]\tvalid_0's map@20: 0.267691\tvalid_0's map@100: 0.267691\tvalid_0's average_precision: 0.0817369\tvalid_0's ndcg@20: 0.427756\tvalid_0's ndcg@100: 0.427756\n",
      "[110]\tvalid_0's map@20: 0.267538\tvalid_0's map@100: 0.267538\tvalid_0's average_precision: 0.0817882\tvalid_0's ndcg@20: 0.427617\tvalid_0's ndcg@100: 0.427617\n",
      "[111]\tvalid_0's map@20: 0.267538\tvalid_0's map@100: 0.267538\tvalid_0's average_precision: 0.0817766\tvalid_0's ndcg@20: 0.427617\tvalid_0's ndcg@100: 0.427617\n",
      "[112]\tvalid_0's map@20: 0.267517\tvalid_0's map@100: 0.267517\tvalid_0's average_precision: 0.0817162\tvalid_0's ndcg@20: 0.427606\tvalid_0's ndcg@100: 0.427606\n",
      "[113]\tvalid_0's map@20: 0.26779\tvalid_0's map@100: 0.26779\tvalid_0's average_precision: 0.0819631\tvalid_0's ndcg@20: 0.42787\tvalid_0's ndcg@100: 0.42787\n",
      "[114]\tvalid_0's map@20: 0.267858\tvalid_0's map@100: 0.267858\tvalid_0's average_precision: 0.0819463\tvalid_0's ndcg@20: 0.427927\tvalid_0's ndcg@100: 0.427927\n",
      "[115]\tvalid_0's map@20: 0.267432\tvalid_0's map@100: 0.267432\tvalid_0's average_precision: 0.081926\tvalid_0's ndcg@20: 0.427617\tvalid_0's ndcg@100: 0.427617\n",
      "[116]\tvalid_0's map@20: 0.267547\tvalid_0's map@100: 0.267547\tvalid_0's average_precision: 0.0819149\tvalid_0's ndcg@20: 0.427725\tvalid_0's ndcg@100: 0.427725\n",
      "[117]\tvalid_0's map@20: 0.267244\tvalid_0's map@100: 0.267244\tvalid_0's average_precision: 0.0817958\tvalid_0's ndcg@20: 0.427429\tvalid_0's ndcg@100: 0.427429\n",
      "[118]\tvalid_0's map@20: 0.267266\tvalid_0's map@100: 0.267266\tvalid_0's average_precision: 0.0817946\tvalid_0's ndcg@20: 0.427459\tvalid_0's ndcg@100: 0.427459\n",
      "[119]\tvalid_0's map@20: 0.267324\tvalid_0's map@100: 0.267324\tvalid_0's average_precision: 0.0817416\tvalid_0's ndcg@20: 0.42752\tvalid_0's ndcg@100: 0.42752\n",
      "[120]\tvalid_0's map@20: 0.267454\tvalid_0's map@100: 0.267454\tvalid_0's average_precision: 0.0817216\tvalid_0's ndcg@20: 0.427626\tvalid_0's ndcg@100: 0.427626\n",
      "[121]\tvalid_0's map@20: 0.269087\tvalid_0's map@100: 0.269087\tvalid_0's average_precision: 0.0818837\tvalid_0's ndcg@20: 0.428879\tvalid_0's ndcg@100: 0.428879\n",
      "[122]\tvalid_0's map@20: 0.267476\tvalid_0's map@100: 0.267476\tvalid_0's average_precision: 0.0817952\tvalid_0's ndcg@20: 0.427624\tvalid_0's ndcg@100: 0.427624\n",
      "[123]\tvalid_0's map@20: 0.274125\tvalid_0's map@100: 0.274125\tvalid_0's average_precision: 0.0819553\tvalid_0's ndcg@20: 0.432614\tvalid_0's ndcg@100: 0.432614\n",
      "[124]\tvalid_0's map@20: 0.274016\tvalid_0's map@100: 0.274016\tvalid_0's average_precision: 0.081906\tvalid_0's ndcg@20: 0.432504\tvalid_0's ndcg@100: 0.432504\n",
      "[125]\tvalid_0's map@20: 0.274506\tvalid_0's map@100: 0.274506\tvalid_0's average_precision: 0.0820542\tvalid_0's ndcg@20: 0.432901\tvalid_0's ndcg@100: 0.432901\n",
      "[126]\tvalid_0's map@20: 0.27465\tvalid_0's map@100: 0.27465\tvalid_0's average_precision: 0.0819771\tvalid_0's ndcg@20: 0.433038\tvalid_0's ndcg@100: 0.433038\n",
      "[127]\tvalid_0's map@20: 0.274436\tvalid_0's map@100: 0.274436\tvalid_0's average_precision: 0.0820242\tvalid_0's ndcg@20: 0.432861\tvalid_0's ndcg@100: 0.432861\n",
      "[128]\tvalid_0's map@20: 0.274192\tvalid_0's map@100: 0.274192\tvalid_0's average_precision: 0.0819251\tvalid_0's ndcg@20: 0.432713\tvalid_0's ndcg@100: 0.432713\n",
      "[129]\tvalid_0's map@20: 0.274231\tvalid_0's map@100: 0.274231\tvalid_0's average_precision: 0.0817975\tvalid_0's ndcg@20: 0.432743\tvalid_0's ndcg@100: 0.432743\n",
      "[130]\tvalid_0's map@20: 0.274124\tvalid_0's map@100: 0.274124\tvalid_0's average_precision: 0.0821029\tvalid_0's ndcg@20: 0.432625\tvalid_0's ndcg@100: 0.432625\n",
      "[131]\tvalid_0's map@20: 0.27419\tvalid_0's map@100: 0.27419\tvalid_0's average_precision: 0.0821041\tvalid_0's ndcg@20: 0.432682\tvalid_0's ndcg@100: 0.432682\n",
      "[132]\tvalid_0's map@20: 0.274508\tvalid_0's map@100: 0.274508\tvalid_0's average_precision: 0.0821749\tvalid_0's ndcg@20: 0.432926\tvalid_0's ndcg@100: 0.432926\n",
      "[133]\tvalid_0's map@20: 0.274351\tvalid_0's map@100: 0.274351\tvalid_0's average_precision: 0.0821919\tvalid_0's ndcg@20: 0.432771\tvalid_0's ndcg@100: 0.432771\n",
      "[134]\tvalid_0's map@20: 0.274331\tvalid_0's map@100: 0.274331\tvalid_0's average_precision: 0.0821555\tvalid_0's ndcg@20: 0.432756\tvalid_0's ndcg@100: 0.432756\n",
      "[135]\tvalid_0's map@20: 0.27443\tvalid_0's map@100: 0.27443\tvalid_0's average_precision: 0.0820552\tvalid_0's ndcg@20: 0.432816\tvalid_0's ndcg@100: 0.432816\n",
      "[136]\tvalid_0's map@20: 0.274742\tvalid_0's map@100: 0.274742\tvalid_0's average_precision: 0.082213\tvalid_0's ndcg@20: 0.433045\tvalid_0's ndcg@100: 0.433045\n",
      "[137]\tvalid_0's map@20: 0.274656\tvalid_0's map@100: 0.274656\tvalid_0's average_precision: 0.0820425\tvalid_0's ndcg@20: 0.43299\tvalid_0's ndcg@100: 0.43299\n",
      "[138]\tvalid_0's map@20: 0.274822\tvalid_0's map@100: 0.274822\tvalid_0's average_precision: 0.0821102\tvalid_0's ndcg@20: 0.433136\tvalid_0's ndcg@100: 0.433136\n",
      "[139]\tvalid_0's map@20: 0.274534\tvalid_0's map@100: 0.274534\tvalid_0's average_precision: 0.0819245\tvalid_0's ndcg@20: 0.4329\tvalid_0's ndcg@100: 0.4329\n",
      "[140]\tvalid_0's map@20: 0.274421\tvalid_0's map@100: 0.274421\tvalid_0's average_precision: 0.0818811\tvalid_0's ndcg@20: 0.432822\tvalid_0's ndcg@100: 0.432822\n",
      "[141]\tvalid_0's map@20: 0.274381\tvalid_0's map@100: 0.274381\tvalid_0's average_precision: 0.0818533\tvalid_0's ndcg@20: 0.432802\tvalid_0's ndcg@100: 0.432802\n",
      "[142]\tvalid_0's map@20: 0.274213\tvalid_0's map@100: 0.274213\tvalid_0's average_precision: 0.0818633\tvalid_0's ndcg@20: 0.432662\tvalid_0's ndcg@100: 0.432662\n",
      "[143]\tvalid_0's map@20: 0.274192\tvalid_0's map@100: 0.274192\tvalid_0's average_precision: 0.0818387\tvalid_0's ndcg@20: 0.432647\tvalid_0's ndcg@100: 0.432647\n",
      "[144]\tvalid_0's map@20: 0.274254\tvalid_0's map@100: 0.274254\tvalid_0's average_precision: 0.0818484\tvalid_0's ndcg@20: 0.43272\tvalid_0's ndcg@100: 0.43272\n",
      "[145]\tvalid_0's map@20: 0.274191\tvalid_0's map@100: 0.274191\tvalid_0's average_precision: 0.0818437\tvalid_0's ndcg@20: 0.432685\tvalid_0's ndcg@100: 0.432685\n",
      "[146]\tvalid_0's map@20: 0.274582\tvalid_0's map@100: 0.274582\tvalid_0's average_precision: 0.081844\tvalid_0's ndcg@20: 0.432988\tvalid_0's ndcg@100: 0.432988\n",
      "[147]\tvalid_0's map@20: 0.274482\tvalid_0's map@100: 0.274482\tvalid_0's average_precision: 0.0818186\tvalid_0's ndcg@20: 0.432894\tvalid_0's ndcg@100: 0.432894\n",
      "[148]\tvalid_0's map@20: 0.272254\tvalid_0's map@100: 0.272254\tvalid_0's average_precision: 0.0818035\tvalid_0's ndcg@20: 0.431259\tvalid_0's ndcg@100: 0.431259\n",
      "[149]\tvalid_0's map@20: 0.272343\tvalid_0's map@100: 0.272343\tvalid_0's average_precision: 0.0818217\tvalid_0's ndcg@20: 0.431311\tvalid_0's ndcg@100: 0.431311\n",
      "[150]\tvalid_0's map@20: 0.274218\tvalid_0's map@100: 0.274218\tvalid_0's average_precision: 0.0818236\tvalid_0's ndcg@20: 0.432686\tvalid_0's ndcg@100: 0.432686\n",
      "[151]\tvalid_0's map@20: 0.274244\tvalid_0's map@100: 0.274244\tvalid_0's average_precision: 0.0818037\tvalid_0's ndcg@20: 0.432716\tvalid_0's ndcg@100: 0.432716\n",
      "[152]\tvalid_0's map@20: 0.271964\tvalid_0's map@100: 0.271964\tvalid_0's average_precision: 0.0817891\tvalid_0's ndcg@20: 0.430998\tvalid_0's ndcg@100: 0.430998\n",
      "[153]\tvalid_0's map@20: 0.271884\tvalid_0's map@100: 0.271884\tvalid_0's average_precision: 0.0817912\tvalid_0's ndcg@20: 0.430897\tvalid_0's ndcg@100: 0.430897\n",
      "[154]\tvalid_0's map@20: 0.271845\tvalid_0's map@100: 0.271845\tvalid_0's average_precision: 0.0818048\tvalid_0's ndcg@20: 0.430858\tvalid_0's ndcg@100: 0.430858\n",
      "[155]\tvalid_0's map@20: 0.271786\tvalid_0's map@100: 0.271786\tvalid_0's average_precision: 0.081819\tvalid_0's ndcg@20: 0.430855\tvalid_0's ndcg@100: 0.430855\n",
      "[156]\tvalid_0's map@20: 0.271905\tvalid_0's map@100: 0.271905\tvalid_0's average_precision: 0.0818287\tvalid_0's ndcg@20: 0.430942\tvalid_0's ndcg@100: 0.430942\n",
      "[157]\tvalid_0's map@20: 0.27193\tvalid_0's map@100: 0.27193\tvalid_0's average_precision: 0.0818133\tvalid_0's ndcg@20: 0.430967\tvalid_0's ndcg@100: 0.430967\n",
      "[158]\tvalid_0's map@20: 0.271787\tvalid_0's map@100: 0.271787\tvalid_0's average_precision: 0.081811\tvalid_0's ndcg@20: 0.430863\tvalid_0's ndcg@100: 0.430863\n",
      "[159]\tvalid_0's map@20: 0.271902\tvalid_0's map@100: 0.271902\tvalid_0's average_precision: 0.0818185\tvalid_0's ndcg@20: 0.430938\tvalid_0's ndcg@100: 0.430938\n",
      "[160]\tvalid_0's map@20: 0.271844\tvalid_0's map@100: 0.271844\tvalid_0's average_precision: 0.0818346\tvalid_0's ndcg@20: 0.430916\tvalid_0's ndcg@100: 0.430916\n",
      "[161]\tvalid_0's map@20: 0.271821\tvalid_0's map@100: 0.271821\tvalid_0's average_precision: 0.081843\tvalid_0's ndcg@20: 0.430895\tvalid_0's ndcg@100: 0.430895\n",
      "[162]\tvalid_0's map@20: 0.271701\tvalid_0's map@100: 0.271701\tvalid_0's average_precision: 0.081852\tvalid_0's ndcg@20: 0.430784\tvalid_0's ndcg@100: 0.430784\n",
      "[163]\tvalid_0's map@20: 0.274355\tvalid_0's map@100: 0.274355\tvalid_0's average_precision: 0.0818611\tvalid_0's ndcg@20: 0.432739\tvalid_0's ndcg@100: 0.432739\n",
      "[164]\tvalid_0's map@20: 0.274638\tvalid_0's map@100: 0.274638\tvalid_0's average_precision: 0.0818678\tvalid_0's ndcg@20: 0.433017\tvalid_0's ndcg@100: 0.433017\n",
      "[165]\tvalid_0's map@20: 0.274576\tvalid_0's map@100: 0.274576\tvalid_0's average_precision: 0.0818418\tvalid_0's ndcg@20: 0.432935\tvalid_0's ndcg@100: 0.432935\n",
      "[166]\tvalid_0's map@20: 0.274423\tvalid_0's map@100: 0.274423\tvalid_0's average_precision: 0.0818316\tvalid_0's ndcg@20: 0.432822\tvalid_0's ndcg@100: 0.432822\n",
      "[167]\tvalid_0's map@20: 0.272072\tvalid_0's map@100: 0.272072\tvalid_0's average_precision: 0.0818486\tvalid_0's ndcg@20: 0.431075\tvalid_0's ndcg@100: 0.431075\n",
      "[168]\tvalid_0's map@20: 0.272068\tvalid_0's map@100: 0.272068\tvalid_0's average_precision: 0.0818573\tvalid_0's ndcg@20: 0.431071\tvalid_0's ndcg@100: 0.431071\n",
      "[169]\tvalid_0's map@20: 0.274294\tvalid_0's map@100: 0.274294\tvalid_0's average_precision: 0.0818459\tvalid_0's ndcg@20: 0.432716\tvalid_0's ndcg@100: 0.432716\n",
      "[170]\tvalid_0's map@20: 0.274025\tvalid_0's map@100: 0.274025\tvalid_0's average_precision: 0.0818596\tvalid_0's ndcg@20: 0.432541\tvalid_0's ndcg@100: 0.432541\n",
      "[171]\tvalid_0's map@20: 0.273991\tvalid_0's map@100: 0.273991\tvalid_0's average_precision: 0.0818249\tvalid_0's ndcg@20: 0.432518\tvalid_0's ndcg@100: 0.432518\n",
      "[172]\tvalid_0's map@20: 0.274057\tvalid_0's map@100: 0.274057\tvalid_0's average_precision: 0.0818136\tvalid_0's ndcg@20: 0.432558\tvalid_0's ndcg@100: 0.432558\n",
      "[173]\tvalid_0's map@20: 0.273906\tvalid_0's map@100: 0.273906\tvalid_0's average_precision: 0.0818254\tvalid_0's ndcg@20: 0.432434\tvalid_0's ndcg@100: 0.432434\n",
      "[174]\tvalid_0's map@20: 0.273976\tvalid_0's map@100: 0.273976\tvalid_0's average_precision: 0.0818282\tvalid_0's ndcg@20: 0.432471\tvalid_0's ndcg@100: 0.432471\n",
      "[175]\tvalid_0's map@20: 0.273927\tvalid_0's map@100: 0.273927\tvalid_0's average_precision: 0.0818157\tvalid_0's ndcg@20: 0.432408\tvalid_0's ndcg@100: 0.432408\n",
      "[176]\tvalid_0's map@20: 0.274192\tvalid_0's map@100: 0.274192\tvalid_0's average_precision: 0.0818032\tvalid_0's ndcg@20: 0.432641\tvalid_0's ndcg@100: 0.432641\n",
      "[177]\tvalid_0's map@20: 0.273956\tvalid_0's map@100: 0.273956\tvalid_0's average_precision: 0.0817853\tvalid_0's ndcg@20: 0.432407\tvalid_0's ndcg@100: 0.432407\n",
      "[178]\tvalid_0's map@20: 0.273849\tvalid_0's map@100: 0.273849\tvalid_0's average_precision: 0.0817626\tvalid_0's ndcg@20: 0.432287\tvalid_0's ndcg@100: 0.432287\n",
      "[179]\tvalid_0's map@20: 0.273839\tvalid_0's map@100: 0.273839\tvalid_0's average_precision: 0.0817669\tvalid_0's ndcg@20: 0.43229\tvalid_0's ndcg@100: 0.43229\n",
      "[180]\tvalid_0's map@20: 0.273887\tvalid_0's map@100: 0.273887\tvalid_0's average_precision: 0.0817796\tvalid_0's ndcg@20: 0.432375\tvalid_0's ndcg@100: 0.432375\n",
      "[181]\tvalid_0's map@20: 0.26966\tvalid_0's map@100: 0.26966\tvalid_0's average_precision: 0.0817122\tvalid_0's ndcg@20: 0.42916\tvalid_0's ndcg@100: 0.42916\n",
      "[182]\tvalid_0's map@20: 0.270177\tvalid_0's map@100: 0.270177\tvalid_0's average_precision: 0.0816867\tvalid_0's ndcg@20: 0.429571\tvalid_0's ndcg@100: 0.429571\n",
      "[183]\tvalid_0's map@20: 0.270086\tvalid_0's map@100: 0.270086\tvalid_0's average_precision: 0.0816607\tvalid_0's ndcg@20: 0.429488\tvalid_0's ndcg@100: 0.429488\n",
      "[184]\tvalid_0's map@20: 0.268726\tvalid_0's map@100: 0.268726\tvalid_0's average_precision: 0.0816676\tvalid_0's ndcg@20: 0.428464\tvalid_0's ndcg@100: 0.428464\n",
      "[185]\tvalid_0's map@20: 0.268665\tvalid_0's map@100: 0.268665\tvalid_0's average_precision: 0.0816809\tvalid_0's ndcg@20: 0.428421\tvalid_0's ndcg@100: 0.428421\n",
      "[186]\tvalid_0's map@20: 0.268688\tvalid_0's map@100: 0.268688\tvalid_0's average_precision: 0.0816503\tvalid_0's ndcg@20: 0.428441\tvalid_0's ndcg@100: 0.428441\n",
      "[187]\tvalid_0's map@20: 0.268487\tvalid_0's map@100: 0.268487\tvalid_0's average_precision: 0.0816659\tvalid_0's ndcg@20: 0.428263\tvalid_0's ndcg@100: 0.428263\n",
      "[188]\tvalid_0's map@20: 0.268781\tvalid_0's map@100: 0.268781\tvalid_0's average_precision: 0.081672\tvalid_0's ndcg@20: 0.428528\tvalid_0's ndcg@100: 0.428528\n",
      "[189]\tvalid_0's map@20: 0.268748\tvalid_0's map@100: 0.268748\tvalid_0's average_precision: 0.0816584\tvalid_0's ndcg@20: 0.428502\tvalid_0's ndcg@100: 0.428502\n",
      "[190]\tvalid_0's map@20: 0.268891\tvalid_0's map@100: 0.268891\tvalid_0's average_precision: 0.0816732\tvalid_0's ndcg@20: 0.428638\tvalid_0's ndcg@100: 0.428638\n",
      "[191]\tvalid_0's map@20: 0.268921\tvalid_0's map@100: 0.268921\tvalid_0's average_precision: 0.0820069\tvalid_0's ndcg@20: 0.42866\tvalid_0's ndcg@100: 0.42866\n",
      "[192]\tvalid_0's map@20: 0.268669\tvalid_0's map@100: 0.268669\tvalid_0's average_precision: 0.0820038\tvalid_0's ndcg@20: 0.428447\tvalid_0's ndcg@100: 0.428447\n",
      "[193]\tvalid_0's map@20: 0.268681\tvalid_0's map@100: 0.268681\tvalid_0's average_precision: 0.0819893\tvalid_0's ndcg@20: 0.428435\tvalid_0's ndcg@100: 0.428435\n",
      "[194]\tvalid_0's map@20: 0.268684\tvalid_0's map@100: 0.268684\tvalid_0's average_precision: 0.0820059\tvalid_0's ndcg@20: 0.428454\tvalid_0's ndcg@100: 0.428454\n",
      "[195]\tvalid_0's map@20: 0.268866\tvalid_0's map@100: 0.268866\tvalid_0's average_precision: 0.0820087\tvalid_0's ndcg@20: 0.428554\tvalid_0's ndcg@100: 0.428554\n",
      "[196]\tvalid_0's map@20: 0.268801\tvalid_0's map@100: 0.268801\tvalid_0's average_precision: 0.0820062\tvalid_0's ndcg@20: 0.428505\tvalid_0's ndcg@100: 0.428505\n",
      "[197]\tvalid_0's map@20: 0.268782\tvalid_0's map@100: 0.268782\tvalid_0's average_precision: 0.0820137\tvalid_0's ndcg@20: 0.428499\tvalid_0's ndcg@100: 0.428499\n",
      "[198]\tvalid_0's map@20: 0.268986\tvalid_0's map@100: 0.268986\tvalid_0's average_precision: 0.0820398\tvalid_0's ndcg@20: 0.428656\tvalid_0's ndcg@100: 0.428656\n",
      "[199]\tvalid_0's map@20: 0.268559\tvalid_0's map@100: 0.268559\tvalid_0's average_precision: 0.0820549\tvalid_0's ndcg@20: 0.428332\tvalid_0's ndcg@100: 0.428332\n",
      "[200]\tvalid_0's map@20: 0.268486\tvalid_0's map@100: 0.268486\tvalid_0's average_precision: 0.0820512\tvalid_0's ndcg@20: 0.428259\tvalid_0's ndcg@100: 0.428259\n",
      "Did not meet early stopping. Best iteration is:\n",
      "[50]\tvalid_0's map@20: 0.279383\tvalid_0's map@100: 0.279383\tvalid_0's average_precision: 0.082327\tvalid_0's ndcg@20: 0.436566\tvalid_0's ndcg@100: 0.436566\n",
      "Evaluated only: map@20\n",
      "defaultdict(<class 'collections.OrderedDict'>, {'valid_0': OrderedDict([('map@20', 0.27938323733880105), ('map@100', 0.27938323733880105), ('average_precision', 0.08232703892340447), ('ndcg@20', 0.4365657530146846), ('ndcg@100', 0.4365657530146846)])})\n"
     ]
    }
   ],
   "source": [
    "model = lgb.LGBMRanker(\n",
    "    objective='lambdarank',\n",
    "    random_state=34,\n",
    "    learning_rate = 0.0001,\n",
    "    #subsample=0.8, subsample_freq=5,\n",
    "    reg_alpha = 0.001,\n",
    "    #reg_lambda = 0.001,\n",
    "    #colsample_bytree = 0.8,\n",
    "    n_estimators = 200,\n",
    "    n_jobs = -1, first_metric_only=True\n",
    ")\n",
    "model.fit(X=X_train, y=y_train, group=ids_train, \n",
    "    eval_set=[(X_test, y_test)], eval_group=[ids_test], \n",
    "    #eval_set=[(X_train, y_train)], eval_group=[ids_train], \n",
    "    eval_metric=['map', 'average_precision'], \n",
    "    #sample_weight=weights_train,\n",
    "    eval_at=[20, 100], early_stopping_rounds=200\n",
    "    )\n",
    "print(model.best_score_)"
   ]
  },
  {
   "cell_type": "code",
   "execution_count": 77,
   "metadata": {},
   "outputs": [
    {
     "data": {
      "text/html": [
       "<div>\n",
       "<style scoped>\n",
       "    .dataframe tbody tr th:only-of-type {\n",
       "        vertical-align: middle;\n",
       "    }\n",
       "\n",
       "    .dataframe tbody tr th {\n",
       "        vertical-align: top;\n",
       "    }\n",
       "\n",
       "    .dataframe thead th {\n",
       "        text-align: right;\n",
       "    }\n",
       "</style>\n",
       "<table border=\"1\" class=\"dataframe\">\n",
       "  <thead>\n",
       "    <tr style=\"text-align: right;\">\n",
       "      <th></th>\n",
       "      <th>feature</th>\n",
       "      <th>importance</th>\n",
       "    </tr>\n",
       "  </thead>\n",
       "  <tbody>\n",
       "    <tr>\n",
       "      <th>1</th>\n",
       "      <td>user_reviews_count</td>\n",
       "      <td>206</td>\n",
       "    </tr>\n",
       "    <tr>\n",
       "      <th>21</th>\n",
       "      <td>average_bill</td>\n",
       "      <td>190</td>\n",
       "    </tr>\n",
       "    <tr>\n",
       "      <th>2</th>\n",
       "      <td>rubrics_id30774_y</td>\n",
       "      <td>164</td>\n",
       "    </tr>\n",
       "    <tr>\n",
       "      <th>18</th>\n",
       "      <td>user_median_bill</td>\n",
       "      <td>146</td>\n",
       "    </tr>\n",
       "    <tr>\n",
       "      <th>22</th>\n",
       "      <td>org_defautl_rating</td>\n",
       "      <td>145</td>\n",
       "    </tr>\n",
       "    <tr>\n",
       "      <th>23</th>\n",
       "      <td>rubrics_coincidence</td>\n",
       "      <td>134</td>\n",
       "    </tr>\n",
       "    <tr>\n",
       "      <th>4</th>\n",
       "      <td>rubrics_id30770_y</td>\n",
       "      <td>119</td>\n",
       "    </tr>\n",
       "    <tr>\n",
       "      <th>6</th>\n",
       "      <td>rubrics_id30776_y</td>\n",
       "      <td>100</td>\n",
       "    </tr>\n",
       "    <tr>\n",
       "      <th>17</th>\n",
       "      <td>user_mean_bill</td>\n",
       "      <td>90</td>\n",
       "    </tr>\n",
       "    <tr>\n",
       "      <th>9</th>\n",
       "      <td>rubrics_id30771_y</td>\n",
       "      <td>59</td>\n",
       "    </tr>\n",
       "    <tr>\n",
       "      <th>5</th>\n",
       "      <td>rubrics_id31375_y</td>\n",
       "      <td>51</td>\n",
       "    </tr>\n",
       "    <tr>\n",
       "      <th>19</th>\n",
       "      <td>org_mean_rating</td>\n",
       "      <td>44</td>\n",
       "    </tr>\n",
       "    <tr>\n",
       "      <th>7</th>\n",
       "      <td>rubrics_id31495_y</td>\n",
       "      <td>26</td>\n",
       "    </tr>\n",
       "    <tr>\n",
       "      <th>10</th>\n",
       "      <td>rubrics_id30777_y</td>\n",
       "      <td>18</td>\n",
       "    </tr>\n",
       "    <tr>\n",
       "      <th>12</th>\n",
       "      <td>rubrics_id31350_y</td>\n",
       "      <td>8</td>\n",
       "    </tr>\n",
       "    <tr>\n",
       "      <th>15</th>\n",
       "      <td>rubrics_id31286_y</td>\n",
       "      <td>0</td>\n",
       "    </tr>\n",
       "    <tr>\n",
       "      <th>16</th>\n",
       "      <td>rubrics_id3501514558_y</td>\n",
       "      <td>0</td>\n",
       "    </tr>\n",
       "    <tr>\n",
       "      <th>14</th>\n",
       "      <td>rubrics_id3108292683_y</td>\n",
       "      <td>0</td>\n",
       "    </tr>\n",
       "    <tr>\n",
       "      <th>13</th>\n",
       "      <td>rubrics_id3501750896_y</td>\n",
       "      <td>0</td>\n",
       "    </tr>\n",
       "    <tr>\n",
       "      <th>11</th>\n",
       "      <td>rubrics_id31401_y</td>\n",
       "      <td>0</td>\n",
       "    </tr>\n",
       "    <tr>\n",
       "      <th>20</th>\n",
       "      <td>org_median_rating</td>\n",
       "      <td>0</td>\n",
       "    </tr>\n",
       "    <tr>\n",
       "      <th>8</th>\n",
       "      <td>rubrics_id30775_y</td>\n",
       "      <td>0</td>\n",
       "    </tr>\n",
       "    <tr>\n",
       "      <th>3</th>\n",
       "      <td>rubrics_id30519_y</td>\n",
       "      <td>0</td>\n",
       "    </tr>\n",
       "    <tr>\n",
       "      <th>0</th>\n",
       "      <td>is_tourist</td>\n",
       "      <td>0</td>\n",
       "    </tr>\n",
       "  </tbody>\n",
       "</table>\n",
       "</div>"
      ],
      "text/plain": [
       "                   feature  importance\n",
       "1       user_reviews_count         206\n",
       "21            average_bill         190\n",
       "2        rubrics_id30774_y         164\n",
       "18        user_median_bill         146\n",
       "22      org_defautl_rating         145\n",
       "23     rubrics_coincidence         134\n",
       "4        rubrics_id30770_y         119\n",
       "6        rubrics_id30776_y         100\n",
       "17          user_mean_bill          90\n",
       "9        rubrics_id30771_y          59\n",
       "5        rubrics_id31375_y          51\n",
       "19         org_mean_rating          44\n",
       "7        rubrics_id31495_y          26\n",
       "10       rubrics_id30777_y          18\n",
       "12       rubrics_id31350_y           8\n",
       "15       rubrics_id31286_y           0\n",
       "16  rubrics_id3501514558_y           0\n",
       "14  rubrics_id3108292683_y           0\n",
       "13  rubrics_id3501750896_y           0\n",
       "11       rubrics_id31401_y           0\n",
       "20       org_median_rating           0\n",
       "8        rubrics_id30775_y           0\n",
       "3        rubrics_id30519_y           0\n",
       "0               is_tourist           0"
      ]
     },
     "execution_count": 77,
     "metadata": {},
     "output_type": "execute_result"
    }
   ],
   "source": [
    "pd.DataFrame({ \"feature\": model.feature_name_, \"importance\": model.feature_importances_})\\\n",
    "    .sort_values('importance', ascending=False)"
   ]
  },
  {
   "cell_type": "markdown",
   "metadata": {},
   "source": [
    "## Averaging predictions of a few copies of same algo with different seeds"
   ]
  },
  {
   "cell_type": "code",
   "execution_count": null,
   "metadata": {},
   "outputs": [],
   "source": [
    "X_test2, y_test2, ids_test2, X_raw_test2 = get_dataset(rev_test)\n",
    "different_preds = []\n",
    "right_preds = []\n",
    "for i in range(20):\n",
    "    model = lgb.LGBMRanker(\n",
    "    objective='lambdarank',\n",
    "    random_state=i,\n",
    "    learning_rate = 0.0001,\n",
    "    #subsample=0.8, subsample_freq=5,\n",
    "    reg_alpha = 0.002,\n",
    "    #reg_lambda = 0.1,\n",
    "    #colsample_bytree = 0.5,\n",
    "    n_estimators = 200,\n",
    "    n_jobs = -1, first_metric_only=True\n",
    "    )\n",
    "    X_train, y_train, ids_train, X_raw_train = get_dataset(rev_train, N_POOL, N_NEGATIVE_SAMPLES)\n",
    "\n",
    "    model.fit(X=X_train, y=y_train, group=ids_train, \n",
    "        eval_set=[(X_test, y_test)], eval_group=[ids_test], \n",
    "        #eval_set=[(X_train, y_train)], eval_group=[ids_train], \n",
    "        eval_metric=['map'], verbose=-1,\n",
    "        eval_at=[20, 100], early_stopping_rounds=None)\n",
    "    print(i, model.best_score_)\n",
    "    inds = X_raw_test.org_id.isin(\n",
    "    np.hstack([spb_orgs[:N_POOL], msk_orgs[:N_POOL]])\n",
    "    )\n",
    "    predicted_vals = model.predict(X_test[inds], raw_score=False)\n",
    "    different_preds.append(predicted_vals)\n",
    "\n",
    "    inds = X_raw_test2.org_id.isin(\n",
    "    np.hstack([spb_orgs[:N_TEST_POOL], msk_orgs[:N_TEST_POOL]])\n",
    "    )\n",
    "    predicted_vals = model.predict(X_test2[inds], raw_score=False)\n",
    "    right_preds.append(predicted_vals)"
   ]
  },
  {
   "cell_type": "markdown",
   "metadata": {},
   "source": [
    "By ranking"
   ]
  },
  {
   "cell_type": "code",
   "execution_count": 24,
   "metadata": {},
   "outputs": [
    {
     "name": "stdout",
     "output_type": "stream",
     "text": [
      "Performance if accounting only users who have positives among most popular      places by these most polular places\n",
      "Score: 33.28\n"
     ]
    }
   ],
   "source": [
    "inds = X_raw_test.org_id.isin(\n",
    "    np.hstack([spb_orgs[:N_POOL], msk_orgs[:N_POOL]])\n",
    "    )\n",
    "predicted_vals = pd.DataFrame(\n",
    "    {f'pred{i}': different_preds[i] for i in range(len(different_preds))},\n",
    "    index=X_raw_test.user_id).groupby('user_id').rank().sum(axis=1).rename('prediction')\n",
    "X_raw_test.loc[inds, 'prediction'] = predicted_vals.values\n",
    "predictions = X_raw_test[inds]\\\n",
    ".sort_values(['user_id', 'prediction'], ascending=[True, False])\\\n",
    ".groupby('user_id')['org_id'].apply(lambda x: list(x[:20]))\\\n",
    ".rename('target').to_frame().reset_index()\n",
    "_, y_true = process_reviews(rev_test)\n",
    "_, trial = process_reviews(X_raw_test.query('rating >= 4'))\n",
    "y_true_mod = trial.copy()\n",
    "y_true_mod['target'] = y_true_mod.target.apply(\n",
    "    lambda arr: [x for x in arr if x in np.hstack([spb_orgs[:N_POOL], msk_orgs[:N_POOL]])]\n",
    "    )\n",
    "y_true_mod = y_true_mod[y_true_mod.target.apply(lambda x: len(x) > 0)]\n",
    "print(\"Performance if accounting only users who have positives among most popular \\\n",
    "     places by these most polular places\")\n",
    "print_score(MNAP_N(y_true_mod, predictions))"
   ]
  },
  {
   "cell_type": "code",
   "execution_count": 25,
   "metadata": {},
   "outputs": [
    {
     "name": "stdout",
     "output_type": "stream",
     "text": [
      "Performance if accounting all users by all positive places\n",
      "Score: 6.91\n"
     ]
    }
   ],
   "source": [
    "inds = X_raw_test2.org_id.isin(\n",
    "    np.hstack([spb_orgs[:N_TEST_POOL], msk_orgs[:N_TEST_POOL]])\n",
    "    )\n",
    "predicted_vals = pd.DataFrame(\n",
    "    {f'pred{i}': right_preds[i] for i in range(len(right_preds))},\n",
    "    index=X_raw_test2[inds].user_id).groupby('user_id').rank()\\\n",
    "        .sum(axis=1).rename('prediction')\n",
    "X_raw_test2.loc[inds, 'prediction'] = predicted_vals.values\n",
    "predictions = X_raw_test2[inds]\\\n",
    ".sort_values(['user_id', 'prediction'], ascending=[True, False])\\\n",
    ".groupby('user_id')['org_id'].apply(lambda x: list(x[:20]))\\\n",
    ".rename('target').to_frame().reset_index()\n",
    "_, y_true = process_reviews(rev_test)\n",
    "\n",
    "print(\"Performance if accounting all users by all positive places\")\n",
    "print_score(MNAP_N(y_true, predictions))"
   ]
  },
  {
   "cell_type": "markdown",
   "metadata": {},
   "source": [
    "By summation"
   ]
  },
  {
   "cell_type": "code",
   "execution_count": 26,
   "metadata": {},
   "outputs": [
    {
     "name": "stdout",
     "output_type": "stream",
     "text": [
      "Performance if accounting only users who have positives among most popular      places by these most polular places\n",
      "Score: 33.54\n"
     ]
    }
   ],
   "source": [
    "inds = X_raw_test.org_id.isin(\n",
    "    np.hstack([spb_orgs[:N_POOL], msk_orgs[:N_POOL]])\n",
    "    )\n",
    "predicted_vals = pd.DataFrame(\n",
    "    {f'pred{i}': different_preds[i] for i in range(len(different_preds))},\n",
    "    index=X_raw_test.index).sum(axis=1).rename('prediction')\n",
    "X_raw_test.loc[inds, 'prediction'] = predicted_vals\n",
    "predictions = X_raw_test[inds]\\\n",
    ".sort_values(['user_id', 'prediction'], ascending=[True, False])\\\n",
    ".groupby('user_id')['org_id'].apply(lambda x: list(x[:20]))\\\n",
    ".rename('target').to_frame().reset_index()\n",
    "_, y_true = process_reviews(rev_test)\n",
    "_, trial = process_reviews(X_raw_test.query('rating >= 4'))\n",
    "y_true_mod = trial.copy()\n",
    "y_true_mod['target'] = y_true_mod.target.apply(\n",
    "    lambda arr: [x for x in arr if x in np.hstack([spb_orgs[:N_POOL], msk_orgs[:N_POOL]])]\n",
    "    )\n",
    "y_true_mod = y_true_mod[y_true_mod.target.apply(lambda x: len(x) > 0)]\n",
    "print(\"Performance if accounting only users who have positives among most popular \\\n",
    "     places by these most polular places\")\n",
    "print_score(MNAP_N(y_true_mod, predictions))"
   ]
  },
  {
   "cell_type": "code",
   "execution_count": 28,
   "metadata": {},
   "outputs": [
    {
     "name": "stdout",
     "output_type": "stream",
     "text": [
      "Performance if accounting all users by all positive places\n",
      "Score: 6.97\n"
     ]
    }
   ],
   "source": [
    "inds = X_raw_test2.org_id.isin(\n",
    "    np.hstack([spb_orgs[:N_TEST_POOL], msk_orgs[:N_TEST_POOL]])\n",
    "    )\n",
    "predicted_vals = pd.DataFrame(\n",
    "    {f'pred{i}': right_preds[i] for i in range(len(right_preds))},\n",
    "    index=X_raw_test2[inds].index).sum(axis=1).rename('prediction')\n",
    "X_raw_test2.loc[inds, 'prediction'] = predicted_vals\n",
    "predictions = X_raw_test2[inds]\\\n",
    ".sort_values(['user_id', 'prediction'], ascending=[True, False])\\\n",
    ".groupby('user_id')['org_id'].apply(lambda x: list(x[:20]))\\\n",
    ".rename('target').to_frame().reset_index()\n",
    "_, y_true = process_reviews(rev_test)\n",
    "\n",
    "print(\"Performance if accounting all users by all positive places\")\n",
    "print_score(MNAP_N(y_true, predictions))"
   ]
  },
  {
   "cell_type": "markdown",
   "metadata": {},
   "source": [
    "## Performance metrics for unaverage strategies"
   ]
  },
  {
   "cell_type": "code",
   "execution_count": 22,
   "metadata": {},
   "outputs": [
    {
     "name": "stdout",
     "output_type": "stream",
     "text": [
      "Performance if accounting only users who have positives among most popular      places by these most polular places\n",
      "Score: 40.35\n"
     ]
    }
   ],
   "source": [
    "# Ensure we supply only most popular orgs to the test\n",
    "inds = X_raw_test.org_id.isin(\n",
    "    np.hstack([spb_orgs[:N_POOL], msk_orgs[:N_POOL]])\n",
    "    )\n",
    "predicted_vals = model.predict(X_test[inds], raw_score=False)\n",
    "X_raw_test.loc[inds, 'prediction'] = predicted_vals\n",
    "predictions = X_raw_test[inds]\\\n",
    ".sort_values(['user_id', 'prediction'], ascending=[True, False])\\\n",
    ".groupby('user_id')['org_id'].apply(lambda x: list(x[:20]))\\\n",
    ".rename('target').to_frame().reset_index()\n",
    "_, y_true = process_reviews(rev_test)\n",
    "_, trial = process_reviews(X_raw_test.query('rating >= 4'))\n",
    "y_true_mod = trial.copy()\n",
    "y_true_mod['target'] = y_true_mod.target.apply(\n",
    "    lambda arr: [x for x in arr if x in np.hstack([spb_orgs[:N_POOL], msk_orgs[:N_POOL]])]\n",
    "    )\n",
    "y_true_mod = y_true_mod[y_true_mod.target.apply(lambda x: len(x) > 0)]\n",
    "print(\"Performance if accounting only users who have positives among most popular \\\n",
    "     places by these most polular places\")\n",
    "print_score(MNAP_N(y_true_mod, predictions))\n"
   ]
  },
  {
   "cell_type": "code",
   "execution_count": 23,
   "metadata": {},
   "outputs": [],
   "source": [
    "X_test2, y_test2, ids_test2, X_raw_test2 = get_dataset(rev_test)"
   ]
  },
  {
   "cell_type": "code",
   "execution_count": 24,
   "metadata": {},
   "outputs": [
    {
     "name": "stdout",
     "output_type": "stream",
     "text": [
      "Performance if accounting all users by all positive places\n",
      "Score: 8.46\n"
     ]
    }
   ],
   "source": [
    "inds = X_raw_test2.org_id.isin(\n",
    "    np.hstack([spb_orgs[:N_TEST_POOL], msk_orgs[:N_TEST_POOL]])\n",
    "    )\n",
    "predicted_vals = model.predict(X_test2[inds], raw_score=False)\n",
    "X_raw_test2.loc[inds, 'prediction'] = predicted_vals\n",
    "predictions = X_raw_test2[inds]\\\n",
    ".sort_values(['user_id', 'prediction'], ascending=[True, False])\\\n",
    ".groupby('user_id')['org_id'].apply(lambda x: list(x[:20]))\\\n",
    ".rename('target').to_frame().reset_index()\n",
    "_, y_true = process_reviews(rev_test)\n",
    "\n",
    "print(\"Performance if accounting all users by all positive places\")\n",
    "print_score(MNAP_N(y_true, predictions))"
   ]
  },
  {
   "cell_type": "code",
   "execution_count": 32,
   "metadata": {},
   "outputs": [
    {
     "name": "stdout",
     "output_type": "stream",
     "text": [
      "Score: 6.71\n",
      "Score: 32.63\n"
     ]
    }
   ],
   "source": [
    "# Perfomance of succession of 20 most popular\n",
    "X_val, y_true = process_reviews(rev_test)\n",
    "X_val = X_val.merge(users, on='user_id', how='left')\n",
    "    \n",
    "choose = lambda x: spb_orgs[:20] if x['city'] == 'msk' else msk_orgs[:20]\n",
    "X_val['target'] = X_val.apply(choose, axis=1)\n",
    "X_val.drop(columns=['city', 'new_user_id'], inplace=True)\n",
    "print_score(MNAP_N(y_true, X_val))\n",
    "\n",
    "y_true_mod = y_true.copy()\n",
    "y_true_mod['target'] = y_true.target.apply(\n",
    "    lambda arr: [x for x in arr if x in np.hstack([spb_orgs[:N_TEST_POOL], msk_orgs[:N_TEST_POOL]])]\n",
    "    )\n",
    "y_true_mod = y_true_mod[y_true_mod.target.apply(lambda x: len(x) > 0)]\n",
    "X_val_mod = X_val[X_val.user_id.isin(y_true_mod.user_id)]\n",
    "print_score(MNAP_N(y_true_mod, X_val_mod))"
   ]
  },
  {
   "cell_type": "code",
   "execution_count": 23,
   "metadata": {},
   "outputs": [
    {
     "name": "stdout",
     "output_type": "stream",
     "text": [
      "Score: 6.71\n",
      "Score: 18.88\n"
     ]
    }
   ],
   "source": [
    "# Perfomance of succession of 20 most popular\n",
    "X_val, y_true = process_reviews(rev_test)\n",
    "X_val = X_val.merge(users, on='user_id', how='left')\n",
    "    \n",
    "choose = lambda x: spb_orgs[:20] if x['city'] == 'msk' else msk_orgs[:20]\n",
    "X_val['target'] = X_val.apply(choose, axis=1)\n",
    "X_val.drop(columns=['city', 'new_user_id'], inplace=True)\n",
    "print_score(MNAP_N(y_true, X_val))\n",
    "\n",
    "y_true_mod = y_true.copy()\n",
    "y_true_mod['target'] = y_true.target.apply(\n",
    "    lambda arr: [x for x in arr if x in np.hstack([spb_orgs[:100], msk_orgs[:100]])]\n",
    "    )\n",
    "y_true_mod = y_true_mod[y_true_mod.target.apply(lambda x: len(x) > 0)]\n",
    "X_val_mod = X_val[X_val.user_id.isin(y_true_mod.user_id)]\n",
    "print_score(MNAP_N(y_true_mod, X_val_mod))"
   ]
  },
  {
   "cell_type": "code",
   "execution_count": 99,
   "metadata": {},
   "outputs": [
    {
     "data": {
      "text/plain": [
       "0.20965289569067497"
      ]
     },
     "execution_count": 99,
     "metadata": {},
     "output_type": "execute_result"
    }
   ],
   "source": [
    "get_recall(y_true, X_val, size=20)"
   ]
  },
  {
   "cell_type": "markdown",
   "metadata": {},
   "source": [
    "# Make submission after training on full dataset"
   ]
  },
  {
   "cell_type": "markdown",
   "metadata": {},
   "source": [
    "### Approach 1"
   ]
  },
  {
   "cell_type": "code",
   "execution_count": null,
   "metadata": {},
   "outputs": [
    {
     "name": "stdout",
     "output_type": "stream",
     "text": [
      "0 defaultdict(<class 'collections.OrderedDict'>, {'training': OrderedDict([('map@20', 0.29501514180950916), ('map@100', 0.30932296432047374), ('ndcg@20', 0.37503559052929025), ('ndcg@100', 0.4598981667808404)])})\n",
      "1 defaultdict(<class 'collections.OrderedDict'>, {'training': OrderedDict([('map@20', 0.28127071432375544), ('map@100', 0.2955597422642228), ('ndcg@20', 0.3548088504258281), ('ndcg@100', 0.4455742020366839)])})\n",
      "2 defaultdict(<class 'collections.OrderedDict'>, {'training': OrderedDict([('map@20', 0.28576968732869285), ('map@100', 0.30001415823333977), ('ndcg@20', 0.3620459301700502), ('ndcg@100', 0.45039843697983484)])})\n",
      "3 defaultdict(<class 'collections.OrderedDict'>, {'training': OrderedDict([('map@20', 0.28324467326714403), ('map@100', 0.29751947519117256), ('ndcg@20', 0.3550870684787132), ('ndcg@100', 0.44669506155618355)])})\n",
      "4 defaultdict(<class 'collections.OrderedDict'>, {'training': OrderedDict([('map@20', 0.2842358908173525), ('map@100', 0.2983468865346625), ('ndcg@20', 0.3580821257545114), ('ndcg@100', 0.4479427634715357)])})\n"
     ]
    }
   ],
   "source": [
    "rev_total = reviews.loc[reviews['is_tourist'], ['user_id', 'org_id', 'rating', 'user_city', 'is_tourist']]\n",
    "_, train_positives = process_reviews(rev_total)\n",
    "rev_total = rev_total.merge(train_positives, on='user_id', how='left')\n",
    "\n",
    "N_NEGATIVE_SAMPLES = 100\n",
    "N_POOL = 1000\n",
    "N_TEST_POOL = 20\n",
    "def choose_popular_orgs(reviews, n_popular=N_TEST_POOL):\n",
    "    return reviews[reviews.org_id.isin(\n",
    "        np.hstack([spb_orgs[:n_popular] , msk_orgs[:n_popular]]\n",
    "    ))]\n",
    "X_subm, y_subm, ids_sumb, X_subm_raw = get_dataset(\n",
    "    test_users.merge(train_positives, on='user_id', how='left')\\\n",
    "    .merge(users[['user_id', 'city']], on='user_id', how='left')\\\n",
    "    .rename({\"city\": \"user_city\"}, axis=1),\n",
    "    N_TEST_POOL, N_TEST_POOL,for_submission=True)\n",
    "\n",
    "different_preds = []\n",
    "for i in range(5):\n",
    "    X_full, y_full, ids_full, X_full_raw = get_dataset(rev_total, N_POOL, N_NEGATIVE_SAMPLES)\n",
    "\n",
    "    model = lgb.LGBMRanker(\n",
    "    objective='lambdarank',\n",
    "    random_state=i,\n",
    "    learning_rate = 0.0001,\n",
    "    #subsample=0.8, subsample_freq=5,\n",
    "    reg_alpha = 0.001,\n",
    "    #reg_lambda = 0.1,\n",
    "    colsample_bytree = 0.8,\n",
    "    n_estimators = 200,\n",
    "    n_jobs = -1, first_metric_only=True\n",
    "    )\n",
    "    model.fit(\n",
    "        X=X_full, y=y_full, group=ids_full, \n",
    "        eval_set=[(X_full, y_full)], eval_group=[ids_full], \n",
    "        #X=X_train, y=y_train, group=ids_train, \n",
    "        #eval_set=[(X_test, y_test)], eval_group=[ids_test], \n",
    "        eval_metric=['map'], verbose=-1,\n",
    "        eval_at=[20, 100], early_stopping_rounds=None)\n",
    "    print(i, model.best_score_)\n",
    "    inds = X_subm_raw.org_id.isin(\n",
    "    np.hstack([spb_orgs[:N_TEST_POOL], msk_orgs[:N_TEST_POOL]])\n",
    "    )\n",
    "    predicted_vals = model.predict(X_subm[inds], raw_score=False)\n",
    "    different_preds.append(predicted_vals)\n",
    "\n",
    "inds = X_subm_raw.org_id.isin(\n",
    "    np.hstack([spb_orgs[:N_TEST_POOL], msk_orgs[:N_TEST_POOL]])\n",
    "    )\n",
    "predicted_vals = pd.DataFrame(\n",
    "    {f'pred{i}': different_preds[i] for i in range(len(different_preds))},\n",
    "    index=X_subm_raw.index).sum(axis=1).rename('prediction')\n",
    "X_subm_raw.loc[inds, 'prediction'] = predicted_vals\n",
    "predictions = X_subm_raw[inds]\\\n",
    ".sort_values(['user_id', 'prediction'], ascending=[True, False])\\\n",
    ".groupby('user_id')['org_id'].apply(lambda x: \" \".join(map(str, list(x[:20]))))\\\n",
    ".rename('target').to_frame().reindex(test_users.user_id)\n",
    "predictions.to_csv('submission11.csv')"
   ]
  },
  {
   "cell_type": "markdown",
   "metadata": {},
   "source": [
    "### Approach 2"
   ]
  },
  {
   "cell_type": "code",
   "execution_count": 16,
   "metadata": {},
   "outputs": [],
   "source": [
    "rev_total = reviews.loc[reviews['is_tourist'], ['user_id', 'org_id', 'rating', 'user_city']]\n",
    "_, train_positives = process_reviews(rev_total)\n",
    "rev_total = rev_total.merge(train_positives, on='user_id', how='left')\n",
    "\n",
    "X_full, y_full, ids_full, X_full_raw = get_dataset(rev_total)\n",
    "X_subm, y_subm, ids_sumb, X_subm_raw = get_dataset(\n",
    "    test_users.merge(train_positives, on='user_id', how='left')\\\n",
    "    .merge(users[['user_id', 'city']], on='user_id', how='left')\\\n",
    "    .rename({\"city\": \"user_city\"}, axis=1),\n",
    "    for_submission=True)\n"
   ]
  },
  {
   "cell_type": "code",
   "execution_count": 17,
   "metadata": {},
   "outputs": [
    {
     "name": "stdout",
     "output_type": "stream",
     "text": [
      "[1]\ttraining's map@20: 0.533286\ttraining's map@100: 0.542517\ttraining's average_precision: 0.261114\ttraining's ndcg@20: 0.589923\ttraining's ndcg@100: 0.644944\n",
      "[2]\ttraining's map@20: 0.581744\ttraining's map@100: 0.590051\ttraining's average_precision: 0.501174\ttraining's ndcg@20: 0.634264\ttraining's ndcg@100: 0.683567\n",
      "[3]\ttraining's map@20: 0.583842\ttraining's map@100: 0.592599\ttraining's average_precision: 0.516844\ttraining's ndcg@20: 0.63546\ttraining's ndcg@100: 0.685839\n",
      "[4]\ttraining's map@20: 0.593091\ttraining's map@100: 0.601197\ttraining's average_precision: 0.545941\ttraining's ndcg@20: 0.64313\ttraining's ndcg@100: 0.691651\n",
      "[5]\ttraining's map@20: 0.60051\ttraining's map@100: 0.609107\ttraining's average_precision: 0.549384\ttraining's ndcg@20: 0.648327\ttraining's ndcg@100: 0.698179\n",
      "[6]\ttraining's map@20: 0.606688\ttraining's map@100: 0.615036\ttraining's average_precision: 0.543608\ttraining's ndcg@20: 0.65328\ttraining's ndcg@100: 0.702435\n",
      "[7]\ttraining's map@20: 0.607538\ttraining's map@100: 0.616021\ttraining's average_precision: 0.552413\ttraining's ndcg@20: 0.653437\ttraining's ndcg@100: 0.703256\n",
      "[8]\ttraining's map@20: 0.607507\ttraining's map@100: 0.615815\ttraining's average_precision: 0.55984\ttraining's ndcg@20: 0.653859\ttraining's ndcg@100: 0.70314\n",
      "[9]\ttraining's map@20: 0.610737\ttraining's map@100: 0.61901\ttraining's average_precision: 0.56724\ttraining's ndcg@20: 0.656527\ttraining's ndcg@100: 0.705695\n",
      "[10]\ttraining's map@20: 0.616999\ttraining's map@100: 0.62548\ttraining's average_precision: 0.569123\ttraining's ndcg@20: 0.660709\ttraining's ndcg@100: 0.710537\n",
      "[11]\ttraining's map@20: 0.618251\ttraining's map@100: 0.626678\ttraining's average_precision: 0.568856\ttraining's ndcg@20: 0.661506\ttraining's ndcg@100: 0.711268\n",
      "[12]\ttraining's map@20: 0.621464\ttraining's map@100: 0.629718\ttraining's average_precision: 0.572049\ttraining's ndcg@20: 0.664769\ttraining's ndcg@100: 0.713661\n",
      "[13]\ttraining's map@20: 0.621489\ttraining's map@100: 0.629796\ttraining's average_precision: 0.57386\ttraining's ndcg@20: 0.66449\ttraining's ndcg@100: 0.713699\n",
      "[14]\ttraining's map@20: 0.623013\ttraining's map@100: 0.631146\ttraining's average_precision: 0.575418\ttraining's ndcg@20: 0.66593\ttraining's ndcg@100: 0.714748\n",
      "[15]\ttraining's map@20: 0.623596\ttraining's map@100: 0.631837\ttraining's average_precision: 0.575656\ttraining's ndcg@20: 0.666308\ttraining's ndcg@100: 0.715362\n",
      "[16]\ttraining's map@20: 0.623932\ttraining's map@100: 0.632259\ttraining's average_precision: 0.575318\ttraining's ndcg@20: 0.666168\ttraining's ndcg@100: 0.715664\n",
      "[17]\ttraining's map@20: 0.625511\ttraining's map@100: 0.633783\ttraining's average_precision: 0.581223\ttraining's ndcg@20: 0.667585\ttraining's ndcg@100: 0.716749\n",
      "[18]\ttraining's map@20: 0.625753\ttraining's map@100: 0.634012\ttraining's average_precision: 0.581838\ttraining's ndcg@20: 0.667892\ttraining's ndcg@100: 0.716983\n",
      "[19]\ttraining's map@20: 0.627154\ttraining's map@100: 0.635495\ttraining's average_precision: 0.584286\ttraining's ndcg@20: 0.668503\ttraining's ndcg@100: 0.718078\n",
      "[20]\ttraining's map@20: 0.629498\ttraining's map@100: 0.637944\ttraining's average_precision: 0.586059\ttraining's ndcg@20: 0.670145\ttraining's ndcg@100: 0.719975\n",
      "[21]\ttraining's map@20: 0.629612\ttraining's map@100: 0.637974\ttraining's average_precision: 0.585959\ttraining's ndcg@20: 0.670346\ttraining's ndcg@100: 0.719952\n",
      "[22]\ttraining's map@20: 0.631565\ttraining's map@100: 0.639784\ttraining's average_precision: 0.586322\ttraining's ndcg@20: 0.672431\ttraining's ndcg@100: 0.721401\n",
      "[23]\ttraining's map@20: 0.632735\ttraining's map@100: 0.640887\ttraining's average_precision: 0.586794\ttraining's ndcg@20: 0.673675\ttraining's ndcg@100: 0.722302\n",
      "[24]\ttraining's map@20: 0.634449\ttraining's map@100: 0.642562\ttraining's average_precision: 0.587411\ttraining's ndcg@20: 0.675164\ttraining's ndcg@100: 0.723602\n",
      "[25]\ttraining's map@20: 0.637878\ttraining's map@100: 0.646021\ttraining's average_precision: 0.590127\ttraining's ndcg@20: 0.678065\ttraining's ndcg@100: 0.726268\n",
      "[26]\ttraining's map@20: 0.639143\ttraining's map@100: 0.647195\ttraining's average_precision: 0.591413\ttraining's ndcg@20: 0.679656\ttraining's ndcg@100: 0.727288\n",
      "[27]\ttraining's map@20: 0.640662\ttraining's map@100: 0.648518\ttraining's average_precision: 0.591502\ttraining's ndcg@20: 0.681485\ttraining's ndcg@100: 0.728351\n",
      "[28]\ttraining's map@20: 0.642379\ttraining's map@100: 0.650189\ttraining's average_precision: 0.592465\ttraining's ndcg@20: 0.683635\ttraining's ndcg@100: 0.729786\n",
      "[29]\ttraining's map@20: 0.64382\ttraining's map@100: 0.651643\ttraining's average_precision: 0.593787\ttraining's ndcg@20: 0.684941\ttraining's ndcg@100: 0.731025\n",
      "[30]\ttraining's map@20: 0.644564\ttraining's map@100: 0.652374\ttraining's average_precision: 0.594461\ttraining's ndcg@20: 0.685704\ttraining's ndcg@100: 0.731638\n",
      "[31]\ttraining's map@20: 0.64571\ttraining's map@100: 0.653485\ttraining's average_precision: 0.59572\ttraining's ndcg@20: 0.686814\ttraining's ndcg@100: 0.73245\n",
      "[32]\ttraining's map@20: 0.645815\ttraining's map@100: 0.653565\ttraining's average_precision: 0.595977\ttraining's ndcg@20: 0.687019\ttraining's ndcg@100: 0.73252\n",
      "[33]\ttraining's map@20: 0.64782\ttraining's map@100: 0.65543\ttraining's average_precision: 0.598039\ttraining's ndcg@20: 0.69032\ttraining's ndcg@100: 0.734273\n",
      "[34]\ttraining's map@20: 0.649166\ttraining's map@100: 0.656652\ttraining's average_precision: 0.599324\ttraining's ndcg@20: 0.692146\ttraining's ndcg@100: 0.735276\n",
      "[35]\ttraining's map@20: 0.650569\ttraining's map@100: 0.657976\ttraining's average_precision: 0.600961\ttraining's ndcg@20: 0.693523\ttraining's ndcg@100: 0.736296\n",
      "[36]\ttraining's map@20: 0.652936\ttraining's map@100: 0.660286\ttraining's average_precision: 0.603684\ttraining's ndcg@20: 0.695364\ttraining's ndcg@100: 0.737998\n",
      "[37]\ttraining's map@20: 0.65419\ttraining's map@100: 0.661223\ttraining's average_precision: 0.60483\ttraining's ndcg@20: 0.697557\ttraining's ndcg@100: 0.738882\n",
      "[38]\ttraining's map@20: 0.656737\ttraining's map@100: 0.663742\ttraining's average_precision: 0.607058\ttraining's ndcg@20: 0.699608\ttraining's ndcg@100: 0.740745\n",
      "[39]\ttraining's map@20: 0.657928\ttraining's map@100: 0.664835\ttraining's average_precision: 0.607565\ttraining's ndcg@20: 0.700847\ttraining's ndcg@100: 0.741612\n",
      "[40]\ttraining's map@20: 0.659997\ttraining's map@100: 0.66682\ttraining's average_precision: 0.608674\ttraining's ndcg@20: 0.703257\ttraining's ndcg@100: 0.743488\n",
      "[41]\ttraining's map@20: 0.661236\ttraining's map@100: 0.668105\ttraining's average_precision: 0.609891\ttraining's ndcg@20: 0.704891\ttraining's ndcg@100: 0.744718\n",
      "[42]\ttraining's map@20: 0.661703\ttraining's map@100: 0.668586\ttraining's average_precision: 0.611445\ttraining's ndcg@20: 0.705474\ttraining's ndcg@100: 0.745188\n",
      "[43]\ttraining's map@20: 0.664414\ttraining's map@100: 0.671211\ttraining's average_precision: 0.613243\ttraining's ndcg@20: 0.708143\ttraining's ndcg@100: 0.747325\n",
      "[44]\ttraining's map@20: 0.665611\ttraining's map@100: 0.672461\ttraining's average_precision: 0.615438\ttraining's ndcg@20: 0.709371\ttraining's ndcg@100: 0.748443\n",
      "[45]\ttraining's map@20: 0.666323\ttraining's map@100: 0.673155\ttraining's average_precision: 0.616972\ttraining's ndcg@20: 0.710111\ttraining's ndcg@100: 0.749051\n",
      "[46]\ttraining's map@20: 0.668027\ttraining's map@100: 0.674873\ttraining's average_precision: 0.618453\ttraining's ndcg@20: 0.71164\ttraining's ndcg@100: 0.750424\n",
      "[47]\ttraining's map@20: 0.669062\ttraining's map@100: 0.675802\ttraining's average_precision: 0.621452\ttraining's ndcg@20: 0.713017\ttraining's ndcg@100: 0.751251\n",
      "[48]\ttraining's map@20: 0.669599\ttraining's map@100: 0.676223\ttraining's average_precision: 0.622354\ttraining's ndcg@20: 0.714038\ttraining's ndcg@100: 0.751661\n",
      "[49]\ttraining's map@20: 0.671758\ttraining's map@100: 0.678356\ttraining's average_precision: 0.623964\ttraining's ndcg@20: 0.716101\ttraining's ndcg@100: 0.753425\n",
      "[50]\ttraining's map@20: 0.673932\ttraining's map@100: 0.680393\ttraining's average_precision: 0.625704\ttraining's ndcg@20: 0.718252\ttraining's ndcg@100: 0.755037\n",
      "[51]\ttraining's map@20: 0.674871\ttraining's map@100: 0.681327\ttraining's average_precision: 0.626464\ttraining's ndcg@20: 0.719013\ttraining's ndcg@100: 0.755812\n",
      "[52]\ttraining's map@20: 0.678137\ttraining's map@100: 0.684563\ttraining's average_precision: 0.627276\ttraining's ndcg@20: 0.721838\ttraining's ndcg@100: 0.758383\n",
      "[53]\ttraining's map@20: 0.679496\ttraining's map@100: 0.685774\ttraining's average_precision: 0.628722\ttraining's ndcg@20: 0.723522\ttraining's ndcg@100: 0.759457\n",
      "[54]\ttraining's map@20: 0.680628\ttraining's map@100: 0.68699\ttraining's average_precision: 0.629254\ttraining's ndcg@20: 0.724224\ttraining's ndcg@100: 0.760409\n",
      "[55]\ttraining's map@20: 0.681293\ttraining's map@100: 0.687581\ttraining's average_precision: 0.629879\ttraining's ndcg@20: 0.725062\ttraining's ndcg@100: 0.760921\n",
      "[56]\ttraining's map@20: 0.682117\ttraining's map@100: 0.688363\ttraining's average_precision: 0.631486\ttraining's ndcg@20: 0.725872\ttraining's ndcg@100: 0.761579\n",
      "[57]\ttraining's map@20: 0.68492\ttraining's map@100: 0.691222\ttraining's average_precision: 0.635935\ttraining's ndcg@20: 0.728588\ttraining's ndcg@100: 0.764125\n",
      "[58]\ttraining's map@20: 0.686335\ttraining's map@100: 0.692632\ttraining's average_precision: 0.637689\ttraining's ndcg@20: 0.730146\ttraining's ndcg@100: 0.765427\n",
      "[59]\ttraining's map@20: 0.690196\ttraining's map@100: 0.696335\ttraining's average_precision: 0.640157\ttraining's ndcg@20: 0.734118\ttraining's ndcg@100: 0.768408\n",
      "[60]\ttraining's map@20: 0.69255\ttraining's map@100: 0.698658\ttraining's average_precision: 0.64103\ttraining's ndcg@20: 0.736407\ttraining's ndcg@100: 0.770337\n",
      "[61]\ttraining's map@20: 0.694375\ttraining's map@100: 0.700474\ttraining's average_precision: 0.642884\ttraining's ndcg@20: 0.738325\ttraining's ndcg@100: 0.771918\n",
      "[62]\ttraining's map@20: 0.695805\ttraining's map@100: 0.701902\ttraining's average_precision: 0.644602\ttraining's ndcg@20: 0.739446\ttraining's ndcg@100: 0.772989\n",
      "[63]\ttraining's map@20: 0.697914\ttraining's map@100: 0.703976\ttraining's average_precision: 0.64593\ttraining's ndcg@20: 0.741164\ttraining's ndcg@100: 0.774537\n",
      "[64]\ttraining's map@20: 0.698526\ttraining's map@100: 0.704614\ttraining's average_precision: 0.647026\ttraining's ndcg@20: 0.741938\ttraining's ndcg@100: 0.775183\n",
      "[65]\ttraining's map@20: 0.69985\ttraining's map@100: 0.705886\ttraining's average_precision: 0.648404\ttraining's ndcg@20: 0.743173\ttraining's ndcg@100: 0.776153\n",
      "[66]\ttraining's map@20: 0.700401\ttraining's map@100: 0.706431\ttraining's average_precision: 0.649792\ttraining's ndcg@20: 0.743669\ttraining's ndcg@100: 0.776591\n",
      "[67]\ttraining's map@20: 0.701745\ttraining's map@100: 0.707776\ttraining's average_precision: 0.650452\ttraining's ndcg@20: 0.744855\ttraining's ndcg@100: 0.777736\n",
      "[68]\ttraining's map@20: 0.702878\ttraining's map@100: 0.708849\ttraining's average_precision: 0.651168\ttraining's ndcg@20: 0.746261\ttraining's ndcg@100: 0.778706\n",
      "[69]\ttraining's map@20: 0.703825\ttraining's map@100: 0.709818\ttraining's average_precision: 0.651463\ttraining's ndcg@20: 0.747048\ttraining's ndcg@100: 0.77951\n",
      "[70]\ttraining's map@20: 0.704868\ttraining's map@100: 0.710768\ttraining's average_precision: 0.652606\ttraining's ndcg@20: 0.748427\ttraining's ndcg@100: 0.780351\n",
      "[71]\ttraining's map@20: 0.706759\ttraining's map@100: 0.71266\ttraining's average_precision: 0.655492\ttraining's ndcg@20: 0.750035\ttraining's ndcg@100: 0.781804\n",
      "[72]\ttraining's map@20: 0.70786\ttraining's map@100: 0.713769\ttraining's average_precision: 0.657506\ttraining's ndcg@20: 0.751001\ttraining's ndcg@100: 0.782684\n",
      "[73]\ttraining's map@20: 0.708911\ttraining's map@100: 0.714817\ttraining's average_precision: 0.659034\ttraining's ndcg@20: 0.752014\ttraining's ndcg@100: 0.783572\n",
      "[74]\ttraining's map@20: 0.710242\ttraining's map@100: 0.71614\ttraining's average_precision: 0.660699\ttraining's ndcg@20: 0.753184\ttraining's ndcg@100: 0.784582\n",
      "[75]\ttraining's map@20: 0.711595\ttraining's map@100: 0.717498\ttraining's average_precision: 0.661468\ttraining's ndcg@20: 0.754376\ttraining's ndcg@100: 0.785648\n",
      "[76]\ttraining's map@20: 0.712419\ttraining's map@100: 0.718292\ttraining's average_precision: 0.662893\ttraining's ndcg@20: 0.75532\ttraining's ndcg@100: 0.786322\n",
      "[77]\ttraining's map@20: 0.713524\ttraining's map@100: 0.719384\ttraining's average_precision: 0.664208\ttraining's ndcg@20: 0.756349\ttraining's ndcg@100: 0.78719\n",
      "[78]\ttraining's map@20: 0.713975\ttraining's map@100: 0.719791\ttraining's average_precision: 0.665274\ttraining's ndcg@20: 0.756989\ttraining's ndcg@100: 0.787553\n",
      "[79]\ttraining's map@20: 0.714659\ttraining's map@100: 0.720437\ttraining's average_precision: 0.66666\ttraining's ndcg@20: 0.757731\ttraining's ndcg@100: 0.788066\n",
      "[80]\ttraining's map@20: 0.715788\ttraining's map@100: 0.721552\ttraining's average_precision: 0.668411\ttraining's ndcg@20: 0.75871\ttraining's ndcg@100: 0.788932\n",
      "[81]\ttraining's map@20: 0.716301\ttraining's map@100: 0.722052\ttraining's average_precision: 0.669284\ttraining's ndcg@20: 0.759229\ttraining's ndcg@100: 0.789348\n",
      "[82]\ttraining's map@20: 0.71733\ttraining's map@100: 0.723072\ttraining's average_precision: 0.670552\ttraining's ndcg@20: 0.760139\ttraining's ndcg@100: 0.790164\n",
      "[83]\ttraining's map@20: 0.718482\ttraining's map@100: 0.724174\ttraining's average_precision: 0.672806\ttraining's ndcg@20: 0.761201\ttraining's ndcg@100: 0.791\n",
      "[84]\ttraining's map@20: 0.719599\ttraining's map@100: 0.725268\ttraining's average_precision: 0.675024\ttraining's ndcg@20: 0.762311\ttraining's ndcg@100: 0.791882\n",
      "[85]\ttraining's map@20: 0.722091\ttraining's map@100: 0.727756\ttraining's average_precision: 0.676428\ttraining's ndcg@20: 0.76425\ttraining's ndcg@100: 0.79378\n",
      "[86]\ttraining's map@20: 0.723162\ttraining's map@100: 0.72879\ttraining's average_precision: 0.677405\ttraining's ndcg@20: 0.765322\ttraining's ndcg@100: 0.794603\n",
      "[87]\ttraining's map@20: 0.72389\ttraining's map@100: 0.729494\ttraining's average_precision: 0.678496\ttraining's ndcg@20: 0.766063\ttraining's ndcg@100: 0.79517\n",
      "[88]\ttraining's map@20: 0.72489\ttraining's map@100: 0.730501\ttraining's average_precision: 0.679403\ttraining's ndcg@20: 0.767098\ttraining's ndcg@100: 0.796024\n",
      "[89]\ttraining's map@20: 0.7252\ttraining's map@100: 0.730792\ttraining's average_precision: 0.680029\ttraining's ndcg@20: 0.767464\ttraining's ndcg@100: 0.796284\n",
      "[90]\ttraining's map@20: 0.725574\ttraining's map@100: 0.731171\ttraining's average_precision: 0.680658\ttraining's ndcg@20: 0.767792\ttraining's ndcg@100: 0.796599\n",
      "[91]\ttraining's map@20: 0.726567\ttraining's map@100: 0.732136\ttraining's average_precision: 0.681799\ttraining's ndcg@20: 0.768713\ttraining's ndcg@100: 0.797361\n",
      "[92]\ttraining's map@20: 0.726731\ttraining's map@100: 0.732293\ttraining's average_precision: 0.682525\ttraining's ndcg@20: 0.768875\ttraining's ndcg@100: 0.797498\n",
      "[93]\ttraining's map@20: 0.727606\ttraining's map@100: 0.733157\ttraining's average_precision: 0.68331\ttraining's ndcg@20: 0.769592\ttraining's ndcg@100: 0.798149\n",
      "[94]\ttraining's map@20: 0.728604\ttraining's map@100: 0.734167\ttraining's average_precision: 0.684401\ttraining's ndcg@20: 0.770343\ttraining's ndcg@100: 0.798902\n",
      "[95]\ttraining's map@20: 0.729085\ttraining's map@100: 0.734639\ttraining's average_precision: 0.685125\ttraining's ndcg@20: 0.77084\ttraining's ndcg@100: 0.799293\n",
      "[96]\ttraining's map@20: 0.730496\ttraining's map@100: 0.73603\ttraining's average_precision: 0.686464\ttraining's ndcg@20: 0.772333\ttraining's ndcg@100: 0.80046\n",
      "[97]\ttraining's map@20: 0.731152\ttraining's map@100: 0.736644\ttraining's average_precision: 0.687354\ttraining's ndcg@20: 0.773188\ttraining's ndcg@100: 0.800998\n",
      "[98]\ttraining's map@20: 0.732186\ttraining's map@100: 0.737688\ttraining's average_precision: 0.688395\ttraining's ndcg@20: 0.77413\ttraining's ndcg@100: 0.801868\n",
      "[99]\ttraining's map@20: 0.733304\ttraining's map@100: 0.738799\ttraining's average_precision: 0.689664\ttraining's ndcg@20: 0.775118\ttraining's ndcg@100: 0.802743\n",
      "[100]\ttraining's map@20: 0.734624\ttraining's map@100: 0.740059\ttraining's average_precision: 0.69066\ttraining's ndcg@20: 0.776352\ttraining's ndcg@100: 0.803704\n"
     ]
    }
   ],
   "source": [
    "final_model = lgb.LGBMRanker(\n",
    "    objective='lambdarank',\n",
    "    random_state=42,\n",
    "    learning_rate = 0.05,\n",
    "    n_estimators = 100,\n",
    "    n_jobs = -1\n",
    ").fit(X=X_full, y=y_full, group=ids_full, \n",
    "    eval_set=[(X_full, y_full)], eval_group=[ids_full], \n",
    "    eval_metric=['map', 'average_precision'],\n",
    "    eval_at=[20, 100])"
   ]
  },
  {
   "cell_type": "code",
   "execution_count": 18,
   "metadata": {},
   "outputs": [],
   "source": [
    "inds = X_subm_raw.org_id.isin(\n",
    "    np.hstack([spb_orgs[:20], msk_orgs[:20]])\n",
    "    )\n",
    "predicted_vals = final_model.predict(X_subm[inds], raw_score=False)\n",
    "X_subm_raw.loc[inds, 'prediction'] = predicted_vals\n",
    "predictions = X_subm_raw[inds]\\\n",
    ".sort_values(['user_id', 'prediction'], ascending=[True, False])\\\n",
    ".groupby('user_id')['org_id'].apply(lambda x: \" \".join(map(str, list(x[:20]))))\\\n",
    ".rename('target').to_frame().reindex(test_users.user_id)"
   ]
  },
  {
   "cell_type": "code",
   "execution_count": 19,
   "metadata": {},
   "outputs": [],
   "source": [
    "predictions.to_csv('submission5.csv')"
   ]
  },
  {
   "cell_type": "markdown",
   "metadata": {},
   "source": [
    "## Some statistics"
   ]
  },
  {
   "cell_type": "code",
   "execution_count": 46,
   "metadata": {},
   "outputs": [
    {
     "data": {
      "text/plain": [
       "7827"
      ]
     },
     "execution_count": 46,
     "metadata": {},
     "output_type": "execute_result"
    }
   ],
   "source": [
    "np.setdiff1d(rev_test.user_id.unique(), rev_train.user_id.unique()).size"
   ]
  },
  {
   "cell_type": "code",
   "execution_count": 47,
   "metadata": {},
   "outputs": [
    {
     "data": {
      "text/plain": [
       "9890"
      ]
     },
     "execution_count": 47,
     "metadata": {},
     "output_type": "execute_result"
    }
   ],
   "source": [
    "X_raw_test.user_id.nunique()"
   ]
  },
  {
   "cell_type": "code",
   "execution_count": 36,
   "metadata": {},
   "outputs": [
    {
     "data": {
      "text/plain": [
       "(1190, 2598)"
      ]
     },
     "execution_count": 36,
     "metadata": {},
     "output_type": "execute_result"
    }
   ],
   "source": [
    "(np.setdiff1d(X_raw_test.user_id.unique(), revs_for_FE.user_id.unique()).size, \n",
    "X_raw_test.user_id.nunique())"
   ]
  },
  {
   "cell_type": "code",
   "execution_count": 29,
   "metadata": {},
   "outputs": [
    {
     "data": {
      "text/plain": [
       "(864, 10112)"
      ]
     },
     "execution_count": 29,
     "metadata": {},
     "output_type": "execute_result"
    }
   ],
   "source": [
    "(np.setdiff1d(test_users.user_id.unique(), reviews.user_id.unique()).size, \n",
    "X_raw_test.user_id.nunique())"
   ]
  },
  {
   "cell_type": "code",
   "execution_count": 49,
   "metadata": {},
   "outputs": [
    {
     "data": {
      "text/plain": [
       "(11770, 16967)"
      ]
     },
     "execution_count": 49,
     "metadata": {},
     "output_type": "execute_result"
    }
   ],
   "source": [
    "(np.setdiff1d(test_users.user_id.unique(), reviews.loc[reviews['is_tourist']].user_id.unique()).size,\n",
    "test_users.user_id.nunique())"
   ]
  },
  {
   "cell_type": "code",
   "execution_count": 32,
   "metadata": {},
   "outputs": [
    {
     "data": {
      "text/plain": [
       "(0, 1252801)"
      ]
     },
     "execution_count": 32,
     "metadata": {},
     "output_type": "execute_result"
    }
   ],
   "source": [
    "(np.setdiff1d(test_users.user_id.unique(), users.user_id.unique()).size,\n",
    "users.user_id.nunique())"
   ]
  },
  {
   "cell_type": "code",
   "execution_count": 37,
   "metadata": {},
   "outputs": [
    {
     "data": {
      "text/plain": [
       "0"
      ]
     },
     "execution_count": 37,
     "metadata": {},
     "output_type": "execute_result"
    }
   ],
   "source": [
    "np.setdiff1d(X_raw_train.user_id.unique(), rev_train.user_id.unique()).size"
   ]
  },
  {
   "cell_type": "markdown",
   "metadata": {},
   "source": [
    "# LightFM preprocessing"
   ]
  },
  {
   "cell_type": "code",
   "execution_count": 74,
   "metadata": {},
   "outputs": [],
   "source": [
    "from sklearn.model_selection import train_test_split\n",
    "from lightfm.data import Dataset\n",
    "from lightfm import LightFM\n",
    "from lightfm.evaluation import precision_at_k, reciprocal_rank, recall_at_k\n",
    "from time import ctime\n",
    "\n",
    "rev_train, rev_test = train_test_split(\n",
    "    reviews[['new_user_id', 'new_org_id', 'rating']].drop_duplicates().to_numpy(dtype='uint64'),\n",
    "    test_size=0.1, \n",
    "    random_state=10)\n",
    "rev_train = reviews.loc[~reviews['is_tourist'], ['new_user_id', 'new_org_id', 'rating']].to_numpy(dtype='uint64')\n",
    "rev_test = reviews.loc[reviews['is_tourist'], ['new_user_id', 'new_org_id', 'rating']].to_numpy(dtype='uint64')\n",
    "#.sample(frac=1, random_state=42).to_numpy(dtype='uint64')\n",
    "rev_train = np.vstack([rev_train, rev_test[:-15000]])\n",
    "rev_test = rev_test[-15000:]\n"
   ]
  },
  {
   "cell_type": "code",
   "execution_count": 75,
   "metadata": {},
   "outputs": [],
   "source": [
    "from scipy.sparse import csr_matrix\n",
    "feats = users.set_index('user_id')\\\n",
    "    .merge(user_rubrics, on='user_id', how='left')\\\n",
    "    .merge(user_count_rating, on='user_id', how='left')\\\n",
    "    .merge(user_mean_bill, on='user_id', how='left')\\\n",
    "    .merge(user_median_bill, on='user_id', how='left')\\\n",
    "    .drop(columns=['city', 'new_user_id']).fillna(0)\n",
    "users_feats_sparse = csr_matrix(feats.values)\n",
    "\n",
    "feats = orgs.set_index('org_id')\\\n",
    "    .merge(orgs_rubrics, on='org_id', how='left')\\\n",
    "    .merge(org_count_rating, on='org_id', how='left')\\\n",
    "    .merge(org_mean_rating, on='org_id', how='left')\\\n",
    "    .merge(org_median_rating, on='org_id', how='left')\\\n",
    "    .drop(columns=['city', 'new_org_id', 'rubrics_id', 'features_id'])\\\n",
    "    .fillna(0)\n",
    "orgs_feats_sparse = csr_matrix(feats.values)\n"
   ]
  },
  {
   "cell_type": "code",
   "execution_count": 15,
   "metadata": {},
   "outputs": [],
   "source": [
    "#rev_train = reviews.loc[reviews['is_tourist'], ['new_user_id', 'new_org_id', 'rating']].to_numpy(dtype='uint64')\n",
    "#rev_test = rev_train[-15000:]\n",
    "#rev_train = rev_train[:-15000]"
   ]
  },
  {
   "cell_type": "code",
   "execution_count": 19,
   "metadata": {},
   "outputs": [],
   "source": [
    "rev_train_pd = pd.DataFrame(rev_train, columns=['user_id', 'org_id', 'rating'])\n",
    "rev_test_pd = pd.DataFrame(rev_test, columns=['user_id', 'org_id', 'rating'])\n",
    "ds = Dataset()\n",
    "ds.fit(users=users['new_user_id'], items=orgs['new_org_id'])\n",
    "binary_test, ranked_test = ds.build_interactions(rev_test)\n",
    "binary_train, ranked_train = ds.build_interactions(rev_train)\n",
    "X_train, y_train = process_reviews(rev_train_pd)\n",
    "X_test, y_test = process_reviews(rev_test_pd)"
   ]
  },
  {
   "cell_type": "code",
   "execution_count": 186,
   "metadata": {},
   "outputs": [],
   "source": [
    "N_BEST_IN_CITY = 5000\n",
    "threshold_day = reviews.loc[reviews['is_tourist']].iloc[-15000]['ts']\n",
    "threshold_day\n",
    "non_eq_cities = reviews[reviews.user_city != reviews.org_city]\n",
    "non_eq_cities = non_eq_cities.query('ts <= @threshold_day & ts >= @threshold_day - 500')\n",
    "msk_orgs = non_eq_cities[non_eq_cities['org_city'] == 'msk']['new_org_id']\n",
    "msk_orgs = msk_orgs.value_counts().index[:N_BEST_IN_CITY].to_list()\n",
    "\n",
    "spb_orgs = non_eq_cities[non_eq_cities['org_city'] == 'spb']['new_org_id']\n",
    "spb_orgs = spb_orgs.value_counts().index[:N_BEST_IN_CITY].to_list()\n",
    "\n",
    "best_orgs = msk_orgs + spb_orgs"
   ]
  },
  {
   "cell_type": "markdown",
   "metadata": {},
   "source": [
    "# LightFM"
   ]
  },
  {
   "cell_type": "code",
   "execution_count": null,
   "metadata": {},
   "outputs": [],
   "source": [
    "rank = 40\n",
    "model = LightFM(no_components=rank, loss='warp', random_state=1)\n",
    "model.fit(ranked_train, epochs=30, num_threads=42,\n",
    "    user_features=users_feats_sparse, item_features=orgs_feats_sparse\n",
    ")"
   ]
  },
  {
   "cell_type": "code",
   "execution_count": 28,
   "metadata": {},
   "outputs": [
    {
     "data": {
      "text/plain": [
       "0.25176737427337414"
      ]
     },
     "execution_count": 28,
     "metadata": {},
     "output_type": "execute_result"
    }
   ],
   "source": [
    "recall = recall_at_k(model, test_interactions=ranked_test, \n",
    "train_interactions=ranked_train, k=1000)\n",
    "recall.mean()"
   ]
  },
  {
   "cell_type": "code",
   "execution_count": 269,
   "metadata": {},
   "outputs": [],
   "source": [
    "def get_predictions(X_test, model, y_train=None, n_best=20):\n",
    "    ranked_predictions = []\n",
    "    items = orgs.new_org_id.values\n",
    "    items = np.array(best_orgs)\n",
    "    items_msk = np.array(msk_orgs)\n",
    "    items_spb = np.array(spb_orgs)\n",
    "    for i in range(len(X_test)): \n",
    "        if X_test['city'][i] == 'msk': local_items = items_spb\n",
    "        else: local_items = items_msk\n",
    "        pred = model.predict(\n",
    "            int(X_test['user_id'][i]), local_items,\n",
    "        #    user_features=users_feats_sparse, item_features=orgs_feats_sparse\n",
    "        )\n",
    "        positions = pred.argsort()[::-1]\n",
    "        #assert (orgs.new_org_id.values[positions] == positions).all(), 'Wrong'\n",
    "        #print(positions)\n",
    "        #print(X_test['city'][i], local_items[positions])\n",
    "        #print(pred[positions])\n",
    "        ranked_predictions.append({'target': local_items[positions]})\n",
    "    all_predictions = pd.DataFrame.from_records(ranked_predictions)\n",
    "    all_predictions['user_id'] = X_test['user_id'].values\n",
    "    all_predictions = all_predictions[['user_id', 'target']]\n",
    "    print(all_predictions)\n",
    "    if y_train is not None:\n",
    "        all_predictions = all_predictions.merge(y_train, on='user_id', how='left')\n",
    "        all_predictions['target'] = all_predictions.apply(\n",
    "            lambda row: np.setdiff1d(row['target_x'], row['target_y'], assume_unique=True), axis=1)\n",
    "    all_predictions['target'] = all_predictions['target'].apply(lambda x: x[:n_best])\n",
    "    return all_predictions[['user_id', 'target']]"
   ]
  },
  {
   "cell_type": "code",
   "execution_count": 258,
   "metadata": {},
   "outputs": [
    {
     "name": "stdout",
     "output_type": "stream",
     "text": [
      "       user_id                                             target\n",
      "0           65  [27618, 8005, 35141, 25219, 58227, 13192, 2763...\n",
      "1          196  [27618, 8005, 25219, 35141, 58227, 13192, 2763...\n",
      "2          288  [31670, 16392, 62072, 13349, 14632, 14305, 336...\n",
      "3          323  [31670, 16392, 62072, 13349, 14632, 14305, 336...\n",
      "4          461  [31670, 16392, 62072, 13349, 14632, 14305, 336...\n",
      "...        ...                                                ...\n",
      "10110  1252516  [30685, 64993, 20140, 11844, 20302, 2879, 6106...\n",
      "10111  1252673  [30685, 64993, 20140, 11844, 20302, 2879, 6106...\n",
      "10112  1252681  [30685, 64993, 20140, 11844, 20302, 2879, 6106...\n",
      "10113  1252684  [30685, 64993, 20140, 11844, 20302, 2879, 6106...\n",
      "10114  1252784  [30685, 64993, 20140, 11844, 20302, 2879, 6106...\n",
      "\n",
      "[10115 rows x 2 columns]\n"
     ]
    }
   ],
   "source": [
    "test_users_with_locations = X_test.merge(\n",
    "    users, right_on='new_user_id', left_on='user_id', how='left').\\\n",
    "    rename({'user_id_x': 'user_id'}, axis=1)\n",
    "\n",
    "predictions = get_predictions(\n",
    "    X_test=test_users_with_locations, model=model, y_train=y_train, n_best=20)"
   ]
  },
  {
   "cell_type": "code",
   "execution_count": 270,
   "metadata": {},
   "outputs": [
    {
     "name": "stdout",
     "output_type": "stream",
     "text": [
      "       user_id                                             target\n",
      "0           65  [31670, 16392, 13349, 33679, 62072, 1280, 2479...\n",
      "1          196  [58227, 31670, 13192, 13349, 13638, 24793, 246...\n",
      "2          288  [31670, 13638, 13349, 35141, 27630, 62072, 163...\n",
      "3          323  [31670, 13349, 27630, 1280, 16392, 24793, 6207...\n",
      "4          461  [31670, 58227, 14305, 16392, 33679, 13638, 246...\n",
      "...        ...                                                ...\n",
      "10110  1252516  [30685, 64993, 11844, 20140, 2879, 61061, 5166...\n",
      "10111  1252673  [20140, 11844, 30685, 64993, 2879, 20302, 7976...\n",
      "10112  1252681  [30685, 64993, 20140, 11844, 20302, 2879, 6106...\n",
      "10113  1252684  [30685, 64993, 20140, 11844, 20302, 2879, 6106...\n",
      "10114  1252784  [30685, 64993, 20140, 11844, 20302, 2879, 6106...\n",
      "\n",
      "[10115 rows x 2 columns]\n"
     ]
    }
   ],
   "source": [
    "test_users_with_locations = X_test.merge(\n",
    "    users, right_on='new_user_id', left_on='user_id', how='left').\\\n",
    "    rename({'user_id_x': 'user_id'}, axis=1)\n",
    "\n",
    "predictions = get_predictions(\n",
    "    X_test=test_users_with_locations, model=model, y_train=y_train, n_best=20)"
   ]
  },
  {
   "cell_type": "code",
   "execution_count": null,
   "metadata": {},
   "outputs": [
    {
     "name": "stdout",
     "output_type": "stream",
     "text": [
      "Score: 6.74\n"
     ]
    }
   ],
   "source": [
    "print_score(MNAP_N(y_test, predictions))"
   ]
  },
  {
   "cell_type": "code",
   "execution_count": 271,
   "metadata": {},
   "outputs": [
    {
     "name": "stdout",
     "output_type": "stream",
     "text": [
      "Score: 6.68\n"
     ]
    }
   ],
   "source": [
    "print_score(MNAP_N(y_test, predictions))"
   ]
  },
  {
   "cell_type": "markdown",
   "metadata": {},
   "source": [
    "## Make submission on full dataset"
   ]
  },
  {
   "cell_type": "code",
   "execution_count": 182,
   "metadata": {},
   "outputs": [],
   "source": [
    "rev_train = reviews.loc[:, ['new_user_id', 'new_org_id', 'rating']].to_numpy(dtype='uint64')\n",
    "rev_train_pd = pd.DataFrame(rev_train, columns=['user_id', 'org_id', 'rating'])\n",
    "ds = Dataset()\n",
    "ds.fit(users=users['new_user_id'], items=orgs['new_org_id'])\n",
    "binary_train, ranked_train = ds.build_interactions(rev_train)\n",
    "X_train, y_train = process_reviews(rev_train_pd)"
   ]
  },
  {
   "cell_type": "code",
   "execution_count": 183,
   "metadata": {},
   "outputs": [],
   "source": [
    "N_BEST_IN_CITY = 20\n",
    "threshold_day = reviews.ts.max()\n",
    "non_eq_cities = reviews[reviews.user_city != reviews.org_city]\n",
    "non_eq_cities = non_eq_cities.query('ts <= @threshold_day & ts >= @threshold_day - 500')\n",
    "msk_orgs = non_eq_cities[non_eq_cities['org_city'] == 'msk']['new_org_id']\n",
    "msk_orgs = msk_orgs.value_counts().index[:N_BEST_IN_CITY].to_list()\n",
    "\n",
    "spb_orgs = non_eq_cities[non_eq_cities['org_city'] == 'spb']['new_org_id']\n",
    "spb_orgs = spb_orgs.value_counts().index[:N_BEST_IN_CITY].to_list()\n",
    "\n",
    "best_orgs = msk_orgs + spb_orgs"
   ]
  },
  {
   "cell_type": "code",
   "execution_count": 184,
   "metadata": {},
   "outputs": [
    {
     "data": {
      "text/plain": [
       "<lightfm.lightfm.LightFM at 0x7f803f549070>"
      ]
     },
     "execution_count": 184,
     "metadata": {},
     "output_type": "execute_result"
    }
   ],
   "source": [
    "rank = 40\n",
    "model = LightFM(no_components=rank, loss='warp', random_state=42)\n",
    "model.fit(ranked_train, epochs=30, num_threads=2)"
   ]
  },
  {
   "cell_type": "code",
   "execution_count": 185,
   "metadata": {},
   "outputs": [
    {
     "name": "stdout",
     "output_type": "stream",
     "text": [
      "       user_id                                             target\n",
      "0           17  [31670, 13349, 16392, 33679, 14632, 14305, 136...\n",
      "1           64  [58227, 31670, 27618, 27630, 33679, 14632, 535...\n",
      "2           90  [31670, 13349, 33679, 58227, 16392, 27630, 247...\n",
      "3          101  [31670, 16392, 13349, 62072, 33679, 13638, 143...\n",
      "4       912298  [20140, 11844, 2879, 30685, 64993, 17792, 4990...\n",
      "...        ...                                                ...\n",
      "16962   911919  [31670, 13349, 62072, 16392, 33679, 14372, 146...\n",
      "16963   912000  [31670, 13349, 16392, 27618, 33679, 18187, 620...\n",
      "16964   912046  [31670, 58227, 33679, 16392, 14632, 13638, 128...\n",
      "16965  1252709  [11844, 30685, 64993, 49173, 2879, 20140, 1486...\n",
      "16966   912235  [31670, 13349, 16392, 33679, 25219, 14372, 620...\n",
      "\n",
      "[16967 rows x 2 columns]\n"
     ]
    }
   ],
   "source": [
    "submission_users = test_users.merge(users, how='left', on='user_id').\\\n",
    "    rename({'user_id': 'old_user_id', 'new_user_id': 'user_id'}, axis=1)\n",
    "\n",
    "predictions = get_predictions(\n",
    "    X_test=submission_users, model=model, y_train=y_train, n_best=20)\n",
    "predictions['user_id'] = predictions['user_id'].apply(lambda x: new_to_uid[x])\n",
    "predictions['target'] = predictions['target']\\\n",
    "    .apply(lambda arr: ' '.join([str(new_to_oid[x]) for x in arr]))\n",
    "assert (predictions.user_id == test_users.user_id).all(), 'Error'\n",
    "predictions.to_csv('sumbission3.csv', index=None)"
   ]
  },
  {
   "cell_type": "markdown",
   "metadata": {},
   "source": [
    "Public score 4.92"
   ]
  },
  {
   "cell_type": "markdown",
   "metadata": {},
   "source": [
    "# N_most_popular"
   ]
  },
  {
   "cell_type": "code",
   "execution_count": null,
   "metadata": {},
   "outputs": [],
   "source": [
    "test_users_with_locations = X_test.merge(\n",
    "    users, right_on='new_user_id', left_on='user_id', how='left').\\\n",
    "    rename({'user_id_x': 'user_id'}, axis=1)\n",
    "    \n",
    "choose = lambda x: spb_orgs if x['city'] == 'msk' else msk_orgs\n",
    "target = test_users_with_locations.apply(choose, axis=1)\n",
    "\n",
    "predictions = X_test.copy()\n",
    "predictions['target'] = target\n",
    "\n",
    "print_score(MNAP_N(y_test, predictions))"
   ]
  },
  {
   "cell_type": "code",
   "execution_count": 188,
   "metadata": {},
   "outputs": [
    {
     "data": {
      "text/plain": [
       "0.34505770326840396"
      ]
     },
     "execution_count": 188,
     "metadata": {},
     "output_type": "execute_result"
    }
   ],
   "source": [
    "get_recall(y_test, predictions, size=100)"
   ]
  },
  {
   "cell_type": "markdown",
   "metadata": {},
   "source": [
    "# EDA"
   ]
  },
  {
   "cell_type": "code",
   "execution_count": 178,
   "id": "e3e75f89",
   "metadata": {},
   "outputs": [
    {
     "data": {
      "image/png": "[encoded data removed]",
      "text/plain": [
       "<Figure size 576x576 with 1 Axes>"
      ]
     },
     "metadata": {
      "needs_background": "light"
     },
     "output_type": "display_data"
    }
   ],
   "source": [
    "sns.displot(data=reviews, x='ts', height=8)\n",
    "plt.title('Распределение отзывов по дням')\n",
    "plt.show()"
   ]
  },
  {
   "cell_type": "code",
   "execution_count": 186,
   "metadata": {},
   "outputs": [
    {
     "data": {
      "image/png": "[encoded data removed]",
      "text/plain": [
       "<Figure size 432x288 with 1 Axes>"
      ]
     },
     "metadata": {
      "needs_background": "light"
     },
     "output_type": "display_data"
    }
   ],
   "source": [
    "last_reviews = reviews.groupby('org_id')['ts'].max().value_counts()\n",
    "sns.scatterplot(data=last_reviews)\n",
    "plt.title('Last reviews by day')\n",
    "plt.show()"
   ]
  },
  {
   "cell_type": "code",
   "execution_count": null,
   "metadata": {},
   "outputs": [],
   "source": [
    "reviews[reviews.new_org_id.isin(spb_orgs + msk_orgs)].groupby('org_id')['ts'].max()"
   ]
  },
  {
   "cell_type": "code",
   "execution_count": 157,
   "metadata": {},
   "outputs": [
    {
     "name": "stdout",
     "output_type": "stream",
     "text": [
      "47631 number of non unique user-org pairs\n",
      "2961747 number of all unique user-org pairs\n",
      "2 max number of reviews for the same org by one user\n",
      "(147444, 10) number of different cities user-org pairs\n"
     ]
    }
   ],
   "source": [
    "us_org_pairs = reviews.groupby(['user_id', 'org_id'])['rating'].count()\n",
    "print(us_org_pairs[us_org_pairs > 1].size, 'number of non unique user-org pairs')\n",
    "print(us_org_pairs.size, 'number of all unique user-org pairs')\n",
    "print(us_org_pairs.max(), 'max number of reviews for the same org by one user')\n",
    "print(reviews.query(\"org_city != user_city\").shape, 'number of different cities user-org pairs')"
   ]
  },
  {
   "cell_type": "code",
   "execution_count": 130,
   "metadata": {},
   "outputs": [
    {
     "data": {
      "text/plain": [
       "89061"
      ]
     },
     "execution_count": 130,
     "metadata": {},
     "output_type": "execute_result"
    }
   ],
   "source": [
    "reviews.query(\"org_city != user_city\")['user_id'].nunique()"
   ]
  },
  {
   "cell_type": "code",
   "execution_count": 10,
   "metadata": {},
   "outputs": [
    {
     "name": "stdout",
     "output_type": "stream",
     "text": [
      "1252800\n",
      "44229\n",
      "22176\n",
      "8891\n",
      "9691\n"
     ]
    }
   ],
   "source": [
    "print(reviews.user_id.nunique())\n",
    "print(reviews.query(\"org_city == 'msk'\").org_id.nunique())\n",
    "print(reviews.query(\"org_city == 'spb'\").org_id.nunique())\n",
    "non_eq_cities = reviews[reviews.user_city != reviews.org_city]\n",
    "print(non_eq_cities.query(\"org_city == 'msk'\").org_id.nunique())\n",
    "print(non_eq_cities.query(\"org_city == 'spb'\").org_id.nunique())"
   ]
  },
  {
   "cell_type": "code",
   "execution_count": 11,
   "metadata": {},
   "outputs": [
    {
     "name": "stdout",
     "output_type": "stream",
     "text": [
      "1252800\n",
      "904993\n",
      "413539\n",
      "20079\n",
      "79488\n"
     ]
    }
   ],
   "source": [
    "print(reviews.user_id.nunique())\n",
    "print(reviews.query(\"org_city == 'msk'\").user_id.nunique())\n",
    "print(reviews.query(\"org_city == 'spb'\").user_id.nunique())\n",
    "non_eq_cities = reviews[reviews.user_city != reviews.org_city]\n",
    "print(non_eq_cities.query(\"org_city == 'msk'\").user_id.nunique())\n",
    "print(non_eq_cities.query(\"org_city == 'spb'\").user_id.nunique())"
   ]
  },
  {
   "cell_type": "code",
   "execution_count": 26,
   "metadata": {},
   "outputs": [
    {
     "data": {
      "text/plain": [
       "count    1.252800e+06\n",
       "mean     2.906157e+00\n",
       "std      4.678116e+00\n",
       "min      1.000000e+00\n",
       "25%      1.000000e+00\n",
       "50%      1.000000e+00\n",
       "75%      3.000000e+00\n",
       "max      5.850000e+02\n",
       "Name: user_id, dtype: float64"
      ]
     },
     "execution_count": 26,
     "metadata": {},
     "output_type": "execute_result"
    }
   ],
   "source": [
    "reviews.user_id.value_counts().describe()"
   ]
  },
  {
   "cell_type": "code",
   "execution_count": null,
   "metadata": {},
   "outputs": [],
   "source": [
    "reviews.user_id.isin(test_users).value_counts().clip(upper=40).hist(bins=40, figsize=(20, 10))"
   ]
  },
  {
   "cell_type": "code",
   "execution_count": 25,
   "metadata": {},
   "outputs": [
    {
     "data": {
      "text/plain": [
       "<AxesSubplot:>"
      ]
     },
     "execution_count": 25,
     "metadata": {},
     "output_type": "execute_result"
    },
    {
     "data": {
      "image/png": "[encoded data removed]",
      "text/plain": [
       "<Figure size 1440x720 with 1 Axes>"
      ]
     },
     "metadata": {
      "needs_background": "light"
     },
     "output_type": "display_data"
    }
   ],
   "source": [
    "reviews.user_id.value_counts().clip(upper=40).hist(bins=40, figsize=(20, 10))"
   ]
  },
  {
   "cell_type": "markdown",
   "id": "298fffed",
   "metadata": {},
   "source": [
    "# Train-test split"
   ]
  },
  {
   "cell_type": "code",
   "execution_count": 32,
   "id": "abb90ff0",
   "metadata": {},
   "outputs": [],
   "source": [
    "def clear_df(df, suffixes=['_x', '_y'], inplace=True):\n",
    "    '''\n",
    "    clear_df(df, suffixes=['_x', '_y'], inplace=True)\n",
    "        Удаляет из входного df все колонки, оканчивающиеся на заданные суффиксы. \n",
    "        \n",
    "        Parameters\n",
    "        ----------\n",
    "        df : pandas.DataFrame\n",
    "        \n",
    "        suffixies : Iterable, default=['_x', '_y']\n",
    "            Суффиксы колонок, подлежащих удалению\n",
    "            \n",
    "        inplace : bool, default=True\n",
    "            Нужно ли удалить колонки \"на месте\" или же создать копию DataFrame.\n",
    "            \n",
    "        Returns\n",
    "        -------\n",
    "        pandas.DataFrame (optional)\n",
    "            df с удалёнными колонками\n",
    "    '''\n",
    "    \n",
    "    def bad_suffix(column):\n",
    "        nonlocal suffixes\n",
    "        return any(column.endswith(suffix) for suffix in suffixes)\n",
    "        \n",
    "    columns_to_drop = [col for col in df.columns if bad_suffix(col)]\n",
    "    return df.drop(columns_to_drop, axis=1, inplace=inplace)\n",
    "\n",
    "\n",
    "def extract_unique(reviews, column): \n",
    "    '''\n",
    "    extract_unique(reviews, column)\n",
    "        Извлекает уникальные значения из колонки в DataFrame.\n",
    "        \n",
    "        Parameters\n",
    "        ----------\n",
    "        reviews : pandas.DataFrame\n",
    "            pandas.DataFrame, из которого будут извлечены значения.\n",
    "        \n",
    "        column : str\n",
    "            Имя колонки в <reviews>.\n",
    "        \n",
    "        Returns\n",
    "        -------\n",
    "        pandas.DataFrame\n",
    "            Содержит одну именованную колонку с уникальными значениями. \n",
    "    '''\n",
    "    \n",
    "    unique = reviews[column].unique()\n",
    "    return pd.DataFrame({column: unique})\n",
    "\n",
    "\n",
    "def count_unique(reviews, column):\n",
    "    '''\n",
    "    count_unique(reviews, column)\n",
    "        Извлекает и подсчитывает уникальные значения из колонки в DataFrame.\n",
    "        \n",
    "        Parameters\n",
    "        ----------\n",
    "        reviews : pandas.DataFrame\n",
    "            pandas.DataFrame, из которого будут извлечены значения.\n",
    "        \n",
    "        column : str\n",
    "            Имя колонки в <reviews>.\n",
    "        \n",
    "        Returns\n",
    "        -------\n",
    "        pandas.DataFrame\n",
    "            Содержит две колонки: с уникальными значениями и счётчиком встреченных. \n",
    "    '''\n",
    "    \n",
    "    return reviews[column].value_counts().reset_index(name='count').rename({'index': column}, axis=1)\n",
    "\n",
    "\n",
    "\n",
    "def filter_reviews(reviews, users=None, orgs=None): \n",
    "    '''\n",
    "    filter_reviews(reviews, users=None, orgs=None)\n",
    "    Оставляет в выборке только отзывы, оставленные заданными пользователями на заданные организации. \n",
    "    \n",
    "    Parameters\n",
    "    ----------\n",
    "        users: pandas.DataFrame, default=None\n",
    "            DataFrame, содержащий колонку <user_id>.\n",
    "            Если None, то фильтрация не происходит. \n",
    "            \n",
    "        orgs: pandas.DataFrame, default=None\n",
    "            DataFrame, содержащий колонку <org_id>.\n",
    "            Если None, то фильтрация не происходит. \n",
    "    \n",
    "    Returns\n",
    "    -------\n",
    "        pandas.DataFrame\n",
    "            Отфильтрованная выборка отзывов. \n",
    "\n",
    "    '''\n",
    "    if users is not None: \n",
    "        reviews = reviews.merge(users, on='user_id', how='inner')\n",
    "        clear_df(reviews)\n",
    "        \n",
    "    if orgs is not None:\n",
    "        reviews = reviews.merge(orgs, on='org_id', how='inner')\n",
    "        clear_df(reviews)\n",
    "        \n",
    "    return reviews\n",
    "\n",
    "\n",
    "def train_test_split(reviews, ts_start, ts_end=None):\n",
    "    '''\n",
    "    train_test_split(reviews, ts_start, ts_end=None)\n",
    "        Разделяет выборку отзывов на две части: обучающую и тестовую. \n",
    "        В тестовую выборку попадают только отзывы с user_id и org_id, встречающимися в обучающей выборке.\n",
    "\n",
    "        Parameters\n",
    "        ----------\n",
    "        reviews : pandas.DataFrame \n",
    "            Отзывы из reviews.csv с обязательными полями:\n",
    "                <rating>, <ts>, <user_id>, <user_city>, <org_id>, <org_city>.\n",
    "\n",
    "        ts_start : int\n",
    "            Первый день отзывов из тестовой выборки (включительно).\n",
    "\n",
    "        ts_end : int, default=None\n",
    "            Последний день отзывов из обучающей выборки (включительно)\n",
    "            Если параметр равен None, то ts_end == reviews['ts'].max(). \n",
    "\n",
    "        Returns\n",
    "        -------\n",
    "        splitting : tuple\n",
    "            Кортеж из двух pandas.DataFrame такой же структуры, как и reviews:\n",
    "            в первом отзывы, попавшие в обучающую выборку, во втором - в тестовую.\n",
    "    '''\n",
    "    \n",
    "    if not ts_end:\n",
    "        ts_end = reviews['ts'].max()\n",
    "    \n",
    "    \n",
    "    reviews_train = reviews[(reviews['ts'] < ts_start) | (reviews['ts'] > ts_end)]\n",
    "    reviews_test = reviews[(ts_start <= reviews['ts']) & (reviews['ts'] <= ts_end)]\n",
    "    \n",
    "    # 1. Выбираем только отзывы на понравившиеся места у путешественников\n",
    "    reviews_test = reviews_test[reviews_test['rating'] >= 4.0]\n",
    "    reviews_test = reviews_test[reviews_test['user_city'] != reviews_test['org_city']]\n",
    "    \n",
    "    # 2. Оставляем в тесте только тех пользователей и организации, которые встречались в трейне\n",
    "    train_orgs = extract_unique(reviews_train, 'org_id')\n",
    "    train_users = extract_unique(reviews_train, 'user_id')\n",
    "    \n",
    "    reviews_test = filter_reviews(reviews_test, orgs=train_orgs)\n",
    "\n",
    "    return reviews_train, reviews_test\n",
    "\n",
    "\n",
    "def process_reviews(reviews):\n",
    "    '''\n",
    "    process_reviews(reviews)\n",
    "        Извлекает из набора отзывов тестовых пользователей и таргет. \n",
    "        \n",
    "        Parameters\n",
    "        ----------\n",
    "        reviews : pandas.DataFrame\n",
    "            DataFrame с отзывами, содержащий колонки <user_id> и <org_id>\n",
    "        \n",
    "        Returns\n",
    "        -------\n",
    "        X : pandas.DataFrame\n",
    "            DataFrame такой же структуры, как и в test_users.csv\n",
    "            \n",
    "        y : pandas.DataFrame\n",
    "            DataFrame с колонками <user_id> и <target>. \n",
    "            В <target> содержится список org_id, посещённых пользователем. \n",
    "    '''\n",
    "    \n",
    "    y = reviews.groupby('user_id')['org_id'].apply(list).reset_index(name='target')\n",
    "    X = pd.DataFrame(y['user_id'])\n",
    "    \n",
    "    return X, y"
   ]
  },
  {
   "cell_type": "code",
   "execution_count": 8,
   "id": "64304309",
   "metadata": {},
   "outputs": [
    {
     "data": {
      "text/plain": [
       "1216"
      ]
     },
     "execution_count": 8,
     "metadata": {},
     "output_type": "execute_result"
    }
   ],
   "source": [
    "reviews['ts'].max()"
   ]
  },
  {
   "cell_type": "markdown",
   "id": "b8707221",
   "metadata": {},
   "source": [
    "Всего в выборку попали отызывы за **1216** дней. \n",
    "\n",
    "Отложим в тестовую выборку отзывы за последние **100** дней."
   ]
  },
  {
   "cell_type": "code",
   "execution_count": 9,
   "id": "43153fe0",
   "metadata": {},
   "outputs": [],
   "source": [
    "train_reviews, test_reviews = train_test_split(reviews, 1116)\n",
    "X_test, y_test = process_reviews(test_reviews)"
   ]
  },
  {
   "cell_type": "markdown",
   "id": "53a8082b",
   "metadata": {},
   "source": [
    "Посмотрим, сколько всего уникальных пользователей попало в эту тестовую выборку:"
   ]
  },
  {
   "cell_type": "code",
   "execution_count": 10,
   "id": "8ca5cc75",
   "metadata": {},
   "outputs": [
    {
     "data": {
      "text/plain": [
       "12044"
      ]
     },
     "execution_count": 10,
     "metadata": {},
     "output_type": "execute_result"
    }
   ],
   "source": [
    "len(X_test)"
   ]
  },
  {
   "cell_type": "markdown",
   "id": "d3b18782",
   "metadata": {},
   "source": [
    "# Метрика"
   ]
  },
  {
   "cell_type": "markdown",
   "id": "115d6644",
   "metadata": {},
   "source": [
    "Метрика принимает на вход два DataFrame, имеющих такую же структуру, как и **y_test**.\n",
    "\n",
    "`print_score` домножает реальное значение метрики на 100 так же, как и в контесте.\n",
    "\n",
    "Подобная имплементация используется для оценки **submission**."
   ]
  },
  {
   "cell_type": "code",
   "execution_count": 33,
   "id": "febc6b3e",
   "metadata": {},
   "outputs": [],
   "source": [
    "def get_recall(y_true, predictions, size=20):\n",
    "        '''\n",
    "        Calculates recall at `size`\n",
    "            \n",
    "            Parameters\n",
    "            ----------\n",
    "            y_true : pd.DataFrame\n",
    "                DataFrame с колонками <user_id> и <target>. \n",
    "                В <target> содержится список настоящих org_id, посещённых пользователем. \n",
    "                \n",
    "            predictions : pd.DataFrame\n",
    "                DataFrame с колонками <user_id> и <target>. \n",
    "                В <target> содержится список рекомендованных для пользователя org_id.\n",
    "                \n",
    "            Returns\n",
    "            -------\n",
    "            float \n",
    "                Значение метрики.\n",
    "        '''\n",
    "        \n",
    "        y_true = y_true.rename({'target': 'y_true'}, axis='columns')\n",
    "        predictions = predictions.rename({'target': 'predictions'}, axis='columns')\n",
    "        \n",
    "        merged = y_true.merge(predictions, left_on='user_id', right_on='user_id')\n",
    "        merged['intersection'] = merged.apply(\n",
    "            lambda row: np.intersect1d(row['y_true'], row['predictions'][:size]).size,\n",
    "            axis=1\n",
    "        )\n",
    "        merged['cardinality'] = merged['y_true'].apply(len)\n",
    "        merged['recall'] = merged['intersection'] / merged['cardinality']\n",
    "        return merged['recall'].mean()\n",
    "\n",
    "def MNAP(size=20):\n",
    "    '''\n",
    "    MNAP(size=20)\n",
    "        Создаёт метрику под <size> сделанных предсказаний.\n",
    "        \n",
    "        Parameters\n",
    "        ----------\n",
    "        size : int, default=20\n",
    "            Размер рекомендованной выборки для каждого пользователя\n",
    "        \n",
    "        Returns\n",
    "        -------\n",
    "        func(pd.DataFrame, pd.DataFrame) -> float\n",
    "            Функция, вычисляющая MNAP.\n",
    "        \n",
    "    '''\n",
    "    \n",
    "    assert size >= 1, \"Size must be greater than zero!\"\n",
    "    \n",
    "    def metric(y_true, predictions, size=size):\n",
    "        '''\n",
    "        metric(y_true, predictions, size=size)\n",
    "            Метрика MNAP для двух перемешанных наборов <y_true> и <y_pred>.\n",
    "            \n",
    "            Parameters\n",
    "            ----------\n",
    "            y_true : pd.DataFrame\n",
    "                DataFrame с колонками <user_id> и <target>. \n",
    "                В <target> содержится список настоящих org_id, посещённых пользователем. \n",
    "                \n",
    "            predictions : pd.DataFrame\n",
    "                DataFrame с колонками <user_id> и <target>. \n",
    "                В <target> содержится список рекомендованных для пользователя org_id.\n",
    "                \n",
    "            Returns\n",
    "            -------\n",
    "            float \n",
    "                Значение метрики.\n",
    "        '''\n",
    "        \n",
    "        y_true = y_true.rename({'target': 'y_true'}, axis='columns')\n",
    "        predictions = predictions.rename({'target': 'predictions'}, axis='columns')\n",
    "        \n",
    "        merged = y_true.merge(predictions, left_on='user_id', right_on='user_id')\n",
    "    \n",
    "        def score(x, size=size):\n",
    "            '''\n",
    "            Вспомогательная функция.\n",
    "            '''\n",
    "            \n",
    "            \n",
    "            y_true = x[1][1]\n",
    "            predictions = x[1][2][:size]\n",
    "            \n",
    "            weight = 0\n",
    "            \n",
    "            inner_weights = [0]\n",
    "            for n, item in enumerate(predictions):\n",
    "                inner_weight = inner_weights[-1] + (1 if item in y_true else 0)\n",
    "                inner_weights.append(inner_weight)\n",
    "            \n",
    "            for n, item in enumerate(predictions):                \n",
    "                if item in y_true:\n",
    "                    weight += inner_weights[n + 1] / (n + 1)\n",
    "                    \n",
    "            return weight / min(len(y_true), size)\n",
    "    \n",
    "        return np.mean([score(row) for row in merged.iterrows()])\n",
    "    \n",
    "        \n",
    "    return metric\n",
    "\n",
    "\n",
    "def print_score(score):\n",
    "    print(f\"Score: {score*100.0:.2f}\")\n",
    "    \n",
    "    \n",
    "N = 20\n",
    "MNAP_N = MNAP(N)"
   ]
  },
  {
   "cell_type": "markdown",
   "id": "0d3598c7",
   "metadata": {},
   "source": [
    "# Подходы без машинного обучения"
   ]
  },
  {
   "cell_type": "markdown",
   "id": "de14194c",
   "metadata": {},
   "source": [
    "## Случайные N мест"
   ]
  },
  {
   "cell_type": "markdown",
   "id": "1180f7b2",
   "metadata": {},
   "source": [
    "Попробуем предлагать пользователям случайные места из другого города. "
   ]
  },
  {
   "cell_type": "code",
   "execution_count": 12,
   "id": "08c07cf4",
   "metadata": {},
   "outputs": [],
   "source": [
    "spb_orgs = orgs[orgs['city'] == 'spb']['org_id']\n",
    "msk_orgs = orgs[orgs['city'] == 'msk']['org_id']\n",
    "\n",
    "test_users_with_locations = X_test.merge(users, on='user_id')"
   ]
  },
  {
   "cell_type": "code",
   "execution_count": 13,
   "id": "493d8770",
   "metadata": {},
   "outputs": [
    {
     "name": "stdout",
     "output_type": "stream",
     "text": [
      "Score: 0.02\n",
      "CPU times: user 2.2 s, sys: 59.9 ms, total: 2.26 s\n",
      "Wall time: 2.22 s\n"
     ]
    }
   ],
   "source": [
    "%%time\n",
    "\n",
    "np.random.seed(1337)\n",
    "choose = lambda x: np.random.choice(spb_orgs, N) if x['city'] == 'msk' else np.random.choice(msk_orgs, N)\n",
    "target = test_users_with_locations.apply(choose, axis=1)\n",
    "\n",
    "predictions = X_test.copy()\n",
    "predictions['target'] = target\n",
    "\n",
    "print_score(MNAP_N(y_test, predictions))"
   ]
  },
  {
   "cell_type": "markdown",
   "id": "ad9fa79e",
   "metadata": {},
   "source": [
    "## N самых популярных мест"
   ]
  },
  {
   "cell_type": "markdown",
   "id": "e18ca7c9",
   "metadata": {},
   "source": [
    "Предыдущий подход, очевидно, не очень удачно предсказывает, какие места посетит пользователей. \n",
    "\n",
    "Попробуем улучшить стратегию: будем предлагать пользователям самые популярные места, то есть те, на которые оставлено больше всего отзывов. "
   ]
  },
  {
   "cell_type": "code",
   "execution_count": 14,
   "id": "40992390",
   "metadata": {},
   "outputs": [],
   "source": [
    "msk_orgs = train_reviews[(train_reviews['rating'] >= 4) & (train_reviews['org_city'] == 'msk')]['org_id']\n",
    "msk_orgs = msk_orgs.value_counts().index[:N].to_list()\n",
    "\n",
    "spb_orgs = train_reviews[(train_reviews['rating'] >= 4) & (train_reviews['org_city'] == 'spb')]['org_id']\n",
    "spb_orgs = spb_orgs.value_counts().index[:N].to_list()"
   ]
  },
  {
   "cell_type": "code",
   "execution_count": 15,
   "id": "69b4ed06",
   "metadata": {},
   "outputs": [
    {
     "name": "stdout",
     "output_type": "stream",
     "text": [
      "Score: 4.21\n",
      "CPU times: user 637 ms, sys: 9.89 ms, total: 647 ms\n",
      "Wall time: 647 ms\n"
     ]
    }
   ],
   "source": [
    "%%time\n",
    "\n",
    "choose = lambda x: spb_orgs if x['city'] == 'msk' else msk_orgs\n",
    "target = test_users_with_locations.apply(choose, axis=1)\n",
    "\n",
    "predictions = X_test.copy()\n",
    "predictions['target'] = target\n",
    "\n",
    "print_score(MNAP_N(y_test, predictions))"
   ]
  },
  {
   "cell_type": "markdown",
   "id": "13df191d",
   "metadata": {},
   "source": [
    "Отлично, метрика немного улучшилась. Но стоит попробовать доработать эту тактику. "
   ]
  },
  {
   "cell_type": "markdown",
   "id": "5ae2bdbd",
   "metadata": {},
   "source": [
    "## N самых популярных мест среди туристов"
   ]
  },
  {
   "cell_type": "code",
   "execution_count": 16,
   "id": "7484e2b9",
   "metadata": {},
   "outputs": [],
   "source": [
    "tourist_reviews = train_reviews[train_reviews['rating'] >= 4.0]\n",
    "\n",
    "# набор отзывов только от туристов\n",
    "tourist_reviews = tourist_reviews[tourist_reviews['user_city'] != tourist_reviews['org_city']]\n",
    "\n",
    "# выбираем самые популярные места среди туристов из Москвы и Питера\n",
    "msk_orgs = tourist_reviews[tourist_reviews['org_city'] == 'msk']['org_id']\n",
    "msk_orgs = msk_orgs.value_counts().index[:N].to_list()\n",
    "\n",
    "spb_orgs = tourist_reviews[tourist_reviews['org_city'] == 'spb']['org_id']\n",
    "spb_orgs = spb_orgs.value_counts().index[:N].to_list()"
   ]
  },
  {
   "cell_type": "code",
   "execution_count": 17,
   "id": "52ed6d80",
   "metadata": {},
   "outputs": [
    {
     "name": "stdout",
     "output_type": "stream",
     "text": [
      "Score: 6.40\n",
      "CPU times: user 652 ms, sys: 5.35 ms, total: 657 ms\n",
      "Wall time: 657 ms\n"
     ]
    }
   ],
   "source": [
    "%%time\n",
    "\n",
    "choose = lambda x: spb_orgs if x['city'] == 'msk' else msk_orgs\n",
    "target = test_users_with_locations.apply(choose, axis=1)\n",
    "\n",
    "predictions = X_test.copy()\n",
    "predictions['target'] = target\n",
    "\n",
    "print_score(MNAP_N(y_test, predictions))"
   ]
  },
  {
   "cell_type": "markdown",
   "id": "531a1b6c",
   "metadata": {},
   "source": [
    "Метрика улучшилась ещё немного."
   ]
  },
  {
   "cell_type": "markdown",
   "id": "60f4cd0a",
   "metadata": {},
   "source": [
    "## N / rubrics_count самых популярных мест из каждой рубрики"
   ]
  },
  {
   "cell_type": "code",
   "execution_count": 18,
   "id": "ce8f63fd",
   "metadata": {},
   "outputs": [],
   "source": [
    "def extract_top_by_rubrics(reviews, N):\n",
    "    '''\n",
    "    extract_top_by_rubrics(reviews, N)\n",
    "        Набирает самые популярные организации по рубрикам, сохраняя распределение.\n",
    "        \n",
    "        Parameters\n",
    "        ----------\n",
    "        reviews : pd.DataFrame\n",
    "            Отзывы пользователей для рекомендации.\n",
    "            \n",
    "        N : int\n",
    "            Число рекомендаций.\n",
    "        \n",
    "        Returns\n",
    "        -------\n",
    "        orgs_list : list\n",
    "            Список отобранных организаций.\n",
    "    '''\n",
    "    \n",
    "    # извлечение популярных рубрик\n",
    "    reviews = reviews.merge(orgs, on='org_id')[['org_id', 'rubrics_id']]\n",
    "    \n",
    "    rubrics = reviews.explode('rubrics_id').groupby('rubrics_id').size()\n",
    "    rubrics = (rubrics / rubrics.sum() * N).apply(round).sort_values(ascending=False)\n",
    "\n",
    "    # вывод списка рубрик по убыванию популярности\n",
    "#     print(\n",
    "#         pd.read_csv('data/rubrics.csv')\n",
    "#         .merge(rubrics.reset_index(), left_index=True, right_on='rubrics_id')\n",
    "#         .sort_values(by=0, ascending=False)[['rubric_id', 0]]\n",
    "#     )\n",
    "    \n",
    "    # извлечение популярных организаций\n",
    "    train_orgs = reviews.groupby('org_id').size().reset_index(name='count').merge(orgs, on='org_id')\n",
    "    train_orgs = train_orgs[['org_id', 'count', 'rubrics_id']]\n",
    "\n",
    "    most_popular_rubric = lambda rubrics_id: max(rubrics_id, key=lambda rubric_id: rubrics[rubric_id])\n",
    "    train_orgs['rubrics_id'] = train_orgs['rubrics_id'].apply(most_popular_rubric)\n",
    "    \n",
    "    orgs_by_rubrics = train_orgs.sort_values(by='count', ascending=False).groupby('rubrics_id')['org_id'].apply(list)\n",
    "    \n",
    "    # соберём самые популярные организации в рубриках в один список\n",
    "    \n",
    "    orgs_list = []\n",
    "\n",
    "    for rubric_id, count in zip(rubrics.index, rubrics):\n",
    "        if rubric_id not in orgs_by_rubrics:\n",
    "            continue \n",
    "\n",
    "        orgs_list.extend(orgs_by_rubrics[rubric_id][:count])\n",
    "    \n",
    "    return orgs_list\n",
    "\n",
    "\n",
    "msk_orgs = extract_top_by_rubrics(tourist_reviews[tourist_reviews['org_city'] == 'msk'], N)\n",
    "spb_orgs = extract_top_by_rubrics(tourist_reviews[tourist_reviews['org_city'] == 'spb'], N)"
   ]
  },
  {
   "cell_type": "code",
   "execution_count": 19,
   "id": "16b3f031",
   "metadata": {},
   "outputs": [
    {
     "name": "stdout",
     "output_type": "stream",
     "text": [
      "Score: 5.77\n",
      "CPU times: user 642 ms, sys: 5 ms, total: 647 ms\n",
      "Wall time: 647 ms\n"
     ]
    }
   ],
   "source": [
    "%%time\n",
    "\n",
    "choose = lambda x: spb_orgs if x['city'] == 'msk' else msk_orgs\n",
    "target = test_users_with_locations.apply(choose, axis=1)\n",
    "\n",
    "predictions = X_test.copy()\n",
    "predictions['target'] = target\n",
    "\n",
    "print_score(MNAP_N(y_test, predictions))"
   ]
  },
  {
   "cell_type": "markdown",
   "id": "cf5bd1ec",
   "metadata": {},
   "source": [
    "# Время ML! Коллаборативная фильтрация"
   ]
  },
  {
   "cell_type": "markdown",
   "id": "409973b4",
   "metadata": {},
   "source": [
    "## Memory-based\n",
    "\n",
    "Для этой группы методов требуется явное построение матрицы __пользователь-организация__ (__interaction matrix__), где на пересечении $i$-ой строки и $j$-ого столбца будет рейтинг, который $i$-ый пользователь выставил $j$-ой организации или же пропуск, если рейтинг не был установлен. "
   ]
  },
  {
   "cell_type": "code",
   "execution_count": 20,
   "id": "57c608ac",
   "metadata": {},
   "outputs": [],
   "source": [
    "def reduce_reviews(reviews, min_user_reviews=5, min_org_reviews=13):\n",
    "    '''\n",
    "    reduce_reviews(reviews, min_user_reviews=5, min_org_reviews=13)\n",
    "        Убирает из выборки пользователей и организации, у которых менее <min_reviews> отзывов в родном городе. \n",
    "        Оставляет только отзывы туристов. \n",
    "        \n",
    "        Parameters\n",
    "        ----------\n",
    "        reviews : pandas.DataFrame \n",
    "            Выборка отзывов с обязательными полями:\n",
    "                <user_id>, <user_city>.\n",
    "        \n",
    "        min_user_reviews : int, default=5\n",
    "            Минимальное количество отзывов у пользователя, необходимое для включения в выборку.\n",
    "            \n",
    "        min_org_reviews : int, default=13\n",
    "            Минимальное количество отзывов у организации, необходимое для включения в выборку.\n",
    "            \n",
    "        Returns\n",
    "        -------\n",
    "        splitting : tuple\n",
    "            Кортеж из двух наборов.\n",
    "            Каждый набор содержит 2 pandas.DataFrame:\n",
    "                1. Урезанная выборка отзывов\n",
    "                2. Набор уникальных организаций\n",
    "                \n",
    "            Первый набор содержит DataFrame-ы, относящиеся к отзывам, оставленным в родном городе, а второй -\n",
    "            к отзывам, оставленным в чужом городе. ё\n",
    "            \n",
    "        users : pd.DataFrame\n",
    "            Набор уникальных пользователей в выборке\n",
    "        \n",
    "    '''\n",
    "    \n",
    "    inner_reviews = reviews[reviews['user_city'] == reviews['org_city']]\n",
    "    outer_reviews = reviews[reviews['user_city'] != reviews['org_city']]\n",
    "\n",
    "    # оставляем только отзывы туристов на родной город \n",
    "    tourist_users = extract_unique(outer_reviews, 'user_id')\n",
    "    inner_reviews = filter_reviews(inner_reviews, users=tourist_users)\n",
    "    \n",
    "    # выбираем только тех пользователей и организации, у которых есть <min_reviews> отзывов\n",
    "    top_users = count_unique(inner_reviews, 'user_id')\n",
    "    top_users = top_users[top_users['count'] >= min_user_reviews]\n",
    "        \n",
    "    top_orgs = count_unique(inner_reviews, 'org_id')\n",
    "    top_orgs = top_orgs[top_orgs['count'] >= min_org_reviews]\n",
    "        \n",
    "    inner_reviews = filter_reviews(inner_reviews, users=top_users, orgs=top_orgs)\n",
    "    outer_reviews = filter_reviews(outer_reviews, users=top_users)\n",
    "    \n",
    "    # combine reviews\n",
    "    reviews = pd.concat([inner_reviews, outer_reviews])\n",
    "    users = extract_unique(reviews, 'user_id')\n",
    "    orgs = extract_unique(reviews, 'org_id')\n",
    "    \n",
    "    \n",
    "    return (\n",
    "        (\n",
    "            inner_reviews,\n",
    "            extract_unique(inner_reviews, 'org_id')\n",
    "        ),\n",
    "        (\n",
    "            outer_reviews,\n",
    "            extract_unique(outer_reviews, 'org_id')\n",
    "        ),\n",
    "        extract_unique(inner_reviews, 'user_id')\n",
    "    )"
   ]
  },
  {
   "cell_type": "code",
   "execution_count": 21,
   "id": "218c6694",
   "metadata": {},
   "outputs": [],
   "source": [
    "def create_mappings(df, column):\n",
    "    '''\n",
    "    create_mappings(df, column)\n",
    "        Создаёт маппинг между оригинальными ключами словаря и новыми порядковыми.\n",
    "        \n",
    "        Parameters\n",
    "        ----------\n",
    "        df : pandas.DataFrame\n",
    "            DataFrame с данными.\n",
    "            \n",
    "        column : str\n",
    "            Название колонки, содержащей нужны ключи. \n",
    "        \n",
    "        Returns\n",
    "        -------\n",
    "        code_to_idx : dict\n",
    "            Словарь с маппингом: \"оригинальный ключ\" -> \"новый ключ\".\n",
    "        \n",
    "        idx_to_code : dict\n",
    "            Словарь с маппингом: \"новый ключ\" -> \"оригинальный ключ\".\n",
    "    '''\n",
    "    \n",
    "    code_to_idx = {}\n",
    "    idx_to_code = {}\n",
    "    \n",
    "    for idx, code in enumerate(df[column].to_list()):\n",
    "        code_to_idx[code] = idx\n",
    "        idx_to_code[idx] = code\n",
    "        \n",
    "    return code_to_idx, idx_to_code\n",
    "\n",
    "\n",
    "def map_ids(row, mapping):\n",
    "    '''\n",
    "    Вспомогательная функция\n",
    "    '''\n",
    "    \n",
    "    return mapping[row]\n",
    "\n",
    "\n",
    "def interaction_matrix(reviews, test_users, min_user_reviews=5, min_org_reviews=12): \n",
    "    '''\n",
    "    interaction_matrix(reviews, test_users, min_user_reviews=5, min_org_reviews=12)\n",
    "        Создаёт блочную матрицу взаимодействий (вид матрицы описан в Returns)\n",
    "        \n",
    "        Parameters\n",
    "        ----------\n",
    "        reviews : pd.DataFrame\n",
    "            Отзывы пользователей для матрицы взаимодействий.\n",
    "            \n",
    "        test_users : pd.DataFrame\n",
    "            Пользователи, для которых будет выполнятся предсказание. \n",
    "        \n",
    "        min_user_reviews : int, default=5\n",
    "            Минимальное число отзывов от пользователя, необходимое для включения его в матрицу.\n",
    "        \n",
    "        min_org_reviews : int, default=12\n",
    "            Минимальное число отзывов на организацию, необходимое для включения её в матрицу.\n",
    "    \n",
    "        Returns\n",
    "        -------\n",
    "        InteractionMatrix : scipy.sparse.csr_matrix\n",
    "            Матрица, содержащая рейтинги, выставленные пользователями.\n",
    "            Она блочная и имеет такой вид:\n",
    "                 ---------------------------------------------------\n",
    "                | TRAIN USERS, INNER ORGS | TRAIN USERS, OUTER ORGS |\n",
    "                |                         |                         |\n",
    "                 ---------------------------------------------------\n",
    "                |  TEST USERS, INNER ORGS |  TEST USERS, OUTER ORGS |\n",
    "                |                         |                         |\n",
    "                 ---------------------------------------------------\n",
    "\n",
    "        splitting : tuple\n",
    "            Кортеж, содержащий два целых числа: \n",
    "                1. Число пользователей в обучающей выборке \n",
    "                2. Число организаций в домашнем регионе\n",
    "\n",
    "        splitting: tuple\n",
    "            Кортеж, содержащий два котрежа из двух словарей:\n",
    "                1. (idx_to_uid, uid_to_idx) - содержит маппинг индекса к user_id\n",
    "                2. (idx_to_oid, oid_to_idx) - содержит маппинг индекса к org_id\n",
    "    '''\n",
    "    \n",
    "    \n",
    "    info = reduce_reviews(train_reviews, min_user_reviews, min_org_reviews)\n",
    "    (inner_reviews, inner_orgs), (outer_reviews, outer_orgs), train_users = info\n",
    "    \n",
    "    # удалим из обучающей выборки пользователей, которые есть в тестовой\n",
    "    test_users = test_users[['user_id']]\n",
    "    \n",
    "    train_users = (\n",
    "        pd.merge(train_users, test_users, indicator=True, how='outer')\n",
    "        .query('_merge==\"left_only\"')\n",
    "        .drop('_merge', axis=1)\n",
    "    )\n",
    "    \n",
    "    inner_reviews = filter_reviews(inner_reviews, train_users)\n",
    "    outer_reviews = filter_reviews(outer_reviews, train_users)\n",
    "    \n",
    "    # оставляем отзывы, оставленные тестовыми пользователями\n",
    "    test_reviews = filter_reviews(reviews, test_users, pd.concat([inner_orgs, outer_orgs]))\n",
    "    \n",
    "    # получаем полный набор маппингов\n",
    "    all_users = pd.concat([train_users, test_users])\n",
    "    all_orgs = pd.concat([inner_orgs, outer_orgs])\n",
    "    \n",
    "    uid_to_idx, idx_to_uid = create_mappings(all_users, 'user_id')\n",
    "    oid_to_idx, idx_to_oid = create_mappings(all_orgs, 'org_id')\n",
    "    \n",
    "    # собираем матрицу взаимодействий \n",
    "    reviews = pd.concat([inner_reviews, outer_reviews, test_reviews])    \n",
    "        \n",
    "    I = reviews['user_id'].apply(map_ids, args=[uid_to_idx]).values\n",
    "    J = reviews['org_id'].apply(map_ids, args=[oid_to_idx]).values\n",
    "    values = reviews['rating']\n",
    "        \n",
    "    interactions = sparse.coo_matrix(\n",
    "        (values, (I, J)), \n",
    "        shape=(len(all_users), len(all_orgs)), \n",
    "        dtype=np.float64\n",
    "    ).tocsr()\n",
    "    \n",
    "    \n",
    "    return (\n",
    "        interactions, \n",
    "        (len(train_users), len(inner_orgs)), \n",
    "        (\n",
    "            (idx_to_uid, uid_to_idx),\n",
    "            (idx_to_oid, oid_to_idx)\n",
    "        )\n",
    "    )"
   ]
  },
  {
   "cell_type": "markdown",
   "id": "e721b3ea",
   "metadata": {},
   "source": [
    "## ALS"
   ]
  },
  {
   "cell_type": "code",
   "execution_count": 22,
   "id": "4fe42863",
   "metadata": {
    "scrolled": true
   },
   "outputs": [
    {
     "name": "stderr",
     "output_type": "stream",
     "text": [
      "WARNING:root:Intel MKL BLAS detected. Its highly recommend to set the environment variable 'export MKL_NUM_THREADS=1' to disable its internal multithreading\n"
     ]
    },
    {
     "data": {
      "application/vnd.jupyter.widget-view+json": {
       "model_id": "c1ba59ce692b400c9bfd5c415699b4ba",
       "version_major": 2,
       "version_minor": 0
      },
      "text/plain": [
       "  0%|          | 0/75 [00:00<?, ?it/s]"
      ]
     },
     "metadata": {},
     "output_type": "display_data"
    },
    {
     "data": {
      "application/vnd.jupyter.widget-view+json": {
       "model_id": "3204a7e53c654c73bab13f6adb2eae85",
       "version_major": 2,
       "version_minor": 0
      },
      "text/plain": [
       "  0%|          | 0/32242 [00:00<?, ?it/s]"
      ]
     },
     "metadata": {},
     "output_type": "display_data"
    },
    {
     "data": {
      "application/vnd.jupyter.widget-view+json": {
       "model_id": "",
       "version_major": 2,
       "version_minor": 0
      },
      "text/plain": [
       "  0%|          | 0/9545 [00:00<?, ?it/s]"
      ]
     },
     "metadata": {},
     "output_type": "display_data"
    },
    {
     "data": {
      "application/vnd.jupyter.widget-view+json": {
       "model_id": "dd3d090b6d404c2e959d94f2119c10ec",
       "version_major": 2,
       "version_minor": 0
      },
      "text/plain": [
       "  0%|          | 0/75 [00:00<?, ?it/s]"
      ]
     },
     "metadata": {},
     "output_type": "display_data"
    },
    {
     "data": {
      "application/vnd.jupyter.widget-view+json": {
       "model_id": "4d09cbaed2e84e7d9d86598aa60ea625",
       "version_major": 2,
       "version_minor": 0
      },
      "text/plain": [
       "  0%|          | 0/25789 [00:00<?, ?it/s]"
      ]
     },
     "metadata": {},
     "output_type": "display_data"
    },
    {
     "data": {
      "application/vnd.jupyter.widget-view+json": {
       "model_id": "",
       "version_major": 2,
       "version_minor": 0
      },
      "text/plain": [
       "  0%|          | 0/2499 [00:00<?, ?it/s]"
      ]
     },
     "metadata": {},
     "output_type": "display_data"
    },
    {
     "name": "stdout",
     "output_type": "stream",
     "text": [
      "CPU times: user 1min 52s, sys: 1.97 s, total: 1min 54s\n",
      "Wall time: 34.6 s\n"
     ]
    }
   ],
   "source": [
    "%%time\n",
    "\n",
    "\n",
    "import implicit\n",
    "\n",
    "\n",
    "def make_predictions(interactions, X_test, N):\n",
    "    '''\n",
    "    make_predictions(interactions, X_test, N)\n",
    "        Делает рекомендации для пользователей из <X_test> на основе матрицы взаимодействий. \n",
    "        \n",
    "        Parameters\n",
    "        ----------\n",
    "        interactions : scipy.sparse.csr_matrix\n",
    "            Разреженная матрица взаимодействий.\n",
    "            \n",
    "        X_test : pd.DataFrame\n",
    "            Набор тестовых пользователей, для которых нужно сделать рекомендации. \n",
    "        \n",
    "        N : int\n",
    "            Число рекомендаций для каждого пользователя. \n",
    "        \n",
    "        Returns\n",
    "        -------\n",
    "        predictions : pd.DataFrame\n",
    "            DataFrame с колонками <user_id> и <target>. \n",
    "            В <target> содержится список рекомендованных для пользователя org_id.\n",
    "        \n",
    "        \n",
    "    '''\n",
    "    \n",
    "    predictions = X_test[['user_id']].copy()\n",
    "    predictions['target'] = pd.Series(dtype=object)\n",
    "    predictions = predictions.set_index('user_id')\n",
    "    \n",
    "    interactions, (train_users_len, inner_orgs_len), mappings = interactions\n",
    "    (idx_to_uid, uid_to_idx), (idx_to_oid, oid_to_idx) = mappings\n",
    "\n",
    "    base_model = implicit.als.AlternatingLeastSquares(\n",
    "        factors=5, \n",
    "        iterations=75, \n",
    "        regularization=0.05, \n",
    "        random_state=42\n",
    "    )\n",
    "    \n",
    "    base_model.fit(interactions.T)\n",
    "    \n",
    "    orgs_to_filter = list(np.arange(inner_orgs_len))\n",
    "\n",
    "    recommendations = base_model.recommend_all(\n",
    "        interactions,\n",
    "        N=N,\n",
    "        filter_already_liked_items=True,\n",
    "        filter_items=orgs_to_filter,\n",
    "        show_progress=True\n",
    "    )\n",
    "    \n",
    "    for user_id in tqdm(X_test['user_id'].values, leave=False):\n",
    "        predictions.loc[user_id, 'target'] = list(\n",
    "            map(\n",
    "                lambda org_idx: idx_to_oid[org_idx], \n",
    "                recommendations[uid_to_idx[user_id]]\n",
    "            )\n",
    "        )\n",
    "        \n",
    "    return predictions.reset_index()\n",
    "\n",
    "\n",
    "msk_interactions = interaction_matrix(\n",
    "    train_reviews[train_reviews['user_city'] == 'msk'],\n",
    "    test_users_with_locations[test_users_with_locations['city'] == 'msk'],\n",
    ")\n",
    "\n",
    "spb_interactions = interaction_matrix(\n",
    "    train_reviews[train_reviews['user_city'] == 'spb'],\n",
    "    test_users_with_locations[test_users_with_locations['city'] == 'spb'],\n",
    ")       \n",
    "        \n",
    "test_msk_users = test_users_with_locations[test_users_with_locations['city'] == 'msk']\n",
    "test_spb_users = test_users_with_locations[test_users_with_locations['city'] == 'spb']\n",
    "\n",
    "msk_predictions = make_predictions(msk_interactions, test_msk_users, N)\n",
    "spb_predictions = make_predictions(spb_interactions, test_spb_users, N)\n",
    "\n",
    "predictions = pd.concat([msk_predictions, spb_predictions])"
   ]
  },
  {
   "cell_type": "code",
   "execution_count": 23,
   "id": "9f561a62",
   "metadata": {},
   "outputs": [
    {
     "name": "stdout",
     "output_type": "stream",
     "text": [
      "Score: 0.85\n",
      "CPU times: user 592 ms, sys: 12.3 ms, total: 604 ms\n",
      "Wall time: 607 ms\n"
     ]
    }
   ],
   "source": [
    "%%time\n",
    "\n",
    "print_score(MNAP_N(y_test, predictions))"
   ]
  },
  {
   "cell_type": "markdown",
   "id": "8fbaf3c0",
   "metadata": {},
   "source": [
    "# Submission\n",
    "\n",
    "Выберем лучший метод на валидации, переобучим его на всей выборке и сделаем предсказание на тестовой выборке. "
   ]
  },
  {
   "cell_type": "markdown",
   "id": "d4c3b048",
   "metadata": {},
   "source": [
    "## Without ML"
   ]
  },
  {
   "cell_type": "code",
   "execution_count": 345,
   "metadata": {},
   "outputs": [
    {
     "data": {
      "text/html": [
       "<div>\n",
       "<style scoped>\n",
       "    .dataframe tbody tr th:only-of-type {\n",
       "        vertical-align: middle;\n",
       "    }\n",
       "\n",
       "    .dataframe tbody tr th {\n",
       "        vertical-align: top;\n",
       "    }\n",
       "\n",
       "    .dataframe thead th {\n",
       "        text-align: right;\n",
       "    }\n",
       "</style>\n",
       "<table border=\"1\" class=\"dataframe\">\n",
       "  <thead>\n",
       "    <tr style=\"text-align: right;\">\n",
       "      <th></th>\n",
       "      <th>user_id</th>\n",
       "      <th>org_id</th>\n",
       "      <th>rating</th>\n",
       "      <th>ts</th>\n",
       "      <th>aspects</th>\n",
       "      <th>user_city</th>\n",
       "      <th>new_user_id</th>\n",
       "      <th>org_city</th>\n",
       "      <th>new_org_id</th>\n",
       "      <th>is_tourist</th>\n",
       "    </tr>\n",
       "  </thead>\n",
       "  <tbody>\n",
       "    <tr>\n",
       "      <th>508509</th>\n",
       "      <td>3469137883208648792</td>\n",
       "      <td>14814427257061788801</td>\n",
       "      <td>5.0</td>\n",
       "      <td>716</td>\n",
       "      <td>NaN</td>\n",
       "      <td>msk</td>\n",
       "      <td>225715</td>\n",
       "      <td>spb</td>\n",
       "      <td>16392</td>\n",
       "      <td>True</td>\n",
       "    </tr>\n",
       "    <tr>\n",
       "      <th>306094</th>\n",
       "      <td>2077243727176024954</td>\n",
       "      <td>12308351802699428940</td>\n",
       "      <td>5.0</td>\n",
       "      <td>716</td>\n",
       "      <td>NaN</td>\n",
       "      <td>spb</td>\n",
       "      <td>993368</td>\n",
       "      <td>msk</td>\n",
       "      <td>8058</td>\n",
       "      <td>True</td>\n",
       "    </tr>\n",
       "    <tr>\n",
       "      <th>2484802</th>\n",
       "      <td>7242014912683578525</td>\n",
       "      <td>882341785564248463</td>\n",
       "      <td>5.0</td>\n",
       "      <td>716</td>\n",
       "      <td>NaN</td>\n",
       "      <td>spb</td>\n",
       "      <td>961726</td>\n",
       "      <td>msk</td>\n",
       "      <td>1505</td>\n",
       "      <td>True</td>\n",
       "    </tr>\n",
       "    <tr>\n",
       "      <th>2698933</th>\n",
       "      <td>1235742476129319798</td>\n",
       "      <td>8754537469956388818</td>\n",
       "      <td>5.0</td>\n",
       "      <td>716</td>\n",
       "      <td>NaN</td>\n",
       "      <td>msk</td>\n",
       "      <td>130143</td>\n",
       "      <td>spb</td>\n",
       "      <td>17695</td>\n",
       "      <td>True</td>\n",
       "    </tr>\n",
       "    <tr>\n",
       "      <th>1945682</th>\n",
       "      <td>4903130228688467019</td>\n",
       "      <td>12356446065909013046</td>\n",
       "      <td>5.0</td>\n",
       "      <td>716</td>\n",
       "      <td>NaN</td>\n",
       "      <td>msk</td>\n",
       "      <td>804304</td>\n",
       "      <td>spb</td>\n",
       "      <td>60378</td>\n",
       "      <td>True</td>\n",
       "    </tr>\n",
       "    <tr>\n",
       "      <th>...</th>\n",
       "      <td>...</td>\n",
       "      <td>...</td>\n",
       "      <td>...</td>\n",
       "      <td>...</td>\n",
       "      <td>...</td>\n",
       "      <td>...</td>\n",
       "      <td>...</td>\n",
       "      <td>...</td>\n",
       "      <td>...</td>\n",
       "      <td>...</td>\n",
       "    </tr>\n",
       "    <tr>\n",
       "      <th>3462302</th>\n",
       "      <td>9734114747371159128</td>\n",
       "      <td>8093959286536165301</td>\n",
       "      <td>5.0</td>\n",
       "      <td>1216</td>\n",
       "      <td>NaN</td>\n",
       "      <td>msk</td>\n",
       "      <td>381425</td>\n",
       "      <td>spb</td>\n",
       "      <td>55452</td>\n",
       "      <td>True</td>\n",
       "    </tr>\n",
       "    <tr>\n",
       "      <th>3561222</th>\n",
       "      <td>5538454390288703636</td>\n",
       "      <td>5868790891175779865</td>\n",
       "      <td>5.0</td>\n",
       "      <td>1216</td>\n",
       "      <td>[279, 301]</td>\n",
       "      <td>msk</td>\n",
       "      <td>623766</td>\n",
       "      <td>spb</td>\n",
       "      <td>35519</td>\n",
       "      <td>True</td>\n",
       "    </tr>\n",
       "    <tr>\n",
       "      <th>325629</th>\n",
       "      <td>4292291913942749620</td>\n",
       "      <td>5002407858008059043</td>\n",
       "      <td>5.0</td>\n",
       "      <td>1216</td>\n",
       "      <td>NaN</td>\n",
       "      <td>msk</td>\n",
       "      <td>338088</td>\n",
       "      <td>spb</td>\n",
       "      <td>13349</td>\n",
       "      <td>True</td>\n",
       "    </tr>\n",
       "    <tr>\n",
       "      <th>3123284</th>\n",
       "      <td>6875142702013331804</td>\n",
       "      <td>18297038156563999564</td>\n",
       "      <td>5.0</td>\n",
       "      <td>1216</td>\n",
       "      <td>[4, 6]</td>\n",
       "      <td>msk</td>\n",
       "      <td>831458</td>\n",
       "      <td>spb</td>\n",
       "      <td>58474</td>\n",
       "      <td>True</td>\n",
       "    </tr>\n",
       "    <tr>\n",
       "      <th>1824136</th>\n",
       "      <td>4672450165388335426</td>\n",
       "      <td>10857509977354481407</td>\n",
       "      <td>5.0</td>\n",
       "      <td>1216</td>\n",
       "      <td>NaN</td>\n",
       "      <td>spb</td>\n",
       "      <td>1076739</td>\n",
       "      <td>msk</td>\n",
       "      <td>62561</td>\n",
       "      <td>True</td>\n",
       "    </tr>\n",
       "  </tbody>\n",
       "</table>\n",
       "<p>69093 rows × 10 columns</p>\n",
       "</div>"
      ],
      "text/plain": [
       "                     user_id                org_id  rating    ts     aspects  \\\n",
       "508509   3469137883208648792  14814427257061788801     5.0   716         NaN   \n",
       "306094   2077243727176024954  12308351802699428940     5.0   716         NaN   \n",
       "2484802  7242014912683578525    882341785564248463     5.0   716         NaN   \n",
       "2698933  1235742476129319798   8754537469956388818     5.0   716         NaN   \n",
       "1945682  4903130228688467019  12356446065909013046     5.0   716         NaN   \n",
       "...                      ...                   ...     ...   ...         ...   \n",
       "3462302  9734114747371159128   8093959286536165301     5.0  1216         NaN   \n",
       "3561222  5538454390288703636   5868790891175779865     5.0  1216  [279, 301]   \n",
       "325629   4292291913942749620   5002407858008059043     5.0  1216         NaN   \n",
       "3123284  6875142702013331804  18297038156563999564     5.0  1216      [4, 6]   \n",
       "1824136  4672450165388335426  10857509977354481407     5.0  1216         NaN   \n",
       "\n",
       "        user_city  new_user_id org_city  new_org_id  is_tourist  \n",
       "508509        msk       225715      spb       16392        True  \n",
       "306094        spb       993368      msk        8058        True  \n",
       "2484802       spb       961726      msk        1505        True  \n",
       "2698933       msk       130143      spb       17695        True  \n",
       "1945682       msk       804304      spb       60378        True  \n",
       "...           ...          ...      ...         ...         ...  \n",
       "3462302       msk       381425      spb       55452        True  \n",
       "3561222       msk       623766      spb       35519        True  \n",
       "325629        msk       338088      spb       13349        True  \n",
       "3123284       msk       831458      spb       58474        True  \n",
       "1824136       spb      1076739      msk       62561        True  \n",
       "\n",
       "[69093 rows x 10 columns]"
      ]
     },
     "execution_count": 345,
     "metadata": {},
     "output_type": "execute_result"
    }
   ],
   "source": [
    "tourist_reviews.query('ts >= 1216 - 500')"
   ]
  },
  {
   "cell_type": "code",
   "execution_count": 346,
   "id": "6d27e2b0",
   "metadata": {},
   "outputs": [],
   "source": [
    "# набор отзывов только от туристов\n",
    "tourist_reviews = reviews[reviews['rating'] >= 4.0]\n",
    "tourist_reviews = tourist_reviews[tourist_reviews['user_city'] != tourist_reviews['org_city']]\n",
    "tourist_reviews = tourist_reviews.query('ts >= 1216 - 500')\n",
    "# выбираем самые популярные места среди туристов из Москвы и Питера\n",
    "msk_orgs = tourist_reviews[tourist_reviews['org_city'] == 'msk']['org_id']\n",
    "msk_orgs = msk_orgs.value_counts().index[:N].to_list()\n",
    "\n",
    "spb_orgs = tourist_reviews[tourist_reviews['org_city'] == 'spb']['org_id']\n",
    "spb_orgs = spb_orgs.value_counts().index[:N].to_list()\n",
    "\n",
    "\n",
    "msk_orgs = str(' '.join(map(str, msk_orgs)))\n",
    "spb_orgs = str(' '.join(map(str, spb_orgs)))"
   ]
  },
  {
   "cell_type": "code",
   "execution_count": 347,
   "id": "a3ac7639",
   "metadata": {},
   "outputs": [],
   "source": [
    "test_users = pd.read_csv('data/test_users.csv')\n",
    "test_users['city'] = test_users.merge(users, on='user_id')['city']"
   ]
  },
  {
   "cell_type": "code",
   "execution_count": 348,
   "id": "72f23e9d",
   "metadata": {},
   "outputs": [
    {
     "data": {
      "text/html": [
       "<div>\n",
       "<style scoped>\n",
       "    .dataframe tbody tr th:only-of-type {\n",
       "        vertical-align: middle;\n",
       "    }\n",
       "\n",
       "    .dataframe tbody tr th {\n",
       "        vertical-align: top;\n",
       "    }\n",
       "\n",
       "    .dataframe thead th {\n",
       "        text-align: right;\n",
       "    }\n",
       "</style>\n",
       "<table border=\"1\" class=\"dataframe\">\n",
       "  <thead>\n",
       "    <tr style=\"text-align: right;\">\n",
       "      <th></th>\n",
       "      <th>user_id</th>\n",
       "      <th>target</th>\n",
       "    </tr>\n",
       "  </thead>\n",
       "  <tbody>\n",
       "    <tr>\n",
       "      <th>0</th>\n",
       "      <td>3545210947248911048</td>\n",
       "      <td>12046097390037935713 5002407858008059043 68382...</td>\n",
       "    </tr>\n",
       "    <tr>\n",
       "      <th>1</th>\n",
       "      <td>15271987121288045390</td>\n",
       "      <td>12046097390037935713 5002407858008059043 68382...</td>\n",
       "    </tr>\n",
       "    <tr>\n",
       "      <th>2</th>\n",
       "      <td>15016858616184265932</td>\n",
       "      <td>12046097390037935713 5002407858008059043 68382...</td>\n",
       "    </tr>\n",
       "    <tr>\n",
       "      <th>3</th>\n",
       "      <td>12457244142928722989</td>\n",
       "      <td>12046097390037935713 5002407858008059043 68382...</td>\n",
       "    </tr>\n",
       "    <tr>\n",
       "      <th>4</th>\n",
       "      <td>13339684649926251468</td>\n",
       "      <td>15250345250621165867 9104453017196776235 15684...</td>\n",
       "    </tr>\n",
       "  </tbody>\n",
       "</table>\n",
       "</div>"
      ],
      "text/plain": [
       "                user_id                                             target\n",
       "0   3545210947248911048  12046097390037935713 5002407858008059043 68382...\n",
       "1  15271987121288045390  12046097390037935713 5002407858008059043 68382...\n",
       "2  15016858616184265932  12046097390037935713 5002407858008059043 68382...\n",
       "3  12457244142928722989  12046097390037935713 5002407858008059043 68382...\n",
       "4  13339684649926251468  15250345250621165867 9104453017196776235 15684..."
      ]
     },
     "execution_count": 348,
     "metadata": {},
     "output_type": "execute_result"
    }
   ],
   "source": [
    "choose = lambda x: spb_orgs if x['city'] == 'msk' else msk_orgs\n",
    "target = test_users.apply(choose, axis=1)\n",
    "\n",
    "predictions = test_users[['user_id']]\n",
    "predictions['target'] = target\n",
    "\n",
    "predictions.head()"
   ]
  },
  {
   "cell_type": "code",
   "execution_count": 350,
   "id": "fab92407",
   "metadata": {},
   "outputs": [],
   "source": [
    "predictions.to_csv('sumbission1.csv', index=None)"
   ]
  },
  {
   "cell_type": "markdown",
   "id": "a32360f4",
   "metadata": {},
   "source": [
    "## With ML"
   ]
  },
  {
   "cell_type": "code",
   "execution_count": 28,
   "id": "c6362223",
   "metadata": {},
   "outputs": [
    {
     "data": {
      "application/vnd.jupyter.widget-view+json": {
       "model_id": "af2b602ccc934dd9bbc13cf18d446b80",
       "version_major": 2,
       "version_minor": 0
      },
      "text/plain": [
       "  0%|          | 0/75 [00:00<?, ?it/s]"
      ]
     },
     "metadata": {},
     "output_type": "display_data"
    },
    {
     "data": {
      "application/vnd.jupyter.widget-view+json": {
       "model_id": "4b38a1a3c5b8410d923db3fb843bdd5d",
       "version_major": 2,
       "version_minor": 0
      },
      "text/plain": [
       "  0%|          | 0/36615 [00:00<?, ?it/s]"
      ]
     },
     "metadata": {},
     "output_type": "display_data"
    },
    {
     "data": {
      "application/vnd.jupyter.widget-view+json": {
       "model_id": "",
       "version_major": 2,
       "version_minor": 0
      },
      "text/plain": [
       "  0%|          | 0/14638 [00:00<?, ?it/s]"
      ]
     },
     "metadata": {},
     "output_type": "display_data"
    },
    {
     "data": {
      "application/vnd.jupyter.widget-view+json": {
       "model_id": "b925d09edfdc45e2a24f2d6294015ad4",
       "version_major": 2,
       "version_minor": 0
      },
      "text/plain": [
       "  0%|          | 0/75 [00:00<?, ?it/s]"
      ]
     },
     "metadata": {},
     "output_type": "display_data"
    },
    {
     "data": {
      "application/vnd.jupyter.widget-view+json": {
       "model_id": "ec77d0a29ca444b5aaf71c416bdc3026",
       "version_major": 2,
       "version_minor": 0
      },
      "text/plain": [
       "  0%|          | 0/25547 [00:00<?, ?it/s]"
      ]
     },
     "metadata": {},
     "output_type": "display_data"
    },
    {
     "data": {
      "application/vnd.jupyter.widget-view+json": {
       "model_id": "",
       "version_major": 2,
       "version_minor": 0
      },
      "text/plain": [
       "  0%|          | 0/2329 [00:00<?, ?it/s]"
      ]
     },
     "metadata": {},
     "output_type": "display_data"
    }
   ],
   "source": [
    "test_users = pd.read_csv('data/test_users.csv')\n",
    "test_users = test_users.merge(users, on='user_id')\n",
    "\n",
    "\n",
    "test_msk_users = test_users[test_users['city'] == 'msk'][['user_id', 'city']]\n",
    "test_spb_users = test_users[test_users['city'] == 'spb'][['user_id', 'city']]\n",
    "\n",
    "\n",
    "msk_interactions = interaction_matrix(\n",
    "    reviews[reviews['user_city'] == 'msk'],\n",
    "    test_msk_users\n",
    ")\n",
    "\n",
    "spb_interactions = interaction_matrix(\n",
    "    reviews[reviews['user_city'] == 'spb'],\n",
    "    test_spb_users\n",
    ")\n",
    "\n",
    "msk_predictions = make_predictions(msk_interactions, test_msk_users, N)\n",
    "spb_predictions = make_predictions(spb_interactions, test_spb_users, N)\n",
    "\n",
    "predictions = pd.concat([msk_predictions, spb_predictions])"
   ]
  },
  {
   "cell_type": "code",
   "execution_count": 29,
   "id": "85617a3a",
   "metadata": {},
   "outputs": [
    {
     "data": {
      "text/html": [
       "<div>\n",
       "<style scoped>\n",
       "    .dataframe tbody tr th:only-of-type {\n",
       "        vertical-align: middle;\n",
       "    }\n",
       "\n",
       "    .dataframe tbody tr th {\n",
       "        vertical-align: top;\n",
       "    }\n",
       "\n",
       "    .dataframe thead th {\n",
       "        text-align: right;\n",
       "    }\n",
       "</style>\n",
       "<table border=\"1\" class=\"dataframe\">\n",
       "  <thead>\n",
       "    <tr style=\"text-align: right;\">\n",
       "      <th></th>\n",
       "      <th>user_id</th>\n",
       "      <th>target</th>\n",
       "    </tr>\n",
       "  </thead>\n",
       "  <tbody>\n",
       "    <tr>\n",
       "      <th>0</th>\n",
       "      <td>3545210947248911048</td>\n",
       "      <td>10899892390879739444 6556420723466820988 12320...</td>\n",
       "    </tr>\n",
       "    <tr>\n",
       "      <th>1</th>\n",
       "      <td>15271987121288045390</td>\n",
       "      <td>6755179149394338096 4264897535035612511 133612...</td>\n",
       "    </tr>\n",
       "    <tr>\n",
       "      <th>2</th>\n",
       "      <td>15016858616184265932</td>\n",
       "      <td>7034326954454250932 14180000520266438941 12018...</td>\n",
       "    </tr>\n",
       "    <tr>\n",
       "      <th>3</th>\n",
       "      <td>12457244142928722989</td>\n",
       "      <td>7034326954454250932 15250345250621165867 12018...</td>\n",
       "    </tr>\n",
       "    <tr>\n",
       "      <th>4</th>\n",
       "      <td>16511650156158419042</td>\n",
       "      <td>10899892390879739444 1232005279283743070 15250...</td>\n",
       "    </tr>\n",
       "  </tbody>\n",
       "</table>\n",
       "</div>"
      ],
      "text/plain": [
       "                user_id                                             target\n",
       "0   3545210947248911048  10899892390879739444 6556420723466820988 12320...\n",
       "1  15271987121288045390  6755179149394338096 4264897535035612511 133612...\n",
       "2  15016858616184265932  7034326954454250932 14180000520266438941 12018...\n",
       "3  12457244142928722989  7034326954454250932 15250345250621165867 12018...\n",
       "4  16511650156158419042  10899892390879739444 1232005279283743070 15250..."
      ]
     },
     "execution_count": 29,
     "metadata": {},
     "output_type": "execute_result"
    }
   ],
   "source": [
    "predictions['target'] = predictions['target'].apply(lambda orgs: ' '.join(map(str, orgs)))\n",
    "predictions.head()"
   ]
  },
  {
   "cell_type": "code",
   "execution_count": 30,
   "id": "07e2e5c0",
   "metadata": {},
   "outputs": [],
   "source": [
    "predictions.to_csv('answers_ml.csv', index=None)"
   ]
  }
 ],
 "metadata": {
  "interpreter": {
   "hash": "529dab04949bf466a099ccd15191181c8f50f93a52967a8e0d9a0ff9084a3cd8"
  },
  "jupytercloud": {
   "vault": {
    "secrets": [
     {
      "name": "yt_secrets",
      "uuid": "sec-01fd5qjpw0xwwpv6t83wc41tp8"
     }
    ]
   }
  },
  "kernelspec": {
   "display_name": "Python 3.8.11 64-bit ('fns_hack': conda)",
   "name": "python3"
  },
  "language_info": {
   "codemirror_mode": {
    "name": "ipython",
    "version": 3
   },
   "file_extension": ".py",
   "mimetype": "text/x-python",
   "name": "python",
   "nbconvert_exporter": "python",
   "pygments_lexer": "ipython3",
   "version": "3.8.11"
  }
 },
 "nbformat": 4,
 "nbformat_minor": 5
}
