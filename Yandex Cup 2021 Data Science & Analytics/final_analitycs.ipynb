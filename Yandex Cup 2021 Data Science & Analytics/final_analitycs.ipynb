{
 "cells": [
  {
   "cell_type": "markdown",
   "metadata": {},
   "source": [
    "# Task C (Monte-Carlo solution)"
   ]
  },
  {
   "cell_type": "markdown",
   "metadata": {},
   "source": [
    "В селе Азино очень любят играть в азартные игры.\n",
    "Правила одной из игр таковы. Игрок 125 раз бросает игральную шестигранную кость. Из полученной последовательности выпавших чисел выбираются все максимальные по включению подотрезки, где каждое число ровно на 1 больше предыдущего. За каждый такой подотрезок игрок получает выигрыш, равный \n",
    "100⋅max(0,(L−2)), где L -- длина подотрезка.\n",
    "Какую наибольшую целочисленную цену игрок может заплатить за участие в такой игре, чтобы матожидание его прибыли было положительным?"
   ]
  },
  {
   "cell_type": "markdown",
   "metadata": {},
   "source": [
    "My first solution for the case that any first value of a die roll after the break of sequence belongs to a new sequence. Apparently, I got this condition wrong because the answer got 0 points despite robust results across many runs of simulations"
   ]
  },
  {
   "cell_type": "code",
   "execution_count": 32,
   "metadata": {},
   "outputs": [
    {
     "name": "stdout",
     "output_type": "stream",
     "text": [
      "225.6609\n"
     ]
    }
   ],
   "source": [
    "import numpy as np\n",
    "wins = []\n",
    "for i in range(1000000):\n",
    "    sample = np.random.choice(np.arange(1, 7), size=125)\n",
    "    #print(sample)\n",
    "    gains = []\n",
    "    idx = 1\n",
    "    curr = 1\n",
    "    while idx < len(sample):\n",
    "        if sample[idx] == sample[idx-1] + 1:\n",
    "            curr += 1\n",
    "        else: \n",
    "            gains.append(curr)\n",
    "            curr = 1\n",
    "        idx +=1\n",
    "    #print(gains)\n",
    "    money = list(map(lambda x: max(0, x-2), gains))\n",
    "    wins.append(sum(money))\n",
    "result = (np.array(wins) *100).mean()\n",
    "print(result)"
   ]
  },
  {
   "cell_type": "markdown",
   "metadata": {},
   "source": [
    "A solution for the case when a first value after the break doesn't belong to the new sequence. The result is unstable (integer part alters between 27 and 28). As of now, I coudn't come up with an analytical solution for this problem."
   ]
  },
  {
   "cell_type": "code",
   "execution_count": 11,
   "metadata": {},
   "outputs": [
    {
     "name": "stdout",
     "output_type": "stream",
     "text": [
      "27.9875\n"
     ]
    }
   ],
   "source": [
    "import numpy as np\n",
    "wins = []\n",
    "for i in range(1000000):\n",
    "    sample = np.random.choice(np.arange(1, 7), size=125)\n",
    "    #print(sample)\n",
    "    gains = []\n",
    "    idx = 1\n",
    "    curr = 0\n",
    "    while idx < len(sample):\n",
    "        if sample[idx] == sample[idx-1] + 1:\n",
    "            curr += 1\n",
    "        else: \n",
    "            gains.append(curr)\n",
    "            curr = 0\n",
    "        idx +=1\n",
    "    #print(gains)\n",
    "    money = list(map(lambda x: max(0, 100*x-200), gains))\n",
    "    wins.append(sum(money))\n",
    "result = np.array(wins).mean()\n",
    "print(result)"
   ]
  },
  {
   "cell_type": "markdown",
   "metadata": {},
   "source": [
    "# Task D. Fraud in crowd-sourcing"
   ]
  },
  {
   "cell_type": "markdown",
   "metadata": {},
   "source": [
    "Одним из популярных способов разметки данных является краудсорсинг. Краудсорсинговые платформы, такие как Toloka, позволяют заказчикам размещать задания по разметке данных, а исполнителям выполнять эти задания за вознаграждение от заказчика.\n",
    "\n",
    "Довольно распространенный тип краудсорсинговых заданий — бинарная классификация изображений, где исполнителю нужно выбрать один из двух вариантов, например, указать, есть ли на картинке котик.\n",
    "\n",
    "Один из заказчиков решил использовать для борьбы с недобросовестными исполнителями (фродерами) механизм контрольных заданий. На каждую страницу с заданиями добавляется одно контрольное задание, для которого известен правильный ответ. Ответы исполнителя на такие задания сравниваются с эталонными, после чего исполнитель может быть заблокирован, если его ответы не будут соответствовать правилу контроля качества.\n",
    "\n",
    "Заказчик настроил следующее правило контроля качества:\n",
    "Если среди первых 10 ответов на контрольные задания более 30% неверных, исполнитель блокируется.\n",
    "\n",
    "Далее после каждых новых 5 контрольных ответов выбираются 10 последних контрольных ответов исполнителя, и если среди них более 30% неверных, исполнитель блокируется.\n",
    "В каждом задании заказчика можно дать один из двух ответов: «Да» или «Нет». Заказчик готовит набор из 100 контрольных заданий. Каждый раз, когда исполнителю нужно будет показать контрольное задание, оно будет случайно равновероятно выбираться из тех контрольных заданий, которые исполнитель еще не выполнял.\n",
    "\n",
    "Какое наибольшее число контрольных заданий с эталонным ответом «Да» может быть в подготовленном наборе контрольных заданий, чтобы фродер, всегда отвечающий «Да», с вероятностью не менее 80% был заблокирован после выполнения не более 25 контрольных заданий?"
   ]
  },
  {
   "cell_type": "markdown",
   "metadata": {},
   "source": [
    "Solution outline:\n",
    "\n",
    "Fraudster has to take 5 runs of the test. In every successive 10 tasks that a fraudster has to accomplish, he will fail if there are 3 or less positive examples (or, equivalently, 4 or more negative). I denote this probability of a failure as $P$. Then number of a run when he first fails follows geometric distribution $X \\sim G_P$. Probability that he'll get caught during first 5 attempts is c.d.f. of X at 5. Thus, the following should hold:\n",
    "\n",
    "$F(5) = 1-(1-P)^5 \\ge 0.8$\n",
    "\n",
    "or\n",
    "\n",
    "$1-P({he\\ passed\\ 10\\ tasks})^5 \\ge 0.8$\n",
    "\n",
    "$P({he\\ passed\\ 10\\ tasks}) = P({there's\\ at\\ most\\ 3\\ negatives\\ among\\ 10\\ tasks})= \\frac{\\sum_{i=0}^{3}{K \\choose i}{100-K \\choose  10-i}}{100 \\choose 10}$,\n",
    "\n",
    "where K denotes number of negatives among all 100 samples. Now we just need to find such K, that $F_K \\ge 0.8$ and $F_{K-1} < 0.8$. And value 100-K would correspond to maximum of positives in the sample."
   ]
  },
  {
   "cell_type": "code",
   "execution_count": 4,
   "metadata": {},
   "outputs": [
    {
     "name": "stdout",
     "output_type": "stream",
     "text": [
      "0.7088014038804673\n",
      "0.8210948488185452\n",
      "max positives: 72\n"
     ]
    }
   ],
   "source": [
    "from math import comb\n",
    "# k is number of negatives\n",
    "k=28\n",
    "s = 0\n",
    "for i in range(4):\n",
    "    s += comb(k, i) * comb(100-k, 10-i)\n",
    "# fail here means fail of a run of tests to identify the fraud.\n",
    "p_fail = s / comb(100, 10)\n",
    "p_success_all = 1 - p_fail ** 5\n",
    "print(p_fail)\n",
    "print(p_success_all)\n",
    "print('max positives:', 100-k)"
   ]
  },
  {
   "cell_type": "markdown",
   "metadata": {},
   "source": [
    "And this is my first solution which had a mistake: I put 4 instead of 5 as a power in c.d.f calculation (it corresponds to another interpretation of geometric distribution r. v. that counts number of failures before the first success)."
   ]
  },
  {
   "cell_type": "code",
   "execution_count": null,
   "metadata": {},
   "outputs": [
    {
     "name": "stdout",
     "output_type": "stream",
     "text": [
      "0.6540199886608099\n",
      "0.8170366569049815\n",
      "max positives: 70\n"
     ]
    }
   ],
   "source": [
    "from math import comb\n",
    "# k is number of negatives\n",
    "k=30\n",
    "s = 0\n",
    "for i in range(4):\n",
    "    s += comb(k, i) * comb(100-k, 10-i)\n",
    "p_fail = s / comb(100, 10)\n",
    "p_success_all = 1 - p_fail ** 4\n",
    "print(p_fail)\n",
    "print(p_success_all)\n",
    "print('max positives:', 100-k)"
   ]
  },
  {
   "cell_type": "markdown",
   "metadata": {},
   "source": [
    "# Task E. Time of delivery"
   ]
  },
  {
   "cell_type": "markdown",
   "metadata": {},
   "source": [
    "Время ожидания заказа в Яндекс.Еде можно разложить на 4 составляющие:\n",
    "1) время выполнения заказа в ресторане\n",
    "2) время на поиск курьера для выполнения заказа\n",
    "3) время на дорогу курьера до ресторана\n",
    "4) время на дорогу курьера от ресторана до клиента.\n",
    "\n",
    "При этом:\n",
    "- задача 3) начинается сразу после задачи 2)\n",
    "- задача 4) начинается сразу после задачи 1) и 3)\n",
    "- задачи 1) и 2) начинаются одновременно.\n",
    "\n",
    "В упрощенной модели можно считать, что каждому этапу соответствует некоторое вероятностное распределение на время выполнения процесса в минутах, а именно:\n",
    "1. равномерное распределение на [10;30]\n",
    "2. равномерное распределение на [2;7]\n",
    "3. равномерное распределение на [5;20]\n",
    "4. равномерное распределение на [5;15].\n",
    "\n",
    "Какое минимальное время на доставку заказа стоит указывать Яндекс Еде, чтобы хотя бы 95% заказов выполнялись без опозданий? В ответ введите число, округленное до 3 знаков после десятичного разделителя."
   ]
  },
  {
   "cell_type": "markdown",
   "metadata": {},
   "source": [
    "## Outline of solution\n",
    "Denote time to deliver the order as Y\n",
    "\n",
    "$Y = X_4 + max(X_1;\\  X_2+X_3)$\n",
    "\n",
    "Then we have to calculate c.d.f of p.d.f of Y incrementally, step by step. It's a long and tedious proccess involving Simpson's distrubution and some tricks.\n",
    "\n",
    "Resulting dictribution of $Z=max(X_1;\\  X_2+X_3)$ part has several subintervals and behaves differently on them. But, it seemed to me that calculating convolution with $X_4$ only for the last subinterval $z \\in [27;30]$ would be enough to get 0.95 percentile of final distribution. So I derived analitycal solution which yielded an answer:  $p_{0.95}=45-\\sqrt{20}\\approx 40.528$.\n",
    "\n",
    "The answer proved to be wrong apparently because value of Y=40.52 overlaps with penultimate subinterval of Z or due to a miscalculation.\n"
   ]
  },
  {
   "cell_type": "code",
   "execution_count": 1,
   "metadata": {},
   "outputs": [
    {
     "name": "stdout",
     "output_type": "stream",
     "text": [
      "40.55270757333492\n",
      "40.55373956783979\n",
      "40.55157179714247\n",
      "40.553055698841156\n",
      "40.552785874436665\n",
      "40.551426638914066\n",
      "40.55184601140242\n",
      "40.55286128624329\n",
      "40.55134861071886\n",
      "40.55074484312397\n"
     ]
    }
   ],
   "source": [
    "import numpy as np\n",
    "for _ in range(10):\n",
    "    size = 100_000_000\n",
    "    X1 = np.random.uniform(low=10, high=30, size=size)\n",
    "    X2 = np.random.uniform(low=2, high=7, size=size)\n",
    "    X3 = np.random.uniform(low=5, high=20, size=size)\n",
    "    X4 = np.random.uniform(low=5, high=15, size=size)\n",
    "    Y = X4 + np.max([X1, X2 + X3], axis=0)\n",
    "    Y.sort()\n",
    "    print(Y[int(0.95*size)])"
   ]
  },
  {
   "cell_type": "markdown",
   "metadata": {},
   "source": [
    "Quick Monte-Carlo simulation confirms that analytical derivation is not far off from the truth."
   ]
  },
  {
   "cell_type": "markdown",
   "metadata": {},
   "source": [
    "# Task F. Analytics"
   ]
  },
  {
   "cell_type": "markdown",
   "metadata": {},
   "source": [
    "Участник чемпионата Yandex Cup за каждую решенную задачу получает 2 монеты, которые он может обменять на буквы из набора {А Н Л И Т К}. Цель каждого участника — не только победить, но и составить название одного из направлений — АНАЛИТИКА.\n",
    "\n",
    "За 1 монету участник может купить одну букву из набора {А Н Л И Т К}, при этом буквы выдаются независимо и равновероятно.\n",
    "\n",
    "Для решения задачи необходимо ответить на два вопроса и указать в поле ввода сумму ответов, округленную до 3 знаков после десятичного разделителя.\n",
    "\n",
    "Какое минимальное количество задач должен решить участник, чтобы вероятность собрать заветное слово АНАЛИТИКА была не менее 0.5?\n",
    "Какова вероятность собрать слово, если человек решит то количество задач, которое получилось в ответе на вопрос 1?"
   ]
  },
  {
   "cell_type": "markdown",
   "metadata": {},
   "source": [
    "I modeled occurences of each letter as a random vector following a multinomial distribution given multisets of n letters drawn out of alphabet with cardinality 6. For each n we need to count number of positive outcomes and multiply the result by $\\frac{1}{6^n}$ (probability of each outcome).\n",
    "\n",
    "Since we know that at $n = 9$ we have a single positive outcome, we start investigating n=10, 11..., appending all combinations with replacement of n-9 letters to this initial outcome and evaluating if it's positive."
   ]
  },
  {
   "cell_type": "code",
   "execution_count": 3,
   "metadata": {},
   "outputs": [
    {
     "name": "stdout",
     "output_type": "stream",
     "text": [
      "8568\n",
      "8568\n",
      "0.5967404190831368\n"
     ]
    }
   ],
   "source": [
    "from itertools import combinations_with_replacement\n",
    "from copy import copy\n",
    "from math import factorial\n",
    "TRIES = 22\n",
    "right = [3, 2, 1, 1, 1, 1]\n",
    "goods = []\n",
    "for comb in combinations_with_replacement(range(6), r=TRIES - 9):\n",
    "    variant = copy(right)\n",
    "    for i in comb:\n",
    "        variant[i] += 1\n",
    "    goods.append(variant)\n",
    "#print(goods)\n",
    "def perms(arr):\n",
    "    n = sum(arr)\n",
    "    result = factorial(n)\n",
    "    for i in arr:\n",
    "        result = result / factorial(i)\n",
    "    return result\n",
    "for i in goods: \n",
    "    if sum(i) != TRIES : print('wrong')\n",
    "print(len(goods))\n",
    "t_goods = [tuple(x) for x in goods]\n",
    "#print(sorted(t_goods))\n",
    "goods = list(set(t_goods))\n",
    "\n",
    "print(len(set(t_goods)))\n",
    "#print(goods)\n",
    "answer = list(map(perms, goods))\n",
    "print(sum(answer) / 6 ** TRIES) \n"
   ]
  }
 ],
 "metadata": {
  "interpreter": {
   "hash": "529dab04949bf466a099ccd15191181c8f50f93a52967a8e0d9a0ff9084a3cd8"
  },
  "kernelspec": {
   "display_name": "Python 3.8.11 64-bit ('fns_hack': conda)",
   "name": "python3"
  },
  "language_info": {
   "codemirror_mode": {
    "name": "ipython",
    "version": 3
   },
   "file_extension": ".py",
   "mimetype": "text/x-python",
   "name": "python",
   "nbconvert_exporter": "python",
   "pygments_lexer": "ipython3",
   "version": "3.8.11"
  },
  "orig_nbformat": 4
 },
 "nbformat": 4,
 "nbformat_minor": 2
}
