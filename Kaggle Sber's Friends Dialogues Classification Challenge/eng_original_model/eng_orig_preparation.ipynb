{
  "nbformat": 4,
  "nbformat_minor": 0,
  "metadata": {
    "colab": {
      "name": "eng_orig_preparation.ipynb",
      "provenance": [],
      "collapsed_sections": [],
      "mount_file_id": "10Myf9lG6fVbAy5wUCI4qm9V3ipbI526w",
      "authorship_tag": "ABX9TyP/ACAAe85i9qZYfkgRMIxC",
      "include_colab_link": true
    },
    "kernelspec": {
      "name": "python3",
      "display_name": "Python 3"
    },
    "language_info": {
      "name": "python"
    }
  },
  "cells": [
    {
      "cell_type": "markdown",
      "metadata": {
        "id": "view-in-github",
        "colab_type": "text"
      },
      "source": [
        "<a href=\"https://colab.research.google.com/github/andrewargatkiny/contests/blob/main/Kaggle%20Sber's%20Friends%20Dialogues%20Classification%20Challenge/eng_original_model/eng_orig_preparation.ipynb\" target=\"_parent\"><img src=\"https://colab.research.google.com/assets/colab-badge.svg\" alt=\"Open In Colab\"/></a>"
      ]
    },
    {
      "cell_type": "code",
      "metadata": {
        "colab": {
          "base_uri": "https://localhost:8080/"
        },
        "id": "xi3WbzyP9dfC",
        "outputId": "b34400c9-3ce1-41e7-bfc4-b56f94c472e6"
      },
      "source": [
        "! git --version"
      ],
      "execution_count": 1,
      "outputs": [
        {
          "output_type": "stream",
          "name": "stdout",
          "text": [
            "git version 2.17.1\n"
          ]
        }
      ]
    },
    {
      "cell_type": "code",
      "metadata": {
        "colab": {
          "base_uri": "https://localhost:8080/"
        },
        "id": "8kZKlhoN9sAZ",
        "outputId": "8d729c7e-a3ba-48dc-e7c0-593e78fa61f5"
      },
      "source": [
        "! git clone https://github.com/Alenush/style_transfer_sirius2021summer/"
      ],
      "execution_count": 2,
      "outputs": [
        {
          "output_type": "stream",
          "name": "stdout",
          "text": [
            "fatal: destination path 'style_transfer_sirius2021summer' already exists and is not an empty directory.\n"
          ]
        }
      ]
    },
    {
      "cell_type": "code",
      "metadata": {
        "colab": {
          "base_uri": "https://localhost:8080/"
        },
        "id": "SIV78-gh-1WO",
        "outputId": "35dce86e-6e31-48b3-89df-9c24945d627b"
      },
      "source": [
        "%cd style_transfer_sirius2021summer/data/scripts/"
      ],
      "execution_count": 3,
      "outputs": [
        {
          "output_type": "stream",
          "name": "stdout",
          "text": [
            "/content/style_transfer_sirius2021summer/data/scripts\n"
          ]
        }
      ]
    },
    {
      "cell_type": "code",
      "metadata": {
        "id": "g5Us2pvo_IQS"
      },
      "source": [
        "import glob\n",
        "import os\n",
        "import re\n",
        "from itertools import chain\n",
        "\n",
        "import pandas as pd\n",
        "from tqdm import tqdm\n",
        "\n",
        "def fetch_lines():\n",
        "    lines = []\n",
        "    for fname in glob.glob('./**/*.txt'):\n",
        "        with open(fname, 'r') as f:\n",
        "            lines.append(f.readlines())\n",
        "    return lines"
      ],
      "execution_count": 4,
      "outputs": []
    },
    {
      "cell_type": "code",
      "metadata": {
        "colab": {
          "base_uri": "https://localhost:8080/"
        },
        "id": "v1gd_JX9AvxA",
        "outputId": "824245b6-abd7-40a4-9f83-b28361b44def"
      },
      "source": [
        "%cd russian"
      ],
      "execution_count": 5,
      "outputs": [
        {
          "output_type": "stream",
          "name": "stdout",
          "text": [
            "/content/style_transfer_sirius2021summer/data/scripts/russian\n"
          ]
        }
      ]
    },
    {
      "cell_type": "code",
      "metadata": {
        "id": "FW5mZUKUAf1g"
      },
      "source": [
        "russian_episodes = fetch_lines()"
      ],
      "execution_count": 6,
      "outputs": []
    },
    {
      "cell_type": "code",
      "metadata": {
        "colab": {
          "base_uri": "https://localhost:8080/"
        },
        "id": "kNRbBOdI4c4n",
        "outputId": "47031c64-28d4-432a-ea4e-2790ef5e35d6"
      },
      "source": [
        "%cd ../english"
      ],
      "execution_count": 7,
      "outputs": [
        {
          "output_type": "stream",
          "name": "stdout",
          "text": [
            "/content/style_transfer_sirius2021summer/data/scripts/english\n"
          ]
        }
      ]
    },
    {
      "cell_type": "code",
      "metadata": {
        "id": "U9hh-htU5OwI"
      },
      "source": [
        "english_episodes = fetch_lines()\n",
        "assert len(english_episodes) == len(russian_episodes), \"Eng and Rus n of series mismatch\""
      ],
      "execution_count": 8,
      "outputs": []
    },
    {
      "cell_type": "code",
      "metadata": {
        "colab": {
          "base_uri": "https://localhost:8080/"
        },
        "id": "rg8fl9wR5j-9",
        "outputId": "b819d263-c5b2-4cc5-c9da-39e832e931b1"
      },
      "source": [
        "! cp -R \"/content/drive/MyDrive/Colab Notebooks/friends-classification\" /content\n",
        "% cd /content/friends-classification/"
      ],
      "execution_count": 9,
      "outputs": [
        {
          "output_type": "stream",
          "name": "stdout",
          "text": [
            "cp: cannot open '/content/drive/MyDrive/Colab Notebooks/friends-classification/train_data.gsheet' for reading: Operation not supported\n",
            "/content/friends-classification\n"
          ]
        }
      ]
    },
    {
      "cell_type": "code",
      "metadata": {
        "colab": {
          "base_uri": "https://localhost:8080/"
        },
        "id": "TGxWv5wg7DtO",
        "outputId": "5961c909-1a53-4e6e-a8ef-61c00c610fb8"
      },
      "source": [
        "if not os.path.exists('excel_files'): \n",
        "    os.mkdir('excel_files')\n",
        "for i in range(len(english_episodes)):\n",
        "    left = len(english_episodes[i])\n",
        "    right = len(russian_episodes[i])\n",
        "    if left != right:\n",
        "        excel = pd.concat(\n",
        "        [pd.Series(english_episodes[i], name='eng'),\n",
        "        pd.Series(russian_episodes[i], name='rus')],\n",
        "        axis=1)\n",
        "        #excel = pd.DataFrame(dict(eng=english_episodes[i], rus=russian_episodes[i]))\n",
        "        excel.to_excel(f'excel_files/{i}.xlsx')\n",
        "        print( f\"Mismatch in number of lines in ep {i}, eng: {left}, rus: {right}\")\n",
        "    "
      ],
      "execution_count": 10,
      "outputs": [
        {
          "output_type": "stream",
          "name": "stdout",
          "text": [
            "Mismatch in number of lines in ep 2, eng: 239, rus: 238\n",
            "Mismatch in number of lines in ep 5, eng: 508, rus: 502\n",
            "Mismatch in number of lines in ep 11, eng: 266, rus: 263\n",
            "Mismatch in number of lines in ep 22, eng: 248, rus: 245\n",
            "Mismatch in number of lines in ep 43, eng: 268, rus: 266\n",
            "Mismatch in number of lines in ep 58, eng: 277, rus: 276\n",
            "Mismatch in number of lines in ep 63, eng: 244, rus: 242\n",
            "Mismatch in number of lines in ep 84, eng: 202, rus: 200\n",
            "Mismatch in number of lines in ep 101, eng: 550, rus: 549\n",
            "Mismatch in number of lines in ep 111, eng: 259, rus: 258\n",
            "Mismatch in number of lines in ep 113, eng: 244, rus: 243\n",
            "Mismatch in number of lines in ep 140, eng: 278, rus: 275\n",
            "Mismatch in number of lines in ep 142, eng: 292, rus: 291\n",
            "Mismatch in number of lines in ep 155, eng: 295, rus: 294\n",
            "Mismatch in number of lines in ep 157, eng: 294, rus: 293\n",
            "Mismatch in number of lines in ep 159, eng: 233, rus: 229\n",
            "Mismatch in number of lines in ep 160, eng: 116, rus: 114\n",
            "Mismatch in number of lines in ep 161, eng: 317, rus: 315\n",
            "Mismatch in number of lines in ep 170, eng: 329, rus: 328\n",
            "Mismatch in number of lines in ep 171, eng: 192, rus: 191\n",
            "Mismatch in number of lines in ep 198, eng: 256, rus: 255\n",
            "Mismatch in number of lines in ep 201, eng: 251, rus: 250\n",
            "Mismatch in number of lines in ep 203, eng: 236, rus: 234\n"
          ]
        }
      ]
    },
    {
      "cell_type": "code",
      "metadata": {
        "colab": {
          "base_uri": "https://localhost:8080/",
          "height": 35
        },
        "id": "6wCMGq8HhvIH",
        "outputId": "fc0f1951-d94a-4337-9356-83d9b9fc7bbe"
      },
      "source": [
        "import shutil\n",
        "shutil.make_archive('excel_files', 'zip', 'excel_files')"
      ],
      "execution_count": 11,
      "outputs": [
        {
          "output_type": "execute_result",
          "data": {
            "application/vnd.google.colaboratory.intrinsic+json": {
              "type": "string"
            },
            "text/plain": [
              "'/content/friends-classification/excel_files.zip'"
            ]
          },
          "metadata": {},
          "execution_count": 11
        }
      ]
    },
    {
      "cell_type": "markdown",
      "metadata": {
        "id": "o2DwZ_UURQZj"
      },
      "source": [
        "Then I've manually aligned texts in Excel and put the results into `excel_files_edited` directory."
      ]
    },
    {
      "cell_type": "code",
      "metadata": {
        "colab": {
          "base_uri": "https://localhost:8080/"
        },
        "id": "a19xdt7e98A0",
        "outputId": "d0250ae4-281c-46cd-a55f-b18b6ae42ede"
      },
      "source": [
        "for i in range(len(english_episodes)):\n",
        "    left = len(english_episodes[i])\n",
        "    right = len(russian_episodes[i])\n",
        "    if left != right:\n",
        "        df = pd.read_excel(f'excel_files_edited/{i}.xlsx')\n",
        "        eng = df['eng'].to_list()\n",
        "        rus = df['rus'].to_list()\n",
        "        assert len(eng) == len(rus) and len(eng) == left, \\\n",
        "          \"Mismatch in edited file\"\n",
        "        english_episodes[i] = eng\n",
        "        russian_episodes[i] = rus\n",
        "        print( f\"New number of lines in ep {i}, eng:\"\n",
        "         f\"{len(english_episodes[i])}, rus: {len(russian_episodes[i])}\")\n",
        "    "
      ],
      "execution_count": 12,
      "outputs": [
        {
          "output_type": "stream",
          "name": "stdout",
          "text": [
            "New number of lines in ep 2, eng:239, rus: 239\n",
            "New number of lines in ep 5, eng:508, rus: 508\n",
            "New number of lines in ep 11, eng:266, rus: 266\n",
            "New number of lines in ep 22, eng:248, rus: 248\n",
            "New number of lines in ep 43, eng:268, rus: 268\n",
            "New number of lines in ep 58, eng:277, rus: 277\n",
            "New number of lines in ep 63, eng:244, rus: 244\n",
            "New number of lines in ep 84, eng:202, rus: 202\n",
            "New number of lines in ep 101, eng:550, rus: 550\n",
            "New number of lines in ep 111, eng:259, rus: 259\n",
            "New number of lines in ep 113, eng:244, rus: 244\n",
            "New number of lines in ep 140, eng:278, rus: 278\n",
            "New number of lines in ep 142, eng:292, rus: 292\n",
            "New number of lines in ep 155, eng:295, rus: 295\n",
            "New number of lines in ep 157, eng:294, rus: 294\n",
            "New number of lines in ep 159, eng:233, rus: 233\n",
            "New number of lines in ep 160, eng:116, rus: 116\n",
            "New number of lines in ep 161, eng:317, rus: 317\n",
            "New number of lines in ep 170, eng:329, rus: 329\n",
            "New number of lines in ep 171, eng:192, rus: 192\n",
            "New number of lines in ep 198, eng:256, rus: 256\n",
            "New number of lines in ep 201, eng:251, rus: 251\n",
            "New number of lines in ep 203, eng:236, rus: 236\n"
          ]
        }
      ]
    },
    {
      "cell_type": "code",
      "metadata": {
        "colab": {
          "base_uri": "https://localhost:8080/",
          "height": 1000
        },
        "id": "CLYvi-EGBOlt",
        "outputId": "705cb5c7-539e-4db2-d621-cce1c4eeb7b6"
      },
      "source": [
        "#pd.set_option('max_colwidth', None)\n",
        "df = pd.read_excel(f'excel_files_edited/198.xlsx')\n",
        "df[:-60].tail(60)"
      ],
      "execution_count": 13,
      "outputs": [
        {
          "output_type": "execute_result",
          "data": {
            "text/html": [
              "<div>\n",
              "<style scoped>\n",
              "    .dataframe tbody tr th:only-of-type {\n",
              "        vertical-align: middle;\n",
              "    }\n",
              "\n",
              "    .dataframe tbody tr th {\n",
              "        vertical-align: top;\n",
              "    }\n",
              "\n",
              "    .dataframe thead th {\n",
              "        text-align: right;\n",
              "    }\n",
              "</style>\n",
              "<table border=\"1\" class=\"dataframe\">\n",
              "  <thead>\n",
              "    <tr style=\"text-align: right;\">\n",
              "      <th></th>\n",
              "      <th>Unnamed: 0</th>\n",
              "      <th>eng</th>\n",
              "      <th>rus</th>\n",
              "    </tr>\n",
              "  </thead>\n",
              "  <tbody>\n",
              "    <tr>\n",
              "      <th>136</th>\n",
              "      <td>136</td>\n",
              "      <td>РЕЙЧЕЛ: I KNOW! I KNOW! I KNOW!\\n</td>\n",
              "      <td>РЕЙЧЕЛ: ЗНАЮ! Я ЗНАЮ! Я ЗНАЮ!\\n</td>\n",
              "    </tr>\n",
              "    <tr>\n",
              "      <th>137</th>\n",
              "      <td>137</td>\n",
              "      <td>ФИБИ: YOU KNOW?!\\n</td>\n",
              "      <td>ФИБИ: ВЫ ЗНАЕТЕ?!\\n</td>\n",
              "    </tr>\n",
              "    <tr>\n",
              "      <th>138</th>\n",
              "      <td>138</td>\n",
              "      <td>РЕЙЧЕЛ: Yes, I know! And Joey knows! But Ross ...</td>\n",
              "      <td>РЕЙЧЕЛ: Да, знаю! И Джои знает! Но Росс не зна...</td>\n",
              "    </tr>\n",
              "    <tr>\n",
              "      <th>139</th>\n",
              "      <td>139</td>\n",
              "      <td>РОСС: What's going on?\\n</td>\n",
              "      <td>РОСС: Что происходит?\\n</td>\n",
              "    </tr>\n",
              "    <tr>\n",
              "      <th>140</th>\n",
              "      <td>140</td>\n",
              "      <td>НЕДРУГ: Ohhh!\\n</td>\n",
              "      <td>НЕДРУГ: Ооо!\\n</td>\n",
              "    </tr>\n",
              "    <tr>\n",
              "      <th>141</th>\n",
              "      <td>141</td>\n",
              "      <td>РЕЙЧЕЛ: HI! Hi!\\n</td>\n",
              "      <td>РЕЙЧЕЛ: ПРИВЕТ! Привет!\\n</td>\n",
              "    </tr>\n",
              "    <tr>\n",
              "      <th>142</th>\n",
              "      <td>142</td>\n",
              "      <td>РОСС: What?! What?!\\n</td>\n",
              "      <td>РОСС: Что?! Какие?!\\n</td>\n",
              "    </tr>\n",
              "    <tr>\n",
              "      <th>143</th>\n",
              "      <td>143</td>\n",
              "      <td>РЕЙЧЕЛ: Nothing! Oh God, we're just so excited...</td>\n",
              "      <td>РЕЙЧЕЛ: Ничего! О боже, мы так рады, что ты хо...</td>\n",
              "    </tr>\n",
              "    <tr>\n",
              "      <th>144</th>\n",
              "      <td>144</td>\n",
              "      <td>РОСС: Actually, it looks really good.\\n</td>\n",
              "      <td>РОСС: Вообще-то неплохо выглядит.\\n</td>\n",
              "    </tr>\n",
              "    <tr>\n",
              "      <th>145</th>\n",
              "      <td>145</td>\n",
              "      <td>ФИБИ: Get in here!\\n</td>\n",
              "      <td>ФИБИ: Иди сюда!\\n</td>\n",
              "    </tr>\n",
              "    <tr>\n",
              "      <th>146</th>\n",
              "      <td>146</td>\n",
              "      <td>ФИБИ: Okay, so now they know that you know, an...</td>\n",
              "      <td>ФИБИ: Хорошо, теперь они знают, что вы знаете,...</td>\n",
              "    </tr>\n",
              "    <tr>\n",
              "      <th>147</th>\n",
              "      <td>147</td>\n",
              "      <td>ДЖОУИ: Yes, but y'know what? It doesn't matter...</td>\n",
              "      <td>ДЖОУИ: Да, но знаете что? Неважно, кто что зна...</td>\n",
              "    </tr>\n",
              "    <tr>\n",
              "      <th>148</th>\n",
              "      <td>148</td>\n",
              "      <td>ФИБИ: Or, we could not tell them we know and h...</td>\n",
              "      <td>ФИБИ: Или мы не могли сказать им, что знаем и ...</td>\n",
              "    </tr>\n",
              "    <tr>\n",
              "      <th>149</th>\n",
              "      <td>149</td>\n",
              "      <td>РЕЙЧЕЛ: All right honey, we'd better go if we ...</td>\n",
              "      <td>РЕЙЧЕЛ: Хорошо, дорогая, нам лучше пойти, если...</td>\n",
              "    </tr>\n",
              "    <tr>\n",
              "      <th>150</th>\n",
              "      <td>150</td>\n",
              "      <td>МОНИКА: Bye!\\n</td>\n",
              "      <td>МОНИКА: Пока!\\n</td>\n",
              "    </tr>\n",
              "    <tr>\n",
              "      <th>151</th>\n",
              "      <td>151</td>\n",
              "      <td>НЕДРУГ: Bye!\\n</td>\n",
              "      <td>НЕДРУГ: Пока!\\n</td>\n",
              "    </tr>\n",
              "    <tr>\n",
              "      <th>152</th>\n",
              "      <td>152</td>\n",
              "      <td>ФИБИ: Bye Chandler! I miss you already.\\n</td>\n",
              "      <td>ФИБИ: Пока, Чендлер! Я уже скучаю по тебе.\\n</td>\n",
              "    </tr>\n",
              "    <tr>\n",
              "      <th>153</th>\n",
              "      <td>153</td>\n",
              "      <td>ЧЕНДЛЕР: Okay, did you see that?! With the ina...</td>\n",
              "      <td>ЧЕНДЛЕР: Ладно, ты это видел?! С неуместным и ...</td>\n",
              "    </tr>\n",
              "    <tr>\n",
              "      <th>154</th>\n",
              "      <td>154</td>\n",
              "      <td>МОНИКА: Actually, I did!\\n</td>\n",
              "      <td>МОНИКА: Собственно, да!\\n</td>\n",
              "    </tr>\n",
              "    <tr>\n",
              "      <th>155</th>\n",
              "      <td>155</td>\n",
              "      <td>ЧЕНДЛЕР: Okay, so now do you believe that she'...</td>\n",
              "      <td>ЧЕНДЛЕР: Хорошо, теперь ты веришь, что я ей нр...</td>\n",
              "    </tr>\n",
              "    <tr>\n",
              "      <th>156</th>\n",
              "      <td>156</td>\n",
              "      <td>МОНИКА: Ohhh, oh my God! Oh my God! She knows ...</td>\n",
              "      <td>МОНИКА: Ой, боже мой! Боже мой! Она о нас знае...</td>\n",
              "    </tr>\n",
              "    <tr>\n",
              "      <th>157</th>\n",
              "      <td>157</td>\n",
              "      <td>ЧЕНДЛЕР: Phoebe knows about us!\\n</td>\n",
              "      <td>ЧЕНДЛЕР: Фиби знает о нас!\\n</td>\n",
              "    </tr>\n",
              "    <tr>\n",
              "      <th>158</th>\n",
              "      <td>158</td>\n",
              "      <td>ДЖОУИ: Well I didn't tell them!\\n</td>\n",
              "      <td>ДЖОУИ: Я им не говорил!\\n</td>\n",
              "    </tr>\n",
              "    <tr>\n",
              "      <th>159</th>\n",
              "      <td>159</td>\n",
              "      <td>МОНИКА: Them?! Who's them?\\n</td>\n",
              "      <td>МОНИКА: Их?! Кто они?\\n</td>\n",
              "    </tr>\n",
              "    <tr>\n",
              "      <th>160</th>\n",
              "      <td>160</td>\n",
              "      <td>ДЖОУИ: Uhhh, Phoebe and Joey.\\n</td>\n",
              "      <td>ДЖОУИ: Угу, Фиби и Джоуи.\\n</td>\n",
              "    </tr>\n",
              "    <tr>\n",
              "      <th>161</th>\n",
              "      <td>161</td>\n",
              "      <td>МОНИКА: Joey!\\n</td>\n",
              "      <td>МОНИКА: Джоуи!\\n</td>\n",
              "    </tr>\n",
              "    <tr>\n",
              "      <th>162</th>\n",
              "      <td>162</td>\n",
              "      <td>ДЖОУИ: And Rachel. I would've told you but the...</td>\n",
              "      <td>ДЖОУИ: И Рэйчел. Я бы сказал вам, но они заста...</td>\n",
              "    </tr>\n",
              "    <tr>\n",
              "      <th>163</th>\n",
              "      <td>163</td>\n",
              "      <td>МОНИКА: Oh man, they think they are so slick m...</td>\n",
              "      <td>МОНИКА: Ой, они думают, что они такие ловкие с...</td>\n",
              "    </tr>\n",
              "    <tr>\n",
              "      <th>164</th>\n",
              "      <td>164</td>\n",
              "      <td>ЧЕНДЛЕР: Ahh yes, the messers become the messe...</td>\n",
              "      <td>ЧЕНДЛЕР: Ах, да, мессеры становятся мессенджер...</td>\n",
              "    </tr>\n",
              "    <tr>\n",
              "      <th>165</th>\n",
              "      <td>165</td>\n",
              "      <td>ФИБИ: I'll have to get back to you on that. Ok...</td>\n",
              "      <td>ФИБИ: Надо тебе ответить. Хорошо, пока! Боже м...</td>\n",
              "    </tr>\n",
              "    <tr>\n",
              "      <th>166</th>\n",
              "      <td>166</td>\n",
              "      <td>РЕЙЧЕЛ: Are you kidding?!\\n</td>\n",
              "      <td>РЕЙЧЕЛ: Ты шутишь?!\\n</td>\n",
              "    </tr>\n",
              "    <tr>\n",
              "      <th>167</th>\n",
              "      <td>167</td>\n",
              "      <td>ФИБИ: No!\\n</td>\n",
              "      <td>ФИБИ: Нет!\\n</td>\n",
              "    </tr>\n",
              "    <tr>\n",
              "      <th>168</th>\n",
              "      <td>168</td>\n",
              "      <td>РЕЙЧЕЛ: I can not believe he would do that to ...</td>\n",
              "      <td>РЕЙЧЕЛ: Не могу поверить, что он так поступил ...</td>\n",
              "    </tr>\n",
              "    <tr>\n",
              "      <th>169</th>\n",
              "      <td>169</td>\n",
              "      <td>ДЖОУИ: No.\\n</td>\n",
              "      <td>ДЖОУИ: Нет.\\n</td>\n",
              "    </tr>\n",
              "    <tr>\n",
              "      <th>170</th>\n",
              "      <td>170</td>\n",
              "      <td>РЕЙЧЕЛ: Joey!\\n</td>\n",
              "      <td>РЕЙЧЕЛ: Джоуи!\\n</td>\n",
              "    </tr>\n",
              "    <tr>\n",
              "      <th>171</th>\n",
              "      <td>171</td>\n",
              "      <td>ДЖОУИ: They know you know.\\n</td>\n",
              "      <td>ДЖОУИ: Они знают, что вы знаете.\\n</td>\n",
              "    </tr>\n",
              "    <tr>\n",
              "      <th>172</th>\n",
              "      <td>172</td>\n",
              "      <td>РЕЙЧЕЛ: Ugh, I knew it! Oh I cannot believe th...</td>\n",
              "      <td>РЕЙЧЕЛ: Ух, я знал это! О, я не могу поверить ...</td>\n",
              "    </tr>\n",
              "    <tr>\n",
              "      <th>173</th>\n",
              "      <td>173</td>\n",
              "      <td>ФИБИ: God, they thought they can mess with us!...</td>\n",
              "      <td>ФИБИ: Боже, они думали, что могут с нами связы...</td>\n",
              "    </tr>\n",
              "    <tr>\n",
              "      <th>174</th>\n",
              "      <td>174</td>\n",
              "      <td>ДЖОУИ: I couldn't even if I wanted to.\\n</td>\n",
              "      <td>ДЖОУИ: Я бы не смог, даже если бы захотел.\\n</td>\n",
              "    </tr>\n",
              "    <tr>\n",
              "      <th>175</th>\n",
              "      <td>175</td>\n",
              "      <td>ЧЕНДЛЕР: Listen, this is totally getting out o...</td>\n",
              "      <td>ЧЕНДЛЕР: Слушай, это уже выходит из-под контро...</td>\n",
              "    </tr>\n",
              "    <tr>\n",
              "      <th>176</th>\n",
              "      <td>176</td>\n",
              "      <td>МОНИКА: She's bluffing!\\n</td>\n",
              "      <td>МОНИКА: Она блефует!\\n</td>\n",
              "    </tr>\n",
              "    <tr>\n",
              "      <th>177</th>\n",
              "      <td>177</td>\n",
              "      <td>ЧЕНДЛЕР: Look, she's not backing down! She wen...</td>\n",
              "      <td>ЧЕНДЛЕР: Смотри, она не отступает! Она пошла в...</td>\n",
              "    </tr>\n",
              "    <tr>\n",
              "      <th>178</th>\n",
              "      <td>178</td>\n",
              "      <td>ФИБИ: He's not backing down. He went to get lo...</td>\n",
              "      <td>ФИБИ: Он не отступает. Он пошел за лосьоном.\\n</td>\n",
              "    </tr>\n",
              "    <tr>\n",
              "      <th>179</th>\n",
              "      <td>179</td>\n",
              "      <td>ДЖОУИ: Oh man! Aren't you guys done yet?!\\n</td>\n",
              "      <td>ДЖОУИ: Блин! Вы еще не закончили?!\\n</td>\n",
              "    </tr>\n",
              "    <tr>\n",
              "      <th>180</th>\n",
              "      <td>180</td>\n",
              "      <td>РЕЙЧЕЛ: Joey look, just look at it this way, t...</td>\n",
              "      <td>РЕЙЧЕЛ: Джоуи, посмотри на это с другой сторон...</td>\n",
              "    </tr>\n",
              "    <tr>\n",
              "      <th>181</th>\n",
              "      <td>181</td>\n",
              "      <td>ДЖОУИ: Ooh!\\n</td>\n",
              "      <td>ДЖОУИ: Ой!\\n</td>\n",
              "    </tr>\n",
              "    <tr>\n",
              "      <th>182</th>\n",
              "      <td>182</td>\n",
              "      <td>РЕЙЧЕЛ: Okay!\\n</td>\n",
              "      <td>РЕЙЧЕЛ: Хорошо!\\n</td>\n",
              "    </tr>\n",
              "    <tr>\n",
              "      <th>183</th>\n",
              "      <td>183</td>\n",
              "      <td>ДЖОУИ: I like that! Oh, okay! Show him your br...</td>\n",
              "      <td>ДЖОУИ: Мне это нравится! Ох, ладно! Покажи ему...</td>\n",
              "    </tr>\n",
              "    <tr>\n",
              "      <th>184</th>\n",
              "      <td>184</td>\n",
              "      <td>ФИБИ: Joey! Wow, you didn’t rip off any button...</td>\n",
              "      <td>ФИБИ: Джоуи! Ух ты, пуговицы не оторвал.\\n</td>\n",
              "    </tr>\n",
              "    <tr>\n",
              "      <th>185</th>\n",
              "      <td>185</td>\n",
              "      <td>ДЖОУИ: It's not my first time.\\n</td>\n",
              "      <td>ДЖОУИ: Я не в первый раз.\\n</td>\n",
              "    </tr>\n",
              "    <tr>\n",
              "      <th>186</th>\n",
              "      <td>186</td>\n",
              "      <td>МОНИКА: You go back out there, and you seduce ...</td>\n",
              "      <td>МОНИКА: Ты идешь туда и соблазняешь ее, пока о...</td>\n",
              "    </tr>\n",
              "    <tr>\n",
              "      <th>187</th>\n",
              "      <td>187</td>\n",
              "      <td>ЧЕНДЛЕР: Okay, give me a second! Did you clean...</td>\n",
              "      <td>ЧЕНДЛЕР: Ладно, дай мне секунду! Вы здесь приб...</td>\n",
              "    </tr>\n",
              "    <tr>\n",
              "      <th>188</th>\n",
              "      <td>188</td>\n",
              "      <td>МОНИКА: Of course.\\n</td>\n",
              "      <td>МОНИКА: Конечно.\\n</td>\n",
              "    </tr>\n",
              "    <tr>\n",
              "      <th>189</th>\n",
              "      <td>189</td>\n",
              "      <td>ЧЕНДЛЕР: Oh, you're-you're going?\\n</td>\n",
              "      <td>ЧЕНДЛЕР: Ой, ты идешь?\\n</td>\n",
              "    </tr>\n",
              "    <tr>\n",
              "      <th>190</th>\n",
              "      <td>190</td>\n",
              "      <td>ФИБИ: Umm, not without you, lover. So, this is...</td>\n",
              "      <td>ФИБИ: Ммм, не без тебя, любовник. Итак, это мо...</td>\n",
              "    </tr>\n",
              "    <tr>\n",
              "      <th>191</th>\n",
              "      <td>191</td>\n",
              "      <td>ЧЕНДЛЕР: It's very, very nice. Well, come here...</td>\n",
              "      <td>ЧЕНДЛЕР: Очень-очень красиво. Ну иди сюда. Я о...</td>\n",
              "    </tr>\n",
              "    <tr>\n",
              "      <th>192</th>\n",
              "      <td>192</td>\n",
              "      <td>ФИБИ: You should be. I'm very bendy. I'm gonna...</td>\n",
              "      <td>ФИБИ: Должен быть. Я очень гибкая. Я тебя сейч...</td>\n",
              "    </tr>\n",
              "    <tr>\n",
              "      <th>193</th>\n",
              "      <td>193</td>\n",
              "      <td>ЧЕНДЛЕР: Not if I kiss you first.\\n</td>\n",
              "      <td>ЧЕНДЛЕР: Нет, если я тебя сначала поцелую.\\n</td>\n",
              "    </tr>\n",
              "    <tr>\n",
              "      <th>194</th>\n",
              "      <td>194</td>\n",
              "      <td>ФИБИ: Ooh.\\n</td>\n",
              "      <td>ФИБИ: Ох.\\n</td>\n",
              "    </tr>\n",
              "    <tr>\n",
              "      <th>195</th>\n",
              "      <td>195</td>\n",
              "      <td>ЧЕНДЛЕР: Well, I guess there's nothing left fo...</td>\n",
              "      <td>ЧЕНДЛЕР: Думаю, нам больше нечего делать, кром...</td>\n",
              "    </tr>\n",
              "  </tbody>\n",
              "</table>\n",
              "</div>"
            ],
            "text/plain": [
              "     Unnamed: 0  ...                                                rus\n",
              "136         136  ...                    РЕЙЧЕЛ: ЗНАЮ! Я ЗНАЮ! Я ЗНАЮ!\\n\n",
              "137         137  ...                                ФИБИ: ВЫ ЗНАЕТЕ?!\\n\n",
              "138         138  ...  РЕЙЧЕЛ: Да, знаю! И Джои знает! Но Росс не зна...\n",
              "139         139  ...                            РОСС: Что происходит?\\n\n",
              "140         140  ...                                     НЕДРУГ: Ооо!\\n\n",
              "141         141  ...                          РЕЙЧЕЛ: ПРИВЕТ! Привет!\\n\n",
              "142         142  ...                              РОСС: Что?! Какие?!\\n\n",
              "143         143  ...  РЕЙЧЕЛ: Ничего! О боже, мы так рады, что ты хо...\n",
              "144         144  ...                РОСС: Вообще-то неплохо выглядит.\\n\n",
              "145         145  ...                                  ФИБИ: Иди сюда!\\n\n",
              "146         146  ...  ФИБИ: Хорошо, теперь они знают, что вы знаете,...\n",
              "147         147  ...  ДЖОУИ: Да, но знаете что? Неважно, кто что зна...\n",
              "148         148  ...  ФИБИ: Или мы не могли сказать им, что знаем и ...\n",
              "149         149  ...  РЕЙЧЕЛ: Хорошо, дорогая, нам лучше пойти, если...\n",
              "150         150  ...                                    МОНИКА: Пока!\\n\n",
              "151         151  ...                                    НЕДРУГ: Пока!\\n\n",
              "152         152  ...       ФИБИ: Пока, Чендлер! Я уже скучаю по тебе.\\n\n",
              "153         153  ...  ЧЕНДЛЕР: Ладно, ты это видел?! С неуместным и ...\n",
              "154         154  ...                          МОНИКА: Собственно, да!\\n\n",
              "155         155  ...  ЧЕНДЛЕР: Хорошо, теперь ты веришь, что я ей нр...\n",
              "156         156  ...  МОНИКА: Ой, боже мой! Боже мой! Она о нас знае...\n",
              "157         157  ...                       ЧЕНДЛЕР: Фиби знает о нас!\\n\n",
              "158         158  ...                          ДЖОУИ: Я им не говорил!\\n\n",
              "159         159  ...                            МОНИКА: Их?! Кто они?\\n\n",
              "160         160  ...                        ДЖОУИ: Угу, Фиби и Джоуи.\\n\n",
              "161         161  ...                                   МОНИКА: Джоуи!\\n\n",
              "162         162  ...  ДЖОУИ: И Рэйчел. Я бы сказал вам, но они заста...\n",
              "163         163  ...  МОНИКА: Ой, они думают, что они такие ловкие с...\n",
              "164         164  ...  ЧЕНДЛЕР: Ах, да, мессеры становятся мессенджер...\n",
              "165         165  ...  ФИБИ: Надо тебе ответить. Хорошо, пока! Боже м...\n",
              "166         166  ...                              РЕЙЧЕЛ: Ты шутишь?!\\n\n",
              "167         167  ...                                       ФИБИ: Нет!\\n\n",
              "168         168  ...  РЕЙЧЕЛ: Не могу поверить, что он так поступил ...\n",
              "169         169  ...                                      ДЖОУИ: Нет.\\n\n",
              "170         170  ...                                   РЕЙЧЕЛ: Джоуи!\\n\n",
              "171         171  ...                 ДЖОУИ: Они знают, что вы знаете.\\n\n",
              "172         172  ...  РЕЙЧЕЛ: Ух, я знал это! О, я не могу поверить ...\n",
              "173         173  ...  ФИБИ: Боже, они думали, что могут с нами связы...\n",
              "174         174  ...       ДЖОУИ: Я бы не смог, даже если бы захотел.\\n\n",
              "175         175  ...  ЧЕНДЛЕР: Слушай, это уже выходит из-под контро...\n",
              "176         176  ...                             МОНИКА: Она блефует!\\n\n",
              "177         177  ...  ЧЕНДЛЕР: Смотри, она не отступает! Она пошла в...\n",
              "178         178  ...     ФИБИ: Он не отступает. Он пошел за лосьоном.\\n\n",
              "179         179  ...               ДЖОУИ: Блин! Вы еще не закончили?!\\n\n",
              "180         180  ...  РЕЙЧЕЛ: Джоуи, посмотри на это с другой сторон...\n",
              "181         181  ...                                       ДЖОУИ: Ой!\\n\n",
              "182         182  ...                                  РЕЙЧЕЛ: Хорошо!\\n\n",
              "183         183  ...  ДЖОУИ: Мне это нравится! Ох, ладно! Покажи ему...\n",
              "184         184  ...         ФИБИ: Джоуи! Ух ты, пуговицы не оторвал.\\n\n",
              "185         185  ...                        ДЖОУИ: Я не в первый раз.\\n\n",
              "186         186  ...  МОНИКА: Ты идешь туда и соблазняешь ее, пока о...\n",
              "187         187  ...  ЧЕНДЛЕР: Ладно, дай мне секунду! Вы здесь приб...\n",
              "188         188  ...                                 МОНИКА: Конечно.\\n\n",
              "189         189  ...                           ЧЕНДЛЕР: Ой, ты идешь?\\n\n",
              "190         190  ...  ФИБИ: Ммм, не без тебя, любовник. Итак, это мо...\n",
              "191         191  ...  ЧЕНДЛЕР: Очень-очень красиво. Ну иди сюда. Я о...\n",
              "192         192  ...  ФИБИ: Должен быть. Я очень гибкая. Я тебя сейч...\n",
              "193         193  ...       ЧЕНДЛЕР: Нет, если я тебя сначала поцелую.\\n\n",
              "194         194  ...                                        ФИБИ: Ох.\\n\n",
              "195         195  ...  ЧЕНДЛЕР: Думаю, нам больше нечего делать, кром...\n",
              "\n",
              "[60 rows x 3 columns]"
            ]
          },
          "metadata": {},
          "execution_count": 13
        }
      ]
    },
    {
      "cell_type": "code",
      "metadata": {
        "id": "9vmqdXcKzQXi"
      },
      "source": [
        "from itertools import chain\n",
        "import pandas as pd\n",
        "russian_meta_lines = list(chain(*russian_episodes))\n",
        "russian_lines = list(\n",
        "    map(lambda line: re.split(r\"^.*?[А-Я]+:\\s?|\\n\", line)[1], russian_meta_lines)\n",
        ")\n",
        "russian_lines = list(\n",
        "    map(lambda line: re.sub(r'\"', \"\", line), russian_lines)\n",
        ")\n",
        "english_meta_lines = list(chain(*english_episodes))\n",
        "assert len(english_meta_lines) == len(russian_meta_lines), \"Length mismatch between ENG and RUS scripts\"\n",
        "english_lines = list(\n",
        "    map(lambda line: re.split(r\"^[А-Я]+:\\s?|\\n\", line)[1], english_meta_lines)\n",
        ")\n",
        "english_lines = list(\n",
        "    map(lambda line: re.sub(r'\"', \"\", line), english_lines)\n",
        ")"
      ],
      "execution_count": 14,
      "outputs": []
    },
    {
      "cell_type": "code",
      "metadata": {
        "colab": {
          "base_uri": "https://localhost:8080/"
        },
        "id": "bgLV0KIm5r5Q",
        "outputId": "7d0360c5-8acd-41e2-bbba-c11e4b405350"
      },
      "source": [
        "df_train = pd.read_csv('train_data.csv').rename({'Category': 'label'}, axis=1)\n",
        "df_train.other_speaker.fillna('', inplace=True)\n",
        "df_val = pd.read_csv('val_data.csv')\n",
        "df_val.other_speaker.fillna('', inplace=True)\n",
        "df_test = pd.read_csv('test.csv')\n",
        "df_test.other_speaker.fillna('', inplace=True)\n",
        "print(df_train.shape, df_val.shape, df_test.shape)"
      ],
      "execution_count": 15,
      "outputs": [
        {
          "output_type": "stream",
          "name": "stdout",
          "text": [
            "(24993, 4) (2778, 4) (3086, 3)\n"
          ]
        }
      ]
    },
    {
      "cell_type": "code",
      "metadata": {
        "id": "k3PUFOCokSbD"
      },
      "source": [
        "\"\"\"from tqdm import tqdm\n",
        "from numba import njit, jit\n",
        "@njit\n",
        "def get_lines(lines, russian_lines):\n",
        "    common_lines = []\n",
        "    for line in lines:\n",
        "      for reference in russian_lines:\n",
        "        if reference.find(line) > -1:\n",
        "          common_lines.append(line)\n",
        "          break\n",
        "    return common_lines\n",
        "get_lines(df_train.friend_response.to_list()[:100], list(russian_lines))\"\"\"\n",
        "      "
      ],
      "execution_count": null,
      "outputs": []
    },
    {
      "cell_type": "code",
      "metadata": {
        "id": "6oXkmK4OiiCW"
      },
      "source": [
        "def get_true_lines(lines):\n",
        "    common_lines = [] #pd.Series([''] * len(df_train))\n",
        "    found_indices = [] #pd.Series([-1] * len(df_train)\n",
        "    negatives = []\n",
        "    for line in tqdm(lines):\n",
        "        for i, reference in enumerate(russian_lines):\n",
        "            if line in reference:\n",
        "                common_lines.append(reference)\n",
        "                found_indices.append(i)\n",
        "                break\n",
        "        else:\n",
        "            curr = re.sub(r\"[\\.\\!\\?]\", \" \", line)\n",
        "            curr = re.sub(\" +\", \".*?\", curr)\n",
        "            #print(curr, line)\n",
        "            for i, reference in enumerate(russian_lines):\n",
        "                if re.findall(curr, reference):\n",
        "                    common_lines.append(reference)\n",
        "                    found_indices.append(i)\n",
        "                    break\n",
        "            else: \n",
        "                negatives.append(line)\n",
        "                common_lines.append(\"\")\n",
        "                found_indices.append(-1)\n",
        "    if not negatives: print('No missing lines, found all.')\n",
        "    return common_lines, found_indices, negatives\n",
        "\n",
        "def supplement_dataset(df):\n",
        "    df = df.copy()\n",
        "    print('Processing friend_response:')\n",
        "    df['true_friend_response'], df['inds_friend_response'], _ \\\n",
        "    = get_true_lines(df['friend_response'])\n",
        "    df['inds_other_speaker'] = df['inds_friend_response'] - 1\n",
        "    df['true_other_speaker'] = df['inds_other_speaker'].apply(lambda x: russian_lines[x])\n",
        "    df['eng_friend_response'] = df['inds_friend_response'].apply(lambda x: english_lines[x])\n",
        "    df['eng_other_speaker'] = df['inds_other_speaker'].apply(lambda x: english_lines[x])\n",
        "    mask = df['inds_friend_response'] != -1\n",
        "    print(f\"\\n{mask.sum()} items were found\")\n",
        "    return df[mask]"
      ],
      "execution_count": 17,
      "outputs": []
    },
    {
      "cell_type": "code",
      "metadata": {
        "colab": {
          "base_uri": "https://localhost:8080/"
        },
        "id": "9ebp9YMBkAXP",
        "outputId": "18846ea3-e096-478c-8ea5-0fbb172f48a3"
      },
      "source": [
        "df_val_aug = supplement_dataset(df_val)"
      ],
      "execution_count": 18,
      "outputs": [
        {
          "output_type": "stream",
          "name": "stdout",
          "text": [
            "Processing friend_response:\n"
          ]
        },
        {
          "output_type": "stream",
          "name": "stderr",
          "text": [
            "100%|██████████| 2778/2778 [00:16<00:00, 164.64it/s]"
          ]
        },
        {
          "output_type": "stream",
          "name": "stdout",
          "text": [
            "\n",
            "2775 items were found\n"
          ]
        },
        {
          "output_type": "stream",
          "name": "stderr",
          "text": [
            "\n"
          ]
        }
      ]
    },
    {
      "cell_type": "code",
      "metadata": {
        "colab": {
          "base_uri": "https://localhost:8080/"
        },
        "id": "o-1d2SneYnJj",
        "outputId": "3b61fc95-7513-472c-8cde-16042af5eefa"
      },
      "source": [
        "df_test_aug = supplement_dataset(df_test)"
      ],
      "execution_count": 19,
      "outputs": [
        {
          "output_type": "stream",
          "name": "stdout",
          "text": [
            "Processing friend_response:\n"
          ]
        },
        {
          "output_type": "stream",
          "name": "stderr",
          "text": [
            "100%|██████████| 3086/3086 [00:17<00:00, 176.10it/s]"
          ]
        },
        {
          "output_type": "stream",
          "name": "stdout",
          "text": [
            "\n",
            "3082 items were found\n"
          ]
        },
        {
          "output_type": "stream",
          "name": "stderr",
          "text": [
            "\n"
          ]
        }
      ]
    },
    {
      "cell_type": "code",
      "metadata": {
        "colab": {
          "base_uri": "https://localhost:8080/"
        },
        "id": "az3_O7wzK15g",
        "outputId": "4d197547-9e1c-4f47-d724-13e7e281a940"
      },
      "source": [
        "df_train_aug = supplement_dataset(df_train)"
      ],
      "execution_count": 20,
      "outputs": [
        {
          "output_type": "stream",
          "name": "stdout",
          "text": [
            "Processing friend_response:\n"
          ]
        },
        {
          "output_type": "stream",
          "name": "stderr",
          "text": [
            "100%|██████████| 24993/24993 [02:30<00:00, 166.60it/s]\n"
          ]
        },
        {
          "output_type": "stream",
          "name": "stdout",
          "text": [
            "\n",
            "24977 items were found\n"
          ]
        }
      ]
    },
    {
      "cell_type": "code",
      "metadata": {
        "colab": {
          "base_uri": "https://localhost:8080/",
          "height": 69
        },
        "id": "u5w_XnX_T86b",
        "outputId": "9f1e2489-4c77-4519-c6a0-c6727b3d0d8c"
      },
      "source": [
        "df_val_aug.query('inds_friend_response == -1')"
      ],
      "execution_count": 21,
      "outputs": [
        {
          "output_type": "execute_result",
          "data": {
            "text/html": [
              "<div>\n",
              "<style scoped>\n",
              "    .dataframe tbody tr th:only-of-type {\n",
              "        vertical-align: middle;\n",
              "    }\n",
              "\n",
              "    .dataframe tbody tr th {\n",
              "        vertical-align: top;\n",
              "    }\n",
              "\n",
              "    .dataframe thead th {\n",
              "        text-align: right;\n",
              "    }\n",
              "</style>\n",
              "<table border=\"1\" class=\"dataframe\">\n",
              "  <thead>\n",
              "    <tr style=\"text-align: right;\">\n",
              "      <th></th>\n",
              "      <th>Id</th>\n",
              "      <th>other_speaker</th>\n",
              "      <th>friend_response</th>\n",
              "      <th>label</th>\n",
              "      <th>true_friend_response</th>\n",
              "      <th>inds_friend_response</th>\n",
              "      <th>inds_other_speaker</th>\n",
              "      <th>true_other_speaker</th>\n",
              "      <th>eng_friend_response</th>\n",
              "      <th>eng_other_speaker</th>\n",
              "    </tr>\n",
              "  </thead>\n",
              "  <tbody>\n",
              "  </tbody>\n",
              "</table>\n",
              "</div>"
            ],
            "text/plain": [
              "Empty DataFrame\n",
              "Columns: [Id, other_speaker, friend_response, label, true_friend_response, inds_friend_response, inds_other_speaker, true_other_speaker, eng_friend_response, eng_other_speaker]\n",
              "Index: []"
            ]
          },
          "metadata": {},
          "execution_count": 21
        }
      ]
    },
    {
      "cell_type": "code",
      "metadata": {
        "colab": {
          "base_uri": "https://localhost:8080/",
          "height": 49
        },
        "id": "3moiylzBXa89",
        "outputId": "e737eeb0-4029-430d-e821-3fe3c4169f93"
      },
      "source": [
        "df_test_aug.query('inds_friend_response != inds_other_speaker + 1')"
      ],
      "execution_count": 22,
      "outputs": [
        {
          "output_type": "execute_result",
          "data": {
            "text/html": [
              "<div>\n",
              "<style scoped>\n",
              "    .dataframe tbody tr th:only-of-type {\n",
              "        vertical-align: middle;\n",
              "    }\n",
              "\n",
              "    .dataframe tbody tr th {\n",
              "        vertical-align: top;\n",
              "    }\n",
              "\n",
              "    .dataframe thead th {\n",
              "        text-align: right;\n",
              "    }\n",
              "</style>\n",
              "<table border=\"1\" class=\"dataframe\">\n",
              "  <thead>\n",
              "    <tr style=\"text-align: right;\">\n",
              "      <th></th>\n",
              "      <th>Id</th>\n",
              "      <th>other_speaker</th>\n",
              "      <th>friend_response</th>\n",
              "      <th>true_friend_response</th>\n",
              "      <th>inds_friend_response</th>\n",
              "      <th>inds_other_speaker</th>\n",
              "      <th>true_other_speaker</th>\n",
              "      <th>eng_friend_response</th>\n",
              "      <th>eng_other_speaker</th>\n",
              "    </tr>\n",
              "  </thead>\n",
              "  <tbody>\n",
              "  </tbody>\n",
              "</table>\n",
              "</div>"
            ],
            "text/plain": [
              "Empty DataFrame\n",
              "Columns: [Id, other_speaker, friend_response, true_friend_response, inds_friend_response, inds_other_speaker, true_other_speaker, eng_friend_response, eng_other_speaker]\n",
              "Index: []"
            ]
          },
          "metadata": {},
          "execution_count": 22
        }
      ]
    },
    {
      "cell_type": "code",
      "metadata": {
        "colab": {
          "base_uri": "https://localhost:8080/",
          "height": 1000
        },
        "id": "87XD2luCWaXF",
        "outputId": "ba7f5e05-388a-4787-c283-b217d244ef4f"
      },
      "source": [
        "df_val_aug.sample(20)"
      ],
      "execution_count": 23,
      "outputs": [
        {
          "output_type": "execute_result",
          "data": {
            "text/html": [
              "<div>\n",
              "<style scoped>\n",
              "    .dataframe tbody tr th:only-of-type {\n",
              "        vertical-align: middle;\n",
              "    }\n",
              "\n",
              "    .dataframe tbody tr th {\n",
              "        vertical-align: top;\n",
              "    }\n",
              "\n",
              "    .dataframe thead th {\n",
              "        text-align: right;\n",
              "    }\n",
              "</style>\n",
              "<table border=\"1\" class=\"dataframe\">\n",
              "  <thead>\n",
              "    <tr style=\"text-align: right;\">\n",
              "      <th></th>\n",
              "      <th>Id</th>\n",
              "      <th>other_speaker</th>\n",
              "      <th>friend_response</th>\n",
              "      <th>label</th>\n",
              "      <th>true_friend_response</th>\n",
              "      <th>inds_friend_response</th>\n",
              "      <th>inds_other_speaker</th>\n",
              "      <th>true_other_speaker</th>\n",
              "      <th>eng_friend_response</th>\n",
              "      <th>eng_other_speaker</th>\n",
              "    </tr>\n",
              "  </thead>\n",
              "  <tbody>\n",
              "    <tr>\n",
              "      <th>1240</th>\n",
              "      <td>1240</td>\n",
              "      <td>Хорошо, вы нас на минутку извините? Что делаешь?</td>\n",
              "      <td>Ой, у тебя может быть акцент, а у меня нет?! Д...</td>\n",
              "      <td>МОНИКА</td>\n",
              "      <td>Ой, у тебя может быть акцент, а у меня нет?! Д...</td>\n",
              "      <td>24449</td>\n",
              "      <td>24448</td>\n",
              "      <td>Хорошо, вы нас на минутку извините? Что делаешь?</td>\n",
              "      <td>Oh, you can have an accent and I can’t?! Top ‘...</td>\n",
              "      <td>Right, will you excuse us for one moment? What...</td>\n",
              "    </tr>\n",
              "    <tr>\n",
              "      <th>1854</th>\n",
              "      <td>1854</td>\n",
              "      <td>Ага.</td>\n",
              "      <td>Это был жалкий смех? ЖАЛОСТЬ СМЕЕТСЯ?</td>\n",
              "      <td>ЧЕНДЛЕР</td>\n",
              "      <td>Это был жалкий смех? ЖАЛОСТЬ СМЕЕТСЯ?</td>\n",
              "      <td>42460</td>\n",
              "      <td>42459</td>\n",
              "      <td>Ага.</td>\n",
              "      <td>So those were pity laughs? PITY LAUGHS?</td>\n",
              "      <td>Yeah.</td>\n",
              "    </tr>\n",
              "    <tr>\n",
              "      <th>2692</th>\n",
              "      <td>2692</td>\n",
              "      <td>Квартира Росса хороша! Почему мы не тусуемся з...</td>\n",
              "      <td>Может быть, это потому, что он немного странно...</td>\n",
              "      <td>ЧЕНДЛЕР</td>\n",
              "      <td>Не знаю. Может быть, это потому, что он немног...</td>\n",
              "      <td>47925</td>\n",
              "      <td>47924</td>\n",
              "      <td>Квартира Росса хороша! Почему мы не тусуемся з...</td>\n",
              "      <td>I don't know. Maybe it's because it smells a l...</td>\n",
              "      <td>Ross’s apartment is nice! How come we don't ha...</td>\n",
              "    </tr>\n",
              "    <tr>\n",
              "      <th>556</th>\n",
              "      <td>556</td>\n",
              "      <td>А… Думаю, из Италии? Ура, ура.</td>\n",
              "      <td>Нет, в смысле, сегодня вечером в здании, вдруг...</td>\n",
              "      <td>РОСС</td>\n",
              "      <td>Нет, в смысле, сегодня вечером в здании, вдруг...</td>\n",
              "      <td>17628</td>\n",
              "      <td>17627</td>\n",
              "      <td>А… Думаю, из Италии? Ура, ура.</td>\n",
              "      <td>No, I mean, tonight in the building, suddenly ...</td>\n",
              "      <td>Oh, Italy, I think? Hur hur hur.</td>\n",
              "    </tr>\n",
              "    <tr>\n",
              "      <th>668</th>\n",
              "      <td>668</td>\n",
              "      <td>Ночной Ричард. Удачи, пн.</td>\n",
              "      <td>Хорошо, прежде чем я скажу тебе, почему бы теб...</td>\n",
              "      <td>МОНИКА</td>\n",
              "      <td>Хорошо, прежде чем я скажу тебе, почему бы теб...</td>\n",
              "      <td>19102</td>\n",
              "      <td>19101</td>\n",
              "      <td>Ночной Ричард. Удачи, пн.</td>\n",
              "      <td>Alright, before I tell you, uh, why don't you ...</td>\n",
              "      <td>Night Richard. Good luck Mon.</td>\n",
              "    </tr>\n",
              "    <tr>\n",
              "      <th>1973</th>\n",
              "      <td>1973</td>\n",
              "      <td>Боже мой! Что, если, что, если они поженятся? ...</td>\n",
              "      <td>Дорогая, не думаю, что нам стоит об этом беспо...</td>\n",
              "      <td>МОНИКА</td>\n",
              "      <td>Дорогая, не думаю, что нам стоит об этом беспо...</td>\n",
              "      <td>9883</td>\n",
              "      <td>9882</td>\n",
              "      <td>Боже мой! Что, если, что, если они поженятся? ...</td>\n",
              "      <td>Honey, I dont think thats something we need ...</td>\n",
              "      <td>Oh my God! What if, what if they get married? ...</td>\n",
              "    </tr>\n",
              "    <tr>\n",
              "      <th>1969</th>\n",
              "      <td>1969</td>\n",
              "      <td>Или невероятно обидно.</td>\n",
              "      <td>Да, конечно, и это тоже.</td>\n",
              "      <td>РЕЙЧЕЛ</td>\n",
              "      <td>Да, конечно, и это тоже.</td>\n",
              "      <td>54833</td>\n",
              "      <td>54832</td>\n",
              "      <td>Или невероятно обидно.</td>\n",
              "      <td>Oh yeah, sure, that too.</td>\n",
              "      <td>Or incredibly offensive.</td>\n",
              "    </tr>\n",
              "    <tr>\n",
              "      <th>1606</th>\n",
              "      <td>1606</td>\n",
              "      <td>Ну, мы не видимся, так что.</td>\n",
              "      <td>Ну, к вашему сведению, в музее есть женщина, к...</td>\n",
              "      <td>РОСС</td>\n",
              "      <td>Ну, к вашему сведению, в музее есть женщина, к...</td>\n",
              "      <td>23446</td>\n",
              "      <td>23445</td>\n",
              "      <td>Ну, мы не видимся, так что.</td>\n",
              "      <td>Well, uh, for your information, there's a woma...</td>\n",
              "      <td>Well, we're not seeing each other, so.</td>\n",
              "    </tr>\n",
              "    <tr>\n",
              "      <th>2627</th>\n",
              "      <td>2627</td>\n",
              "      <td>Можно бросить? Квартира парня меня не интересует.</td>\n",
              "      <td>Ой, пожалуйста, я видел, как ты проверял его л...</td>\n",
              "      <td>ЧЕНДЛЕР</td>\n",
              "      <td>Ой, пожалуйста, я видел, как ты проверял его л...</td>\n",
              "      <td>21817</td>\n",
              "      <td>21816</td>\n",
              "      <td>Можно бросить? Квартира парня меня не интересует.</td>\n",
              "      <td>Oh please, I saw the way you were checking out...</td>\n",
              "      <td>Can we drop this? I am not interested in the g...</td>\n",
              "    </tr>\n",
              "    <tr>\n",
              "      <th>1627</th>\n",
              "      <td>1627</td>\n",
              "      <td>Понятно. Что ж, я желаю вам обоим счастья на в...</td>\n",
              "      <td>Нам бы очень понравилось, если бы ты был там.</td>\n",
              "      <td>ЧЕНДЛЕР</td>\n",
              "      <td>Подожди! Ждать! Нам бы очень понравилось, если...</td>\n",
              "      <td>50947</td>\n",
              "      <td>50946</td>\n",
              "      <td>Понятно. Что ж, я желаю вам обоим счастья на в...</td>\n",
              "      <td>Wait! Wait! We’d really love it if you could b...</td>\n",
              "      <td>I see. Well, I wish you both a lifetime of hap...</td>\n",
              "    </tr>\n",
              "    <tr>\n",
              "      <th>846</th>\n",
              "      <td>846</td>\n",
              "      <td>Стимул для мужчин?</td>\n",
              "      <td>Я возьму на себя часть этого.</td>\n",
              "      <td>ФИБИ</td>\n",
              "      <td>Я возьму на себя часть этого.</td>\n",
              "      <td>39803</td>\n",
              "      <td>39802</td>\n",
              "      <td>Стимул для мужчин?</td>\n",
              "      <td>Oh, I'll take some of that.</td>\n",
              "      <td>Incentive For Men?</td>\n",
              "    </tr>\n",
              "    <tr>\n",
              "      <th>1581</th>\n",
              "      <td>1581</td>\n",
              "      <td>О. Ага, мы можем вам помочь?</td>\n",
              "      <td>Здесь холодно. Вы бы вернулись внутрь?</td>\n",
              "      <td>МОНИКА</td>\n",
              "      <td>Рэйчел, что ты делаешь? Здесь холодно. Вы бы в...</td>\n",
              "      <td>16297</td>\n",
              "      <td>16296</td>\n",
              "      <td>О. Ага, мы можем вам помочь?</td>\n",
              "      <td>Rachel, what are you doing? It's freezing out ...</td>\n",
              "      <td>Oh. Yeah, um, may we help you?</td>\n",
              "    </tr>\n",
              "    <tr>\n",
              "      <th>2192</th>\n",
              "      <td>2192</td>\n",
              "      <td>Хорошо, как долго я наблюдал за этой женщиной?</td>\n",
              "      <td>Я просто говорю, что когда-нибудь Росс с кем-н...</td>\n",
              "      <td>РЕЙЧЕЛ</td>\n",
              "      <td>Я просто говорю, что когда-нибудь Росс с кем-н...</td>\n",
              "      <td>7821</td>\n",
              "      <td>7820</td>\n",
              "      <td>Хорошо, как долго я наблюдал за этой женщиной?</td>\n",
              "      <td>Im just saying that yknow, someday Ross is g...</td>\n",
              "      <td>Okay, how long was I watching that woman?</td>\n",
              "    </tr>\n",
              "    <tr>\n",
              "      <th>959</th>\n",
              "      <td>959</td>\n",
              "      <td>Хочешь уйти с моего лица?</td>\n",
              "      <td>Постой, Тони, стой. Привет, да нет, она здесь....</td>\n",
              "      <td>РОСС</td>\n",
              "      <td>Постой, Тони, стой. Привет. Привет, да нет, он...</td>\n",
              "      <td>20387</td>\n",
              "      <td>20386</td>\n",
              "      <td>Хочешь уйти с моего лица?</td>\n",
              "      <td>Wait hold on Tony, hold on. Hello. Hi, yeah no...</td>\n",
              "      <td>You wanna get out of my face?</td>\n",
              "    </tr>\n",
              "    <tr>\n",
              "      <th>2021</th>\n",
              "      <td>2021</td>\n",
              "      <td>Ну, на прошлых выходных.</td>\n",
              "      <td>Да не так уж и плохо.</td>\n",
              "      <td>ФИБИ</td>\n",
              "      <td>Да не так уж и плохо.</td>\n",
              "      <td>26771</td>\n",
              "      <td>26770</td>\n",
              "      <td>Ну, на прошлых выходных.</td>\n",
              "      <td>Oh that’s not so bad.</td>\n",
              "      <td>Well, last weekend.</td>\n",
              "    </tr>\n",
              "    <tr>\n",
              "      <th>1468</th>\n",
              "      <td>1468</td>\n",
              "      <td>Да! Каждый год Росс произносит тост, и это все...</td>\n",
              "      <td>А вам интересно, почему Росс их фаворит?</td>\n",
              "      <td>ЧЕНДЛЕР</td>\n",
              "      <td>А вам интересно, почему Росс их фаворит?</td>\n",
              "      <td>6813</td>\n",
              "      <td>6812</td>\n",
              "      <td>Да! Каждый год Росс произносит тост, и это все...</td>\n",
              "      <td>And you wonder why Ross is their favorite?</td>\n",
              "      <td>Yes! Every year Ross makes the toast, and its...</td>\n",
              "    </tr>\n",
              "    <tr>\n",
              "      <th>85</th>\n",
              "      <td>85</td>\n",
              "      <td>Что еще?</td>\n",
              "      <td>Когда я принимаю душ, она оставляет мне записо...</td>\n",
              "      <td>МОНИКА</td>\n",
              "      <td>Когда я принимаю душ, она оставляет мне записо...</td>\n",
              "      <td>30203</td>\n",
              "      <td>30202</td>\n",
              "      <td>Что еще?</td>\n",
              "      <td>When I take a shower, she leaves me little not...</td>\n",
              "      <td>What else?</td>\n",
              "    </tr>\n",
              "    <tr>\n",
              "      <th>2232</th>\n",
              "      <td>2232</td>\n",
              "      <td>Прыгает на кровати?</td>\n",
              "      <td>Ладно, вечеринка у Рэйчел через пару часов, а ...</td>\n",
              "      <td>МОНИКА</td>\n",
              "      <td>Ладно, вечеринка у Рэйчел через пару часов, а ...</td>\n",
              "      <td>45680</td>\n",
              "      <td>45679</td>\n",
              "      <td>Прыгает на кровати?</td>\n",
              "      <td>All right, Rachel's party is in a couple of ho...</td>\n",
              "      <td>Jumping on the bed?</td>\n",
              "    </tr>\n",
              "    <tr>\n",
              "      <th>2373</th>\n",
              "      <td>2373</td>\n",
              "      <td>Как бы привлекательно это ни звучало для ее па...</td>\n",
              "      <td>Ой, мне это нравится.</td>\n",
              "      <td>РЕЙЧЕЛ</td>\n",
              "      <td>Ой, мне это нравится.</td>\n",
              "      <td>26442</td>\n",
              "      <td>26441</td>\n",
              "      <td>Как бы привлекательно это ни звучало для ее па...</td>\n",
              "      <td>Aw, I love that.</td>\n",
              "      <td>Well appealing as that does sound to her boyfr...</td>\n",
              "    </tr>\n",
              "    <tr>\n",
              "      <th>1770</th>\n",
              "      <td>1770</td>\n",
              "      <td>Твои штаны!</td>\n",
              "      <td>Тебе они нравятся? Я просто пошла в магазин но...</td>\n",
              "      <td>ФИБИ</td>\n",
              "      <td>Ага! Тебе они нравятся? Я просто пошла в магаз...</td>\n",
              "      <td>2805</td>\n",
              "      <td>2804</td>\n",
              "      <td>Твои штаны!</td>\n",
              "      <td>Oh, yeah! You like ‘em? I just, I went to a us...</td>\n",
              "      <td>Your pants!</td>\n",
              "    </tr>\n",
              "  </tbody>\n",
              "</table>\n",
              "</div>"
            ],
            "text/plain": [
              "        Id  ...                                  eng_other_speaker\n",
              "1240  1240  ...  Right, will you excuse us for one moment? What...\n",
              "1854  1854  ...                                              Yeah.\n",
              "2692  2692  ...  Ross’s apartment is nice! How come we don't ha...\n",
              "556    556  ...                   Oh, Italy, I think? Hur hur hur.\n",
              "668    668  ...                      Night Richard. Good luck Mon.\n",
              "1973  1973  ...  Oh my God! What if, what if they get married? ...\n",
              "1969  1969  ...                           Or incredibly offensive.\n",
              "1606  1606  ...             Well, we're not seeing each other, so.\n",
              "2627  2627  ...  Can we drop this? I am not interested in the g...\n",
              "1627  1627  ...  I see. Well, I wish you both a lifetime of hap...\n",
              "846    846  ...                                 Incentive For Men?\n",
              "1581  1581  ...                     Oh. Yeah, um, may we help you?\n",
              "2192  2192  ...          Okay, how long was I watching that woman?\n",
              "959    959  ...                      You wanna get out of my face?\n",
              "2021  2021  ...                                Well, last weekend.\n",
              "1468  1468  ...  Yes! Every year Ross makes the toast, and its...\n",
              "85      85  ...                                         What else?\n",
              "2232  2232  ...                                Jumping on the bed?\n",
              "2373  2373  ...  Well appealing as that does sound to her boyfr...\n",
              "1770  1770  ...                                        Your pants!\n",
              "\n",
              "[20 rows x 10 columns]"
            ]
          },
          "metadata": {},
          "execution_count": 23
        }
      ]
    },
    {
      "cell_type": "code",
      "metadata": {
        "id": "RTGL_Me6UiSe"
      },
      "source": [
        "def compose_eng_ds(df_orig, df_aug):\n",
        "    eng_df = df_orig.copy()\n",
        "    eng_df.other_speaker = df_aug.eng_other_speaker\n",
        "    eng_df.friend_response = df_aug.eng_friend_response\n",
        "    return eng_df\n",
        "def compose_rus_aug_ds(df_orig, df_aug):\n",
        "    rus_df = df_orig.copy()\n",
        "    rus_df.other_speaker = df_aug.true_other_speaker\n",
        "    rus_df.friend_response = df_aug.true_friend_response\n",
        "    return rus_df\n",
        "df_train_eng = compose_eng_ds(df_train, df_train_aug)\n",
        "df_val_eng = compose_eng_ds(df_val, df_val_aug)\n",
        "df_test_eng = compose_eng_ds(df_test, df_test_aug)\n",
        "\n",
        "df_train_true_rus = compose_rus_aug_ds(df_train, df_train_aug)\n",
        "df_val_true_rus = compose_rus_aug_ds(df_val, df_val_aug)\n",
        "df_test_true_rus = compose_rus_aug_ds(df_test, df_test_aug)"
      ],
      "execution_count": 25,
      "outputs": []
    },
    {
      "cell_type": "code",
      "metadata": {
        "id": "gxtZ7lE7QXcE"
      },
      "source": [
        "if not os.path.exists('english'): \n",
        "    os.mkdir('english')\n",
        "df_train_eng.to_csv('english/df_train_eng.csv')\n",
        "df_val_eng.to_csv('english/df_val_eng.csv')\n",
        "df_test_eng.to_csv('english/df_test_eng.csv')\n",
        "\n",
        "if not os.path.exists('russian_true'): \n",
        "    os.mkdir('russian_true')\n",
        "df_train_true_rus.to_csv('russian_true/df_train_true_rus.csv')\n",
        "df_val_true_rus.to_csv('russian_true/df_val_true_rus.csv')\n",
        "df_test_true_rus.to_csv('russian_true/df_test_true_rus.csv')"
      ],
      "execution_count": 26,
      "outputs": []
    },
    {
      "cell_type": "code",
      "metadata": {
        "id": "2wbxG1ECfbBL",
        "colab": {
          "base_uri": "https://localhost:8080/",
          "height": 35
        },
        "outputId": "4531e3b1-dd1c-4053-ebe0-ab28d27b1050"
      },
      "source": [
        "shutil.make_archive('english', 'zip', 'english')\n",
        "shutil.make_archive('russian_true', 'zip', 'russian_true')"
      ],
      "execution_count": 27,
      "outputs": [
        {
          "output_type": "execute_result",
          "data": {
            "application/vnd.google.colaboratory.intrinsic+json": {
              "type": "string"
            },
            "text/plain": [
              "'/content/friends-classification/russian_true.zip'"
            ]
          },
          "metadata": {},
          "execution_count": 27
        }
      ]
    },
    {
      "cell_type": "code",
      "metadata": {
        "colab": {
          "base_uri": "https://localhost:8080/",
          "height": 424
        },
        "id": "Oyl4LzM7XC8J",
        "outputId": "2e3fe32e-d10c-4c34-80b0-e770861bfdc7"
      },
      "source": [
        "df_val_eng"
      ],
      "execution_count": 28,
      "outputs": [
        {
          "output_type": "execute_result",
          "data": {
            "text/html": [
              "<div>\n",
              "<style scoped>\n",
              "    .dataframe tbody tr th:only-of-type {\n",
              "        vertical-align: middle;\n",
              "    }\n",
              "\n",
              "    .dataframe tbody tr th {\n",
              "        vertical-align: top;\n",
              "    }\n",
              "\n",
              "    .dataframe thead th {\n",
              "        text-align: right;\n",
              "    }\n",
              "</style>\n",
              "<table border=\"1\" class=\"dataframe\">\n",
              "  <thead>\n",
              "    <tr style=\"text-align: right;\">\n",
              "      <th></th>\n",
              "      <th>Id</th>\n",
              "      <th>other_speaker</th>\n",
              "      <th>friend_response</th>\n",
              "      <th>label</th>\n",
              "    </tr>\n",
              "  </thead>\n",
              "  <tbody>\n",
              "    <tr>\n",
              "      <th>0</th>\n",
              "      <td>0</td>\n",
              "      <td>All right, so are we not having dinner at all?</td>\n",
              "      <td>Come on Phoebe, let's go! Come on, it's time t...</td>\n",
              "      <td>МОНИКА</td>\n",
              "    </tr>\n",
              "    <tr>\n",
              "      <th>1</th>\n",
              "      <td>1</td>\n",
              "      <td>Okay, okay look, I know I'm being Mr. Inapprop...</td>\n",
              "      <td>All right that's, that's it! Get off her!</td>\n",
              "      <td>РОСС</td>\n",
              "    </tr>\n",
              "    <tr>\n",
              "      <th>2</th>\n",
              "      <td>2</td>\n",
              "      <td>Yeah. So yknow, I have all of these feelings ...</td>\n",
              "      <td>Good, I uh, I saw a pretty big pigeon.</td>\n",
              "      <td>ДЖОУИ</td>\n",
              "    </tr>\n",
              "    <tr>\n",
              "      <th>3</th>\n",
              "      <td>3</td>\n",
              "      <td>Yeah, I thought I had one a couple of minutes ...</td>\n",
              "      <td>Wait, you can't have the baby here! I mean I h...</td>\n",
              "      <td>МОНИКА</td>\n",
              "    </tr>\n",
              "    <tr>\n",
              "      <th>4</th>\n",
              "      <td>4</td>\n",
              "      <td>Not like him, per-se, just not un-like him.</td>\n",
              "      <td>Look it's the artist formerly known as Chandler.</td>\n",
              "      <td>РОСС</td>\n",
              "    </tr>\n",
              "    <tr>\n",
              "      <th>...</th>\n",
              "      <td>...</td>\n",
              "      <td>...</td>\n",
              "      <td>...</td>\n",
              "      <td>...</td>\n",
              "    </tr>\n",
              "    <tr>\n",
              "      <th>2773</th>\n",
              "      <td>2773</td>\n",
              "      <td>What's tonight?</td>\n",
              "      <td>It is our first official date. Our first date.</td>\n",
              "      <td>РЕЙЧЕЛ</td>\n",
              "    </tr>\n",
              "    <tr>\n",
              "      <th>2774</th>\n",
              "      <td>2774</td>\n",
              "      <td>Whoa-whoa, aren’t you a little over dressed?</td>\n",
              "      <td>Yeah, and-and you better make sure he tips you...</td>\n",
              "      <td>РЕЙЧЕЛ</td>\n",
              "    </tr>\n",
              "    <tr>\n",
              "      <th>2775</th>\n",
              "      <td>2775</td>\n",
              "      <td>You weren't there!</td>\n",
              "      <td>No, but, it's, you know, it's just a funny ima...</td>\n",
              "      <td>РОСС</td>\n",
              "    </tr>\n",
              "    <tr>\n",
              "      <th>2776</th>\n",
              "      <td>2776</td>\n",
              "      <td>You’re on the phone!</td>\n",
              "      <td>Oh my God! Oh my God! Thank you! That was the ...</td>\n",
              "      <td>РЕЙЧЕЛ</td>\n",
              "    </tr>\n",
              "    <tr>\n",
              "      <th>2777</th>\n",
              "      <td>2777</td>\n",
              "      <td>Sorry.</td>\n",
              "      <td>Here. At least I made ten bucks in my relation...</td>\n",
              "      <td>РОСС</td>\n",
              "    </tr>\n",
              "  </tbody>\n",
              "</table>\n",
              "<p>2778 rows × 4 columns</p>\n",
              "</div>"
            ],
            "text/plain": [
              "        Id  ...   label\n",
              "0        0  ...  МОНИКА\n",
              "1        1  ...    РОСС\n",
              "2        2  ...   ДЖОУИ\n",
              "3        3  ...  МОНИКА\n",
              "4        4  ...    РОСС\n",
              "...    ...  ...     ...\n",
              "2773  2773  ...  РЕЙЧЕЛ\n",
              "2774  2774  ...  РЕЙЧЕЛ\n",
              "2775  2775  ...    РОСС\n",
              "2776  2776  ...  РЕЙЧЕЛ\n",
              "2777  2777  ...    РОСС\n",
              "\n",
              "[2778 rows x 4 columns]"
            ]
          },
          "metadata": {},
          "execution_count": 28
        }
      ]
    },
    {
      "cell_type": "code",
      "metadata": {
        "colab": {
          "base_uri": "https://localhost:8080/",
          "height": 424
        },
        "id": "ZN10jgTvXR3w",
        "outputId": "d3942268-318f-4348-afb7-75be251f3ccd"
      },
      "source": [
        "df_val"
      ],
      "execution_count": 29,
      "outputs": [
        {
          "output_type": "execute_result",
          "data": {
            "text/html": [
              "<div>\n",
              "<style scoped>\n",
              "    .dataframe tbody tr th:only-of-type {\n",
              "        vertical-align: middle;\n",
              "    }\n",
              "\n",
              "    .dataframe tbody tr th {\n",
              "        vertical-align: top;\n",
              "    }\n",
              "\n",
              "    .dataframe thead th {\n",
              "        text-align: right;\n",
              "    }\n",
              "</style>\n",
              "<table border=\"1\" class=\"dataframe\">\n",
              "  <thead>\n",
              "    <tr style=\"text-align: right;\">\n",
              "      <th></th>\n",
              "      <th>Id</th>\n",
              "      <th>other_speaker</th>\n",
              "      <th>friend_response</th>\n",
              "      <th>label</th>\n",
              "    </tr>\n",
              "  </thead>\n",
              "  <tbody>\n",
              "    <tr>\n",
              "      <th>0</th>\n",
              "      <td>0</td>\n",
              "      <td>Ладно, а мы вообще не обедаем?</td>\n",
              "      <td>Давай, пора стать серьезным, сбиться с толку. ...</td>\n",
              "      <td>МОНИКА</td>\n",
              "    </tr>\n",
              "    <tr>\n",
              "      <th>1</th>\n",
              "      <td>1</td>\n",
              "      <td>Ладно, ладно, послушай, я знаю, что сегодня ве...</td>\n",
              "      <td>Ладно, вот и все! Слезь с нее!</td>\n",
              "      <td>РОСС</td>\n",
              "    </tr>\n",
              "    <tr>\n",
              "      <th>2</th>\n",
              "      <td>2</td>\n",
              "      <td>Ага. Знаешь, у меня есть все эти чувства, и я ...</td>\n",
              "      <td>Хорошо, я видела довольно большого голубя.</td>\n",
              "      <td>ДЖОУИ</td>\n",
              "    </tr>\n",
              "    <tr>\n",
              "      <th>3</th>\n",
              "      <td>3</td>\n",
              "      <td>Боже мой! один пару минут назад, а теперь я.</td>\n",
              "      <td>Постой, ты не можешь здесь рожать! То есть я н...</td>\n",
              "      <td>МОНИКА</td>\n",
              "    </tr>\n",
              "    <tr>\n",
              "      <th>4</th>\n",
              "      <td>4</td>\n",
              "      <td>Не такой, как он сам по себе, просто не такой,...</td>\n",
              "      <td>Посмотрите, это художник, ранее известный как ...</td>\n",
              "      <td>РОСС</td>\n",
              "    </tr>\n",
              "    <tr>\n",
              "      <th>...</th>\n",
              "      <td>...</td>\n",
              "      <td>...</td>\n",
              "      <td>...</td>\n",
              "      <td>...</td>\n",
              "    </tr>\n",
              "    <tr>\n",
              "      <th>2773</th>\n",
              "      <td>2773</td>\n",
              "      <td>Что сегодня вечером?</td>\n",
              "      <td>Это наше первое официальное свидание. Наше пер...</td>\n",
              "      <td>РЕЙЧЕЛ</td>\n",
              "    </tr>\n",
              "    <tr>\n",
              "      <th>2774</th>\n",
              "      <td>2774</td>\n",
              "      <td>Эй, а ты не переоделась?</td>\n",
              "      <td>Да, и на этот раз вам лучше убедиться, что он ...</td>\n",
              "      <td>РЕЙЧЕЛ</td>\n",
              "    </tr>\n",
              "    <tr>\n",
              "      <th>2775</th>\n",
              "      <td>2775</td>\n",
              "      <td>Тебя там не было!</td>\n",
              "      <td>Нет, но это, знаете, просто забавная картинка,...</td>\n",
              "      <td>РОСС</td>\n",
              "    </tr>\n",
              "    <tr>\n",
              "      <th>2776</th>\n",
              "      <td>2776</td>\n",
              "      <td>Вы говорите по телефону!</td>\n",
              "      <td>Это была пожарная часть, у нас пожар был!</td>\n",
              "      <td>РЕЙЧЕЛ</td>\n",
              "    </tr>\n",
              "    <tr>\n",
              "      <th>2777</th>\n",
              "      <td>2777</td>\n",
              "      <td>Извините.</td>\n",
              "      <td>По крайней мере, я заработал десять долларов н...</td>\n",
              "      <td>РОСС</td>\n",
              "    </tr>\n",
              "  </tbody>\n",
              "</table>\n",
              "<p>2778 rows × 4 columns</p>\n",
              "</div>"
            ],
            "text/plain": [
              "        Id  ...   label\n",
              "0        0  ...  МОНИКА\n",
              "1        1  ...    РОСС\n",
              "2        2  ...   ДЖОУИ\n",
              "3        3  ...  МОНИКА\n",
              "4        4  ...    РОСС\n",
              "...    ...  ...     ...\n",
              "2773  2773  ...  РЕЙЧЕЛ\n",
              "2774  2774  ...  РЕЙЧЕЛ\n",
              "2775  2775  ...    РОСС\n",
              "2776  2776  ...  РЕЙЧЕЛ\n",
              "2777  2777  ...    РОСС\n",
              "\n",
              "[2778 rows x 4 columns]"
            ]
          },
          "metadata": {},
          "execution_count": 29
        }
      ]
    },
    {
      "cell_type": "code",
      "metadata": {
        "id": "jIgSh8_sXXgm"
      },
      "source": [
        ""
      ],
      "execution_count": null,
      "outputs": []
    }
  ]
}